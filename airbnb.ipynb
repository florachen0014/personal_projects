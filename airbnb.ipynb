{
 "cells": [
  {
   "cell_type": "markdown",
   "metadata": {},
   "source": [
    "<h1><center>Airbnb A/B Testing</center></h1>"
   ]
  },
  {
   "cell_type": "markdown",
   "metadata": {},
   "source": [
    "## 1. Data Preparation"
   ]
  },
  {
   "cell_type": "markdown",
   "metadata": {},
   "source": [
    "### 1.1 Import Libraries\n",
    "<b>Data Analysis</b>\n",
    "<ul>\n",
    "    <li>numpy</li>\n",
    "    <li>pandas</li>\n",
    "    <li>matplotlib</li>\n",
    "    <li>seaborn</li>\n",
    "</ul>"
   ]
  },
  {
   "cell_type": "code",
   "execution_count": 1,
   "metadata": {},
   "outputs": [],
   "source": [
    "import pandas as pd\n",
    "import numpy as np\n",
    "import matplotlib.pyplot as plt\n",
    "import seaborn as sns\n",
    "\n",
    "sns.set(style='whitegrid', font_scale=1.5)"
   ]
  },
  {
   "cell_type": "markdown",
   "metadata": {},
   "source": [
    "### 1.2 Load & Check Data"
   ]
  },
  {
   "cell_type": "markdown",
   "metadata": {},
   "source": [
    "#### Check the assignment data"
   ]
  },
  {
   "cell_type": "code",
   "execution_count": 2,
   "metadata": {
    "scrolled": true
   },
   "outputs": [
    {
     "data": {
      "text/html": [
       "<div>\n",
       "<style scoped>\n",
       "    .dataframe tbody tr th:only-of-type {\n",
       "        vertical-align: middle;\n",
       "    }\n",
       "\n",
       "    .dataframe tbody tr th {\n",
       "        vertical-align: top;\n",
       "    }\n",
       "\n",
       "    .dataframe thead th {\n",
       "        text-align: right;\n",
       "    }\n",
       "</style>\n",
       "<table border=\"1\" class=\"dataframe\">\n",
       "  <thead>\n",
       "    <tr style=\"text-align: right;\">\n",
       "      <th></th>\n",
       "      <th>id_user</th>\n",
       "      <th>ab</th>\n",
       "    </tr>\n",
       "  </thead>\n",
       "  <tbody>\n",
       "    <tr>\n",
       "      <th>0</th>\n",
       "      <td>f966752c-8533-48b2-af6f-8c6797d2b247</td>\n",
       "      <td>treatment</td>\n",
       "    </tr>\n",
       "    <tr>\n",
       "      <th>1</th>\n",
       "      <td>873f93fb-234c-4cfb-83c7-27ff0e582a8e</td>\n",
       "      <td>treatment</td>\n",
       "    </tr>\n",
       "    <tr>\n",
       "      <th>2</th>\n",
       "      <td>7308791e-04c3-416a-be2d-4188816decc2</td>\n",
       "      <td>control</td>\n",
       "    </tr>\n",
       "    <tr>\n",
       "      <th>3</th>\n",
       "      <td>097c48a4-f4b6-4870-bf29-370e33de868e</td>\n",
       "      <td>control</td>\n",
       "    </tr>\n",
       "    <tr>\n",
       "      <th>4</th>\n",
       "      <td>6ff7a902-541b-4eee-ace4-673262b95a94</td>\n",
       "      <td>control</td>\n",
       "    </tr>\n",
       "  </tbody>\n",
       "</table>\n",
       "</div>"
      ],
      "text/plain": [
       "                                id_user         ab\n",
       "0  f966752c-8533-48b2-af6f-8c6797d2b247  treatment\n",
       "1  873f93fb-234c-4cfb-83c7-27ff0e582a8e  treatment\n",
       "2  7308791e-04c3-416a-be2d-4188816decc2    control\n",
       "3  097c48a4-f4b6-4870-bf29-370e33de868e    control\n",
       "4  6ff7a902-541b-4eee-ace4-673262b95a94    control"
      ]
     },
     "execution_count": 2,
     "metadata": {},
     "output_type": "execute_result"
    }
   ],
   "source": [
    "df_a = pd.read_csv('assignments.csv')\n",
    "df_a.head()"
   ]
  },
  {
   "cell_type": "markdown",
   "metadata": {},
   "source": [
    "#### Check data type, categorical variables, null values"
   ]
  },
  {
   "cell_type": "code",
   "execution_count": 3,
   "metadata": {},
   "outputs": [
    {
     "name": "stdout",
     "output_type": "stream",
     "text": [
      "<class 'pandas.core.frame.DataFrame'>\n",
      "RangeIndex: 10000 entries, 0 to 9999\n",
      "Data columns (total 2 columns):\n",
      " #   Column   Non-Null Count  Dtype \n",
      "---  ------   --------------  ----- \n",
      " 0   id_user  10000 non-null  object\n",
      " 1   ab       10000 non-null  object\n",
      "dtypes: object(2)\n",
      "memory usage: 156.4+ KB\n"
     ]
    }
   ],
   "source": [
    "df_a.info()"
   ]
  },
  {
   "cell_type": "markdown",
   "metadata": {},
   "source": [
    "There are no null values in this dataset."
   ]
  },
  {
   "cell_type": "code",
   "execution_count": 4,
   "metadata": {},
   "outputs": [
    {
     "data": {
      "text/html": [
       "<div>\n",
       "<style scoped>\n",
       "    .dataframe tbody tr th:only-of-type {\n",
       "        vertical-align: middle;\n",
       "    }\n",
       "\n",
       "    .dataframe tbody tr th {\n",
       "        vertical-align: top;\n",
       "    }\n",
       "\n",
       "    .dataframe thead th {\n",
       "        text-align: right;\n",
       "    }\n",
       "</style>\n",
       "<table border=\"1\" class=\"dataframe\">\n",
       "  <thead>\n",
       "    <tr style=\"text-align: right;\">\n",
       "      <th></th>\n",
       "      <th>count</th>\n",
       "      <th>unique</th>\n",
       "      <th>top</th>\n",
       "      <th>freq</th>\n",
       "    </tr>\n",
       "  </thead>\n",
       "  <tbody>\n",
       "    <tr>\n",
       "      <th>id_user</th>\n",
       "      <td>10000</td>\n",
       "      <td>9094</td>\n",
       "      <td>ae290fb1-f0ce-4589-908c-d74525f0bc78</td>\n",
       "      <td>7</td>\n",
       "    </tr>\n",
       "    <tr>\n",
       "      <th>ab</th>\n",
       "      <td>10000</td>\n",
       "      <td>2</td>\n",
       "      <td>control</td>\n",
       "      <td>5007</td>\n",
       "    </tr>\n",
       "  </tbody>\n",
       "</table>\n",
       "</div>"
      ],
      "text/plain": [
       "         count unique                                   top  freq\n",
       "id_user  10000   9094  ae290fb1-f0ce-4589-908c-d74525f0bc78     7\n",
       "ab       10000      2                               control  5007"
      ]
     },
     "execution_count": 4,
     "metadata": {},
     "output_type": "execute_result"
    }
   ],
   "source": [
    "df_a.describe(include='all').T"
   ]
  },
  {
   "cell_type": "markdown",
   "metadata": {},
   "source": [
    "The ab column, which represents ab testing group, only has 2 values and is a categorical variable.<br>\n",
    "However, there are only 9094 unique user ids where as there are 10000 entries. There are possibly duplicates in the dataset.<br>\n",
    "Remove the duplicates in the data first."
   ]
  },
  {
   "cell_type": "code",
   "execution_count": 5,
   "metadata": {},
   "outputs": [
    {
     "data": {
      "text/plain": [
       "control      5007\n",
       "treatment    4993\n",
       "Name: ab, dtype: int64"
      ]
     },
     "execution_count": 5,
     "metadata": {},
     "output_type": "execute_result"
    }
   ],
   "source": [
    "df_a.ab.value_counts()"
   ]
  },
  {
   "cell_type": "markdown",
   "metadata": {},
   "source": [
    "The values of the ab column are control and treatment."
   ]
  },
  {
   "cell_type": "markdown",
   "metadata": {},
   "source": [
    "#### Check for duplicated entries"
   ]
  },
  {
   "cell_type": "code",
   "execution_count": 6,
   "metadata": {},
   "outputs": [
    {
     "data": {
      "text/html": [
       "<div>\n",
       "<style scoped>\n",
       "    .dataframe tbody tr th:only-of-type {\n",
       "        vertical-align: middle;\n",
       "    }\n",
       "\n",
       "    .dataframe tbody tr th {\n",
       "        vertical-align: top;\n",
       "    }\n",
       "\n",
       "    .dataframe thead th {\n",
       "        text-align: right;\n",
       "    }\n",
       "</style>\n",
       "<table border=\"1\" class=\"dataframe\">\n",
       "  <thead>\n",
       "    <tr style=\"text-align: right;\">\n",
       "      <th></th>\n",
       "      <th>id_user</th>\n",
       "      <th>ab</th>\n",
       "    </tr>\n",
       "  </thead>\n",
       "  <tbody>\n",
       "    <tr>\n",
       "      <th>18</th>\n",
       "      <td>ee0a90f6-e3f5-4b54-8c44-50dcded92f08</td>\n",
       "      <td>treatment</td>\n",
       "    </tr>\n",
       "    <tr>\n",
       "      <th>34</th>\n",
       "      <td>e60f8fbe-3194-48cb-a2ab-e197d00f71aa</td>\n",
       "      <td>treatment</td>\n",
       "    </tr>\n",
       "    <tr>\n",
       "      <th>264</th>\n",
       "      <td>36be1254-70e1-4433-89af-6bf0fa0d12ec</td>\n",
       "      <td>treatment</td>\n",
       "    </tr>\n",
       "    <tr>\n",
       "      <th>325</th>\n",
       "      <td>9780488f-efc6-4b00-ab3c-bb7f2b8281c7</td>\n",
       "      <td>control</td>\n",
       "    </tr>\n",
       "    <tr>\n",
       "      <th>354</th>\n",
       "      <td>3d7a1148-04c3-45a1-ac2a-763f34314ebe</td>\n",
       "      <td>treatment</td>\n",
       "    </tr>\n",
       "    <tr>\n",
       "      <th>...</th>\n",
       "      <td>...</td>\n",
       "      <td>...</td>\n",
       "    </tr>\n",
       "    <tr>\n",
       "      <th>9953</th>\n",
       "      <td>c13e0d8d-6a30-41b2-aa80-21b3d1d5f403</td>\n",
       "      <td>control</td>\n",
       "    </tr>\n",
       "    <tr>\n",
       "      <th>9965</th>\n",
       "      <td>5d1b2728-3992-4cca-85d7-f0e25d174124</td>\n",
       "      <td>treatment</td>\n",
       "    </tr>\n",
       "    <tr>\n",
       "      <th>9968</th>\n",
       "      <td>2b0c2a3c-99af-44b9-bf7e-b4f94cfb5bff</td>\n",
       "      <td>treatment</td>\n",
       "    </tr>\n",
       "    <tr>\n",
       "      <th>9987</th>\n",
       "      <td>ebd6a873-7338-48d0-aa70-54963afe5079</td>\n",
       "      <td>treatment</td>\n",
       "    </tr>\n",
       "    <tr>\n",
       "      <th>9991</th>\n",
       "      <td>8ec5765e-8322-4b69-bdf0-3c97dc1d05f6</td>\n",
       "      <td>control</td>\n",
       "    </tr>\n",
       "  </tbody>\n",
       "</table>\n",
       "<p>513 rows × 2 columns</p>\n",
       "</div>"
      ],
      "text/plain": [
       "                                   id_user         ab\n",
       "18    ee0a90f6-e3f5-4b54-8c44-50dcded92f08  treatment\n",
       "34    e60f8fbe-3194-48cb-a2ab-e197d00f71aa  treatment\n",
       "264   36be1254-70e1-4433-89af-6bf0fa0d12ec  treatment\n",
       "325   9780488f-efc6-4b00-ab3c-bb7f2b8281c7    control\n",
       "354   3d7a1148-04c3-45a1-ac2a-763f34314ebe  treatment\n",
       "...                                    ...        ...\n",
       "9953  c13e0d8d-6a30-41b2-aa80-21b3d1d5f403    control\n",
       "9965  5d1b2728-3992-4cca-85d7-f0e25d174124  treatment\n",
       "9968  2b0c2a3c-99af-44b9-bf7e-b4f94cfb5bff  treatment\n",
       "9987  ebd6a873-7338-48d0-aa70-54963afe5079  treatment\n",
       "9991  8ec5765e-8322-4b69-bdf0-3c97dc1d05f6    control\n",
       "\n",
       "[513 rows x 2 columns]"
      ]
     },
     "execution_count": 6,
     "metadata": {},
     "output_type": "execute_result"
    }
   ],
   "source": [
    "df_a[df_a.duplicated(keep='first')]"
   ]
  },
  {
   "cell_type": "markdown",
   "metadata": {},
   "source": [
    "There are 513 rows of duplicated entries."
   ]
  },
  {
   "cell_type": "code",
   "execution_count": 7,
   "metadata": {},
   "outputs": [],
   "source": [
    "df_a = df_a.drop_duplicates(keep='first')"
   ]
  },
  {
   "cell_type": "code",
   "execution_count": 8,
   "metadata": {},
   "outputs": [
    {
     "name": "stdout",
     "output_type": "stream",
     "text": [
      "<class 'pandas.core.frame.DataFrame'>\n",
      "Int64Index: 9487 entries, 0 to 9999\n",
      "Data columns (total 2 columns):\n",
      " #   Column   Non-Null Count  Dtype \n",
      "---  ------   --------------  ----- \n",
      " 0   id_user  9487 non-null   object\n",
      " 1   ab       9487 non-null   object\n",
      "dtypes: object(2)\n",
      "memory usage: 222.4+ KB\n",
      "None\n"
     ]
    },
    {
     "data": {
      "text/html": [
       "<div>\n",
       "<style scoped>\n",
       "    .dataframe tbody tr th:only-of-type {\n",
       "        vertical-align: middle;\n",
       "    }\n",
       "\n",
       "    .dataframe tbody tr th {\n",
       "        vertical-align: top;\n",
       "    }\n",
       "\n",
       "    .dataframe thead th {\n",
       "        text-align: right;\n",
       "    }\n",
       "</style>\n",
       "<table border=\"1\" class=\"dataframe\">\n",
       "  <thead>\n",
       "    <tr style=\"text-align: right;\">\n",
       "      <th></th>\n",
       "      <th>id_user</th>\n",
       "      <th>ab</th>\n",
       "    </tr>\n",
       "  </thead>\n",
       "  <tbody>\n",
       "    <tr>\n",
       "      <th>count</th>\n",
       "      <td>9487</td>\n",
       "      <td>9487</td>\n",
       "    </tr>\n",
       "    <tr>\n",
       "      <th>unique</th>\n",
       "      <td>9094</td>\n",
       "      <td>2</td>\n",
       "    </tr>\n",
       "    <tr>\n",
       "      <th>top</th>\n",
       "      <td>1cb723dc-bb1b-4f42-a4f4-48028e31dc9c</td>\n",
       "      <td>treatment</td>\n",
       "    </tr>\n",
       "    <tr>\n",
       "      <th>freq</th>\n",
       "      <td>2</td>\n",
       "      <td>4745</td>\n",
       "    </tr>\n",
       "  </tbody>\n",
       "</table>\n",
       "</div>"
      ],
      "text/plain": [
       "                                     id_user         ab\n",
       "count                                   9487       9487\n",
       "unique                                  9094          2\n",
       "top     1cb723dc-bb1b-4f42-a4f4-48028e31dc9c  treatment\n",
       "freq                                       2       4745"
      ]
     },
     "execution_count": 8,
     "metadata": {},
     "output_type": "execute_result"
    }
   ],
   "source": [
    "print(df_a.info())\n",
    "df_a.describe()"
   ]
  },
  {
   "cell_type": "markdown",
   "metadata": {},
   "source": [
    "There are still 9487 rows of entries, while there are only 9094 unique ids.<br>\n",
    "It is possible that some user ids are placed in both the control and treatment groups."
   ]
  },
  {
   "cell_type": "code",
   "execution_count": 9,
   "metadata": {
    "scrolled": false
   },
   "outputs": [
    {
     "data": {
      "text/html": [
       "<div>\n",
       "<style scoped>\n",
       "    .dataframe tbody tr th:only-of-type {\n",
       "        vertical-align: middle;\n",
       "    }\n",
       "\n",
       "    .dataframe tbody tr th {\n",
       "        vertical-align: top;\n",
       "    }\n",
       "\n",
       "    .dataframe thead th {\n",
       "        text-align: right;\n",
       "    }\n",
       "</style>\n",
       "<table border=\"1\" class=\"dataframe\">\n",
       "  <thead>\n",
       "    <tr style=\"text-align: right;\">\n",
       "      <th></th>\n",
       "      <th>ab</th>\n",
       "    </tr>\n",
       "    <tr>\n",
       "      <th>id_user</th>\n",
       "      <th></th>\n",
       "    </tr>\n",
       "  </thead>\n",
       "  <tbody>\n",
       "    <tr>\n",
       "      <th>0000d66b-1872-4605-9244-24d5936e221c</th>\n",
       "      <td>1</td>\n",
       "    </tr>\n",
       "    <tr>\n",
       "      <th>0001b13e-421a-47c8-baaa-48d1a740e784</th>\n",
       "      <td>2</td>\n",
       "    </tr>\n",
       "    <tr>\n",
       "      <th>000df180-89b7-45c4-a738-15f6962a101d</th>\n",
       "      <td>1</td>\n",
       "    </tr>\n",
       "    <tr>\n",
       "      <th>0018de9a-7ef1-4c02-ab10-c85b8d44bcdf</th>\n",
       "      <td>1</td>\n",
       "    </tr>\n",
       "    <tr>\n",
       "      <th>001b411e-56cd-4b6d-a6de-92360d6d367e</th>\n",
       "      <td>1</td>\n",
       "    </tr>\n",
       "    <tr>\n",
       "      <th>...</th>\n",
       "      <td>...</td>\n",
       "    </tr>\n",
       "    <tr>\n",
       "      <th>ffdab471-08db-40cb-a56a-6b30915dab7f</th>\n",
       "      <td>1</td>\n",
       "    </tr>\n",
       "    <tr>\n",
       "      <th>ffe15107-dce4-4f79-8fb8-d31f58e5ca4d</th>\n",
       "      <td>1</td>\n",
       "    </tr>\n",
       "    <tr>\n",
       "      <th>ffee6c24-244d-428f-884b-edb252e94d48</th>\n",
       "      <td>1</td>\n",
       "    </tr>\n",
       "    <tr>\n",
       "      <th>ffff1ad3-a930-4c8a-af53-66979a142848</th>\n",
       "      <td>1</td>\n",
       "    </tr>\n",
       "    <tr>\n",
       "      <th>ffffc84e-883e-4ac7-bb24-f713dc61d891</th>\n",
       "      <td>1</td>\n",
       "    </tr>\n",
       "  </tbody>\n",
       "</table>\n",
       "<p>9094 rows × 1 columns</p>\n",
       "</div>"
      ],
      "text/plain": [
       "                                      ab\n",
       "id_user                                 \n",
       "0000d66b-1872-4605-9244-24d5936e221c   1\n",
       "0001b13e-421a-47c8-baaa-48d1a740e784   2\n",
       "000df180-89b7-45c4-a738-15f6962a101d   1\n",
       "0018de9a-7ef1-4c02-ab10-c85b8d44bcdf   1\n",
       "001b411e-56cd-4b6d-a6de-92360d6d367e   1\n",
       "...                                   ..\n",
       "ffdab471-08db-40cb-a56a-6b30915dab7f   1\n",
       "ffe15107-dce4-4f79-8fb8-d31f58e5ca4d   1\n",
       "ffee6c24-244d-428f-884b-edb252e94d48   1\n",
       "ffff1ad3-a930-4c8a-af53-66979a142848   1\n",
       "ffffc84e-883e-4ac7-bb24-f713dc61d891   1\n",
       "\n",
       "[9094 rows x 1 columns]"
      ]
     },
     "execution_count": 9,
     "metadata": {},
     "output_type": "execute_result"
    }
   ],
   "source": [
    "df_a_pivot = df_a.pivot_table(index='id_user', aggfunc='count')\n",
    "df_a_pivot"
   ]
  },
  {
   "cell_type": "markdown",
   "metadata": {},
   "source": [
    "Some ids occur twice in the assignments dataset. If they are not removed by dropping duplicates, they must have different assignments."
   ]
  },
  {
   "cell_type": "code",
   "execution_count": 10,
   "metadata": {},
   "outputs": [
    {
     "data": {
      "text/html": [
       "<div>\n",
       "<style scoped>\n",
       "    .dataframe tbody tr th:only-of-type {\n",
       "        vertical-align: middle;\n",
       "    }\n",
       "\n",
       "    .dataframe tbody tr th {\n",
       "        vertical-align: top;\n",
       "    }\n",
       "\n",
       "    .dataframe thead th {\n",
       "        text-align: right;\n",
       "    }\n",
       "</style>\n",
       "<table border=\"1\" class=\"dataframe\">\n",
       "  <thead>\n",
       "    <tr style=\"text-align: right;\">\n",
       "      <th></th>\n",
       "      <th>ab</th>\n",
       "    </tr>\n",
       "    <tr>\n",
       "      <th>id_user</th>\n",
       "      <th></th>\n",
       "    </tr>\n",
       "  </thead>\n",
       "  <tbody>\n",
       "    <tr>\n",
       "      <th>0001b13e-421a-47c8-baaa-48d1a740e784</th>\n",
       "      <td>2</td>\n",
       "    </tr>\n",
       "    <tr>\n",
       "      <th>017d6a7b-5985-4dc7-b1eb-322a6a3dc9e3</th>\n",
       "      <td>2</td>\n",
       "    </tr>\n",
       "    <tr>\n",
       "      <th>02c1787a-01ab-490e-af01-934f3d001467</th>\n",
       "      <td>2</td>\n",
       "    </tr>\n",
       "    <tr>\n",
       "      <th>03e5ce87-83ab-42fd-96fb-18effa1e1886</th>\n",
       "      <td>2</td>\n",
       "    </tr>\n",
       "    <tr>\n",
       "      <th>05359594-c91f-4e9f-afee-18e6ae8866f8</th>\n",
       "      <td>2</td>\n",
       "    </tr>\n",
       "    <tr>\n",
       "      <th>...</th>\n",
       "      <td>...</td>\n",
       "    </tr>\n",
       "    <tr>\n",
       "      <th>fcdc53d6-7f18-4576-9f5a-5b30b5600a04</th>\n",
       "      <td>2</td>\n",
       "    </tr>\n",
       "    <tr>\n",
       "      <th>fdda3717-71b4-4781-b5d1-ad1cc92495a0</th>\n",
       "      <td>2</td>\n",
       "    </tr>\n",
       "    <tr>\n",
       "      <th>fe57b8f0-1fac-4cb9-8a67-2959bdedf06c</th>\n",
       "      <td>2</td>\n",
       "    </tr>\n",
       "    <tr>\n",
       "      <th>febc8f1f-de85-417a-bb0e-c0bee6a942fd</th>\n",
       "      <td>2</td>\n",
       "    </tr>\n",
       "    <tr>\n",
       "      <th>ffd47ed7-988b-4837-bea2-4ee04a6f7395</th>\n",
       "      <td>2</td>\n",
       "    </tr>\n",
       "  </tbody>\n",
       "</table>\n",
       "<p>393 rows × 1 columns</p>\n",
       "</div>"
      ],
      "text/plain": [
       "                                      ab\n",
       "id_user                                 \n",
       "0001b13e-421a-47c8-baaa-48d1a740e784   2\n",
       "017d6a7b-5985-4dc7-b1eb-322a6a3dc9e3   2\n",
       "02c1787a-01ab-490e-af01-934f3d001467   2\n",
       "03e5ce87-83ab-42fd-96fb-18effa1e1886   2\n",
       "05359594-c91f-4e9f-afee-18e6ae8866f8   2\n",
       "...                                   ..\n",
       "fcdc53d6-7f18-4576-9f5a-5b30b5600a04   2\n",
       "fdda3717-71b4-4781-b5d1-ad1cc92495a0   2\n",
       "fe57b8f0-1fac-4cb9-8a67-2959bdedf06c   2\n",
       "febc8f1f-de85-417a-bb0e-c0bee6a942fd   2\n",
       "ffd47ed7-988b-4837-bea2-4ee04a6f7395   2\n",
       "\n",
       "[393 rows x 1 columns]"
      ]
     },
     "execution_count": 10,
     "metadata": {},
     "output_type": "execute_result"
    }
   ],
   "source": [
    "df_a_pivot_filter = df_a_pivot.loc[df_a_pivot['ab']==2] # Select the users that have two assignments\n",
    "dup_id = df_a_pivot_filter.index\n",
    "df_a_pivot_filter"
   ]
  },
  {
   "cell_type": "markdown",
   "metadata": {},
   "source": [
    "Users simultaneously in both the control and treatment groups will affect the result of AB testing. Since there are only 393 users that are in both groups - which is a small fraction of the total 9094 users - it is safest to remove these users from the data."
   ]
  },
  {
   "cell_type": "code",
   "execution_count": 11,
   "metadata": {},
   "outputs": [
    {
     "data": {
      "text/html": [
       "<div>\n",
       "<style scoped>\n",
       "    .dataframe tbody tr th:only-of-type {\n",
       "        vertical-align: middle;\n",
       "    }\n",
       "\n",
       "    .dataframe tbody tr th {\n",
       "        vertical-align: top;\n",
       "    }\n",
       "\n",
       "    .dataframe thead th {\n",
       "        text-align: right;\n",
       "    }\n",
       "</style>\n",
       "<table border=\"1\" class=\"dataframe\">\n",
       "  <thead>\n",
       "    <tr style=\"text-align: right;\">\n",
       "      <th></th>\n",
       "      <th>id_user</th>\n",
       "      <th>ab</th>\n",
       "    </tr>\n",
       "  </thead>\n",
       "  <tbody>\n",
       "    <tr>\n",
       "      <th>0</th>\n",
       "      <td>f966752c-8533-48b2-af6f-8c6797d2b247</td>\n",
       "      <td>treatment</td>\n",
       "    </tr>\n",
       "    <tr>\n",
       "      <th>1</th>\n",
       "      <td>873f93fb-234c-4cfb-83c7-27ff0e582a8e</td>\n",
       "      <td>treatment</td>\n",
       "    </tr>\n",
       "    <tr>\n",
       "      <th>2</th>\n",
       "      <td>7308791e-04c3-416a-be2d-4188816decc2</td>\n",
       "      <td>control</td>\n",
       "    </tr>\n",
       "    <tr>\n",
       "      <th>3</th>\n",
       "      <td>097c48a4-f4b6-4870-bf29-370e33de868e</td>\n",
       "      <td>control</td>\n",
       "    </tr>\n",
       "    <tr>\n",
       "      <th>5</th>\n",
       "      <td>ff3d6a6a-7748-41f8-8a3f-fdc26ca21650</td>\n",
       "      <td>control</td>\n",
       "    </tr>\n",
       "    <tr>\n",
       "      <th>...</th>\n",
       "      <td>...</td>\n",
       "      <td>...</td>\n",
       "    </tr>\n",
       "    <tr>\n",
       "      <th>9995</th>\n",
       "      <td>6a72582e-c0c4-4f37-a824-186bde0b3d47</td>\n",
       "      <td>treatment</td>\n",
       "    </tr>\n",
       "    <tr>\n",
       "      <th>9996</th>\n",
       "      <td>d838c86d-fdbf-4a36-a57c-2d518c60ce92</td>\n",
       "      <td>treatment</td>\n",
       "    </tr>\n",
       "    <tr>\n",
       "      <th>9997</th>\n",
       "      <td>15da69de-49dd-4ba8-97d6-0919fdaf3834</td>\n",
       "      <td>control</td>\n",
       "    </tr>\n",
       "    <tr>\n",
       "      <th>9998</th>\n",
       "      <td>e6c5dd5d-5fef-4b16-a7e6-37fa8cee3b43</td>\n",
       "      <td>control</td>\n",
       "    </tr>\n",
       "    <tr>\n",
       "      <th>9999</th>\n",
       "      <td>62a2e3da-05a1-400f-853f-394ada92ea1b</td>\n",
       "      <td>control</td>\n",
       "    </tr>\n",
       "  </tbody>\n",
       "</table>\n",
       "<p>8701 rows × 2 columns</p>\n",
       "</div>"
      ],
      "text/plain": [
       "                                   id_user         ab\n",
       "0     f966752c-8533-48b2-af6f-8c6797d2b247  treatment\n",
       "1     873f93fb-234c-4cfb-83c7-27ff0e582a8e  treatment\n",
       "2     7308791e-04c3-416a-be2d-4188816decc2    control\n",
       "3     097c48a4-f4b6-4870-bf29-370e33de868e    control\n",
       "5     ff3d6a6a-7748-41f8-8a3f-fdc26ca21650    control\n",
       "...                                    ...        ...\n",
       "9995  6a72582e-c0c4-4f37-a824-186bde0b3d47  treatment\n",
       "9996  d838c86d-fdbf-4a36-a57c-2d518c60ce92  treatment\n",
       "9997  15da69de-49dd-4ba8-97d6-0919fdaf3834    control\n",
       "9998  e6c5dd5d-5fef-4b16-a7e6-37fa8cee3b43    control\n",
       "9999  62a2e3da-05a1-400f-853f-394ada92ea1b    control\n",
       "\n",
       "[8701 rows x 2 columns]"
      ]
     },
     "execution_count": 11,
     "metadata": {},
     "output_type": "execute_result"
    }
   ],
   "source": [
    "df_a_f = df_a.loc[~df_a['id_user'].isin(dup_id)]\n",
    "df_a_f"
   ]
  },
  {
   "cell_type": "code",
   "execution_count": 12,
   "metadata": {},
   "outputs": [
    {
     "name": "stdout",
     "output_type": "stream",
     "text": [
      "<class 'pandas.core.frame.DataFrame'>\n",
      "Int64Index: 8701 entries, 0 to 9999\n",
      "Data columns (total 2 columns):\n",
      " #   Column   Non-Null Count  Dtype \n",
      "---  ------   --------------  ----- \n",
      " 0   id_user  8701 non-null   object\n",
      " 1   ab       8701 non-null   object\n",
      "dtypes: object(2)\n",
      "memory usage: 203.9+ KB\n",
      "None\n"
     ]
    },
    {
     "data": {
      "text/html": [
       "<div>\n",
       "<style scoped>\n",
       "    .dataframe tbody tr th:only-of-type {\n",
       "        vertical-align: middle;\n",
       "    }\n",
       "\n",
       "    .dataframe tbody tr th {\n",
       "        vertical-align: top;\n",
       "    }\n",
       "\n",
       "    .dataframe thead th {\n",
       "        text-align: right;\n",
       "    }\n",
       "</style>\n",
       "<table border=\"1\" class=\"dataframe\">\n",
       "  <thead>\n",
       "    <tr style=\"text-align: right;\">\n",
       "      <th></th>\n",
       "      <th>id_user</th>\n",
       "      <th>ab</th>\n",
       "    </tr>\n",
       "  </thead>\n",
       "  <tbody>\n",
       "    <tr>\n",
       "      <th>count</th>\n",
       "      <td>8701</td>\n",
       "      <td>8701</td>\n",
       "    </tr>\n",
       "    <tr>\n",
       "      <th>unique</th>\n",
       "      <td>8701</td>\n",
       "      <td>2</td>\n",
       "    </tr>\n",
       "    <tr>\n",
       "      <th>top</th>\n",
       "      <td>6e5092b9-0807-4453-baa2-9c35c37fca15</td>\n",
       "      <td>treatment</td>\n",
       "    </tr>\n",
       "    <tr>\n",
       "      <th>freq</th>\n",
       "      <td>1</td>\n",
       "      <td>4352</td>\n",
       "    </tr>\n",
       "  </tbody>\n",
       "</table>\n",
       "</div>"
      ],
      "text/plain": [
       "                                     id_user         ab\n",
       "count                                   8701       8701\n",
       "unique                                  8701          2\n",
       "top     6e5092b9-0807-4453-baa2-9c35c37fca15  treatment\n",
       "freq                                       1       4352"
      ]
     },
     "execution_count": 12,
     "metadata": {},
     "output_type": "execute_result"
    }
   ],
   "source": [
    "print(df_a_f.info())\n",
    "df_a_f.describe(include='all')"
   ]
  },
  {
   "cell_type": "code",
   "execution_count": 13,
   "metadata": {},
   "outputs": [
    {
     "data": {
      "text/plain": [
       "treatment    4352\n",
       "control      4349\n",
       "Name: ab, dtype: int64"
      ]
     },
     "execution_count": 13,
     "metadata": {},
     "output_type": "execute_result"
    }
   ],
   "source": [
    "df_a_f['ab'].value_counts()"
   ]
  },
  {
   "cell_type": "markdown",
   "metadata": {},
   "source": [
    "The number of users in the treatment and control groups are about the same."
   ]
  },
  {
   "cell_type": "markdown",
   "metadata": {},
   "source": [
    "#### Check the contact data"
   ]
  },
  {
   "cell_type": "code",
   "execution_count": 14,
   "metadata": {
    "scrolled": false
   },
   "outputs": [
    {
     "data": {
      "text/html": [
       "<div>\n",
       "<style scoped>\n",
       "    .dataframe tbody tr th:only-of-type {\n",
       "        vertical-align: middle;\n",
       "    }\n",
       "\n",
       "    .dataframe tbody tr th {\n",
       "        vertical-align: top;\n",
       "    }\n",
       "\n",
       "    .dataframe thead th {\n",
       "        text-align: right;\n",
       "    }\n",
       "</style>\n",
       "<table border=\"1\" class=\"dataframe\">\n",
       "  <thead>\n",
       "    <tr style=\"text-align: right;\">\n",
       "      <th></th>\n",
       "      <th>id_guest</th>\n",
       "      <th>id_host</th>\n",
       "      <th>id_listing</th>\n",
       "      <th>ts_interaction_first</th>\n",
       "      <th>ts_reply_at_first</th>\n",
       "      <th>ts_accepted_at_first</th>\n",
       "      <th>ts_booking_at</th>\n",
       "      <th>dim_contact_channel</th>\n",
       "      <th>m_first_message_length</th>\n",
       "    </tr>\n",
       "  </thead>\n",
       "  <tbody>\n",
       "    <tr>\n",
       "      <th>0</th>\n",
       "      <td>f966752c-8533-48b2-af6f-8c6797d2b247</td>\n",
       "      <td>4405ab66-1c68-449b-abd9-1ad1892a6c4d</td>\n",
       "      <td>fe07e0c4-c317-44bc-a82d-5b599a248049</td>\n",
       "      <td>2013-01-01 23:04:35</td>\n",
       "      <td>2013-01-03 23:15:23.0</td>\n",
       "      <td>NaN</td>\n",
       "      <td>NaN</td>\n",
       "      <td>contact_me</td>\n",
       "      <td>230.0</td>\n",
       "    </tr>\n",
       "    <tr>\n",
       "      <th>1</th>\n",
       "      <td>873f93fb-234c-4cfb-83c7-27ff0e582a8e</td>\n",
       "      <td>aa41b57b-e29f-4c95-bf27-48f27519e419</td>\n",
       "      <td>d47717da-315a-42c2-8888-9b7d4bea8829</td>\n",
       "      <td>2013-01-02 00:21:26</td>\n",
       "      <td>2013-01-07 23:38:31.0</td>\n",
       "      <td>NaN</td>\n",
       "      <td>NaN</td>\n",
       "      <td>contact_me</td>\n",
       "      <td>98.0</td>\n",
       "    </tr>\n",
       "    <tr>\n",
       "      <th>2</th>\n",
       "      <td>7308791e-04c3-416a-be2d-4188816decc2</td>\n",
       "      <td>8b118ba1-b439-493e-88c7-2c89a81cec1b</td>\n",
       "      <td>ac231804-951c-4fcb-a0e6-1a4aecbfb6ce</td>\n",
       "      <td>2013-01-02 02:30:19</td>\n",
       "      <td>2013-01-02 18:06:10.0</td>\n",
       "      <td>2013-01-02 18:06:10.0</td>\n",
       "      <td>NaN</td>\n",
       "      <td>contact_me</td>\n",
       "      <td>278.0</td>\n",
       "    </tr>\n",
       "    <tr>\n",
       "      <th>3</th>\n",
       "      <td>097c48a4-f4b6-4870-bf29-370e33de868e</td>\n",
       "      <td>140b0847-549d-4c77-bb8c-7cea16914871</td>\n",
       "      <td>727357bd-8031-4e59-b812-22cfa617e031</td>\n",
       "      <td>2013-01-02 03:24:06</td>\n",
       "      <td>2013-01-02 17:49:08.0</td>\n",
       "      <td>NaN</td>\n",
       "      <td>NaN</td>\n",
       "      <td>contact_me</td>\n",
       "      <td>785.0</td>\n",
       "    </tr>\n",
       "    <tr>\n",
       "      <th>4</th>\n",
       "      <td>6ff7a902-541b-4eee-ace4-673262b95a94</td>\n",
       "      <td>3633b49c-9f63-499d-a9b1-f1e686832e7b</td>\n",
       "      <td>97c8c06a-0b01-45d1-b9b4-5771aa919f67</td>\n",
       "      <td>2013-01-02 07:11:43</td>\n",
       "      <td>2013-01-02 08:56:39.0</td>\n",
       "      <td>2013-01-02 08:56:39.0</td>\n",
       "      <td>NaN</td>\n",
       "      <td>contact_me</td>\n",
       "      <td>69.0</td>\n",
       "    </tr>\n",
       "  </tbody>\n",
       "</table>\n",
       "</div>"
      ],
      "text/plain": [
       "                               id_guest                               id_host  \\\n",
       "0  f966752c-8533-48b2-af6f-8c6797d2b247  4405ab66-1c68-449b-abd9-1ad1892a6c4d   \n",
       "1  873f93fb-234c-4cfb-83c7-27ff0e582a8e  aa41b57b-e29f-4c95-bf27-48f27519e419   \n",
       "2  7308791e-04c3-416a-be2d-4188816decc2  8b118ba1-b439-493e-88c7-2c89a81cec1b   \n",
       "3  097c48a4-f4b6-4870-bf29-370e33de868e  140b0847-549d-4c77-bb8c-7cea16914871   \n",
       "4  6ff7a902-541b-4eee-ace4-673262b95a94  3633b49c-9f63-499d-a9b1-f1e686832e7b   \n",
       "\n",
       "                             id_listing ts_interaction_first  \\\n",
       "0  fe07e0c4-c317-44bc-a82d-5b599a248049  2013-01-01 23:04:35   \n",
       "1  d47717da-315a-42c2-8888-9b7d4bea8829  2013-01-02 00:21:26   \n",
       "2  ac231804-951c-4fcb-a0e6-1a4aecbfb6ce  2013-01-02 02:30:19   \n",
       "3  727357bd-8031-4e59-b812-22cfa617e031  2013-01-02 03:24:06   \n",
       "4  97c8c06a-0b01-45d1-b9b4-5771aa919f67  2013-01-02 07:11:43   \n",
       "\n",
       "       ts_reply_at_first   ts_accepted_at_first ts_booking_at  \\\n",
       "0  2013-01-03 23:15:23.0                    NaN           NaN   \n",
       "1  2013-01-07 23:38:31.0                    NaN           NaN   \n",
       "2  2013-01-02 18:06:10.0  2013-01-02 18:06:10.0           NaN   \n",
       "3  2013-01-02 17:49:08.0                    NaN           NaN   \n",
       "4  2013-01-02 08:56:39.0  2013-01-02 08:56:39.0           NaN   \n",
       "\n",
       "  dim_contact_channel  m_first_message_length  \n",
       "0          contact_me                   230.0  \n",
       "1          contact_me                    98.0  \n",
       "2          contact_me                   278.0  \n",
       "3          contact_me                   785.0  \n",
       "4          contact_me                    69.0  "
      ]
     },
     "execution_count": 14,
     "metadata": {},
     "output_type": "execute_result"
    }
   ],
   "source": [
    "df_c = pd.read_csv('contacts.csv')\n",
    "df_c.head()"
   ]
  },
  {
   "cell_type": "markdown",
   "metadata": {},
   "source": [
    "#### Check data type, categorical variables, null values"
   ]
  },
  {
   "cell_type": "code",
   "execution_count": 15,
   "metadata": {
    "scrolled": true
   },
   "outputs": [
    {
     "name": "stdout",
     "output_type": "stream",
     "text": [
      "<class 'pandas.core.frame.DataFrame'>\n",
      "RangeIndex: 10000 entries, 0 to 9999\n",
      "Data columns (total 9 columns):\n",
      " #   Column                  Non-Null Count  Dtype  \n",
      "---  ------                  --------------  -----  \n",
      " 0   id_guest                10000 non-null  object \n",
      " 1   id_host                 10000 non-null  object \n",
      " 2   id_listing              10000 non-null  object \n",
      " 3   ts_interaction_first    10000 non-null  object \n",
      " 4   ts_reply_at_first       8571 non-null   object \n",
      " 5   ts_accepted_at_first    3363 non-null   object \n",
      " 6   ts_booking_at           2171 non-null   object \n",
      " 7   dim_contact_channel     10000 non-null  object \n",
      " 8   m_first_message_length  9883 non-null   float64\n",
      "dtypes: float64(1), object(8)\n",
      "memory usage: 703.2+ KB\n"
     ]
    }
   ],
   "source": [
    "df_c.info()"
   ]
  },
  {
   "cell_type": "markdown",
   "metadata": {},
   "source": [
    "The columns ts_reply_at_first, ts_accepted_at_first, ts_booking_at, and m_first_message_length all have null values.<br>\n",
    "This shows that in some cases, the host does not reply or accept the request, and in most cases the guest does not book the room successfully.<br>\n",
    "In a few cases, the guest does not send any message to the host."
   ]
  },
  {
   "cell_type": "code",
   "execution_count": 16,
   "metadata": {},
   "outputs": [],
   "source": [
    "date_cols = ['ts_interaction_first', 'ts_reply_at_first', 'ts_accepted_at_first', 'ts_booking_at']\n",
    "for col in date_cols:\n",
    "    df_c[col] = df_c[col].astype('datetime64')"
   ]
  },
  {
   "cell_type": "markdown",
   "metadata": {},
   "source": [
    "Change the columns that contain datetime values into datetime."
   ]
  },
  {
   "cell_type": "code",
   "execution_count": 17,
   "metadata": {},
   "outputs": [
    {
     "name": "stdout",
     "output_type": "stream",
     "text": [
      "<class 'pandas.core.frame.DataFrame'>\n",
      "RangeIndex: 10000 entries, 0 to 9999\n",
      "Data columns (total 9 columns):\n",
      " #   Column                  Non-Null Count  Dtype         \n",
      "---  ------                  --------------  -----         \n",
      " 0   id_guest                10000 non-null  object        \n",
      " 1   id_host                 10000 non-null  object        \n",
      " 2   id_listing              10000 non-null  object        \n",
      " 3   ts_interaction_first    10000 non-null  datetime64[ns]\n",
      " 4   ts_reply_at_first       8571 non-null   datetime64[ns]\n",
      " 5   ts_accepted_at_first    3363 non-null   datetime64[ns]\n",
      " 6   ts_booking_at           2171 non-null   datetime64[ns]\n",
      " 7   dim_contact_channel     10000 non-null  object        \n",
      " 8   m_first_message_length  9883 non-null   float64       \n",
      "dtypes: datetime64[ns](4), float64(1), object(4)\n",
      "memory usage: 703.2+ KB\n"
     ]
    }
   ],
   "source": [
    "df_c.info()"
   ]
  },
  {
   "cell_type": "code",
   "execution_count": 18,
   "metadata": {},
   "outputs": [
    {
     "data": {
      "text/html": [
       "<div>\n",
       "<style scoped>\n",
       "    .dataframe tbody tr th:only-of-type {\n",
       "        vertical-align: middle;\n",
       "    }\n",
       "\n",
       "    .dataframe tbody tr th {\n",
       "        vertical-align: top;\n",
       "    }\n",
       "\n",
       "    .dataframe thead th {\n",
       "        text-align: right;\n",
       "    }\n",
       "</style>\n",
       "<table border=\"1\" class=\"dataframe\">\n",
       "  <thead>\n",
       "    <tr style=\"text-align: right;\">\n",
       "      <th></th>\n",
       "      <th>count</th>\n",
       "      <th>unique</th>\n",
       "      <th>top</th>\n",
       "      <th>freq</th>\n",
       "      <th>first</th>\n",
       "      <th>last</th>\n",
       "      <th>mean</th>\n",
       "      <th>std</th>\n",
       "      <th>min</th>\n",
       "      <th>25%</th>\n",
       "      <th>50%</th>\n",
       "      <th>75%</th>\n",
       "      <th>max</th>\n",
       "    </tr>\n",
       "  </thead>\n",
       "  <tbody>\n",
       "    <tr>\n",
       "      <th>id_guest</th>\n",
       "      <td>10000</td>\n",
       "      <td>9094</td>\n",
       "      <td>ae290fb1-f0ce-4589-908c-d74525f0bc78</td>\n",
       "      <td>7</td>\n",
       "      <td>NaT</td>\n",
       "      <td>NaT</td>\n",
       "      <td>NaN</td>\n",
       "      <td>NaN</td>\n",
       "      <td>NaN</td>\n",
       "      <td>NaN</td>\n",
       "      <td>NaN</td>\n",
       "      <td>NaN</td>\n",
       "      <td>NaN</td>\n",
       "    </tr>\n",
       "    <tr>\n",
       "      <th>id_host</th>\n",
       "      <td>10000</td>\n",
       "      <td>3669</td>\n",
       "      <td>589ba78b-cd36-4232-9cdd-e39f0acf08f2</td>\n",
       "      <td>66</td>\n",
       "      <td>NaT</td>\n",
       "      <td>NaT</td>\n",
       "      <td>NaN</td>\n",
       "      <td>NaN</td>\n",
       "      <td>NaN</td>\n",
       "      <td>NaN</td>\n",
       "      <td>NaN</td>\n",
       "      <td>NaN</td>\n",
       "      <td>NaN</td>\n",
       "    </tr>\n",
       "    <tr>\n",
       "      <th>id_listing</th>\n",
       "      <td>10000</td>\n",
       "      <td>4449</td>\n",
       "      <td>3a5681ef-1121-4f0b-a498-00efe43a9b5e</td>\n",
       "      <td>32</td>\n",
       "      <td>NaT</td>\n",
       "      <td>NaT</td>\n",
       "      <td>NaN</td>\n",
       "      <td>NaN</td>\n",
       "      <td>NaN</td>\n",
       "      <td>NaN</td>\n",
       "      <td>NaN</td>\n",
       "      <td>NaN</td>\n",
       "      <td>NaN</td>\n",
       "    </tr>\n",
       "    <tr>\n",
       "      <th>ts_interaction_first</th>\n",
       "      <td>10000</td>\n",
       "      <td>9972</td>\n",
       "      <td>2013-04-01 15:03:59</td>\n",
       "      <td>3</td>\n",
       "      <td>2013-01-01 06:11:20</td>\n",
       "      <td>2013-12-31 23:24:15</td>\n",
       "      <td>NaN</td>\n",
       "      <td>NaN</td>\n",
       "      <td>NaN</td>\n",
       "      <td>NaN</td>\n",
       "      <td>NaN</td>\n",
       "      <td>NaN</td>\n",
       "      <td>NaN</td>\n",
       "    </tr>\n",
       "    <tr>\n",
       "      <th>ts_reply_at_first</th>\n",
       "      <td>8571</td>\n",
       "      <td>8568</td>\n",
       "      <td>2013-09-19 23:55:51</td>\n",
       "      <td>2</td>\n",
       "      <td>2013-01-01 18:27:53</td>\n",
       "      <td>2014-10-20 21:20:25</td>\n",
       "      <td>NaN</td>\n",
       "      <td>NaN</td>\n",
       "      <td>NaN</td>\n",
       "      <td>NaN</td>\n",
       "      <td>NaN</td>\n",
       "      <td>NaN</td>\n",
       "      <td>NaN</td>\n",
       "    </tr>\n",
       "    <tr>\n",
       "      <th>ts_accepted_at_first</th>\n",
       "      <td>3363</td>\n",
       "      <td>3362</td>\n",
       "      <td>2013-03-13 06:00:00</td>\n",
       "      <td>2</td>\n",
       "      <td>2013-01-01 18:27:53</td>\n",
       "      <td>2015-01-15 23:47:36</td>\n",
       "      <td>NaN</td>\n",
       "      <td>NaN</td>\n",
       "      <td>NaN</td>\n",
       "      <td>NaN</td>\n",
       "      <td>NaN</td>\n",
       "      <td>NaN</td>\n",
       "      <td>NaN</td>\n",
       "    </tr>\n",
       "    <tr>\n",
       "      <th>ts_booking_at</th>\n",
       "      <td>2171</td>\n",
       "      <td>2170</td>\n",
       "      <td>2013-03-13 06:00:00</td>\n",
       "      <td>2</td>\n",
       "      <td>2013-01-01 23:40:16</td>\n",
       "      <td>2015-01-15 23:47:36</td>\n",
       "      <td>NaN</td>\n",
       "      <td>NaN</td>\n",
       "      <td>NaN</td>\n",
       "      <td>NaN</td>\n",
       "      <td>NaN</td>\n",
       "      <td>NaN</td>\n",
       "      <td>NaN</td>\n",
       "    </tr>\n",
       "    <tr>\n",
       "      <th>dim_contact_channel</th>\n",
       "      <td>10000</td>\n",
       "      <td>3</td>\n",
       "      <td>contact_me</td>\n",
       "      <td>8130</td>\n",
       "      <td>NaT</td>\n",
       "      <td>NaT</td>\n",
       "      <td>NaN</td>\n",
       "      <td>NaN</td>\n",
       "      <td>NaN</td>\n",
       "      <td>NaN</td>\n",
       "      <td>NaN</td>\n",
       "      <td>NaN</td>\n",
       "      <td>NaN</td>\n",
       "    </tr>\n",
       "    <tr>\n",
       "      <th>m_first_message_length</th>\n",
       "      <td>9883</td>\n",
       "      <td>NaN</td>\n",
       "      <td>NaN</td>\n",
       "      <td>NaN</td>\n",
       "      <td>NaT</td>\n",
       "      <td>NaT</td>\n",
       "      <td>324.459</td>\n",
       "      <td>233.561</td>\n",
       "      <td>0</td>\n",
       "      <td>167</td>\n",
       "      <td>272</td>\n",
       "      <td>420</td>\n",
       "      <td>3182</td>\n",
       "    </tr>\n",
       "  </tbody>\n",
       "</table>\n",
       "</div>"
      ],
      "text/plain": [
       "                        count unique                                   top  \\\n",
       "id_guest                10000   9094  ae290fb1-f0ce-4589-908c-d74525f0bc78   \n",
       "id_host                 10000   3669  589ba78b-cd36-4232-9cdd-e39f0acf08f2   \n",
       "id_listing              10000   4449  3a5681ef-1121-4f0b-a498-00efe43a9b5e   \n",
       "ts_interaction_first    10000   9972                   2013-04-01 15:03:59   \n",
       "ts_reply_at_first        8571   8568                   2013-09-19 23:55:51   \n",
       "ts_accepted_at_first     3363   3362                   2013-03-13 06:00:00   \n",
       "ts_booking_at            2171   2170                   2013-03-13 06:00:00   \n",
       "dim_contact_channel     10000      3                            contact_me   \n",
       "m_first_message_length   9883    NaN                                   NaN   \n",
       "\n",
       "                        freq               first                last     mean  \\\n",
       "id_guest                   7                 NaT                 NaT      NaN   \n",
       "id_host                   66                 NaT                 NaT      NaN   \n",
       "id_listing                32                 NaT                 NaT      NaN   \n",
       "ts_interaction_first       3 2013-01-01 06:11:20 2013-12-31 23:24:15      NaN   \n",
       "ts_reply_at_first          2 2013-01-01 18:27:53 2014-10-20 21:20:25      NaN   \n",
       "ts_accepted_at_first       2 2013-01-01 18:27:53 2015-01-15 23:47:36      NaN   \n",
       "ts_booking_at              2 2013-01-01 23:40:16 2015-01-15 23:47:36      NaN   \n",
       "dim_contact_channel     8130                 NaT                 NaT      NaN   \n",
       "m_first_message_length   NaN                 NaT                 NaT  324.459   \n",
       "\n",
       "                            std  min  25%  50%  75%   max  \n",
       "id_guest                    NaN  NaN  NaN  NaN  NaN   NaN  \n",
       "id_host                     NaN  NaN  NaN  NaN  NaN   NaN  \n",
       "id_listing                  NaN  NaN  NaN  NaN  NaN   NaN  \n",
       "ts_interaction_first        NaN  NaN  NaN  NaN  NaN   NaN  \n",
       "ts_reply_at_first           NaN  NaN  NaN  NaN  NaN   NaN  \n",
       "ts_accepted_at_first        NaN  NaN  NaN  NaN  NaN   NaN  \n",
       "ts_booking_at               NaN  NaN  NaN  NaN  NaN   NaN  \n",
       "dim_contact_channel         NaN  NaN  NaN  NaN  NaN   NaN  \n",
       "m_first_message_length  233.561    0  167  272  420  3182  "
      ]
     },
     "execution_count": 18,
     "metadata": {},
     "output_type": "execute_result"
    }
   ],
   "source": [
    "df_c.describe(include='all').T"
   ]
  },
  {
   "cell_type": "markdown",
   "metadata": {},
   "source": [
    "The contacts data also have 9094 unique user ids.<br>\n",
    "The dim_contact_channel is a categorical variable.<br>\n",
    "The shortest message has 0 characters. For now, treat this as not sending any message."
   ]
  },
  {
   "cell_type": "code",
   "execution_count": 19,
   "metadata": {},
   "outputs": [
    {
     "data": {
      "text/plain": [
       "contact_me        8130\n",
       "book_it           1826\n",
       "instant_booked      44\n",
       "Name: dim_contact_channel, dtype: int64"
      ]
     },
     "execution_count": 19,
     "metadata": {},
     "output_type": "execute_result"
    }
   ],
   "source": [
    "df_c['dim_contact_channel'].value_counts()"
   ]
  },
  {
   "cell_type": "markdown",
   "metadata": {},
   "source": [
    "The majority of contacts occurred via a contact."
   ]
  },
  {
   "cell_type": "markdown",
   "metadata": {},
   "source": [
    "#### Check for duplicated entries"
   ]
  },
  {
   "cell_type": "code",
   "execution_count": 20,
   "metadata": {},
   "outputs": [
    {
     "data": {
      "text/html": [
       "<div>\n",
       "<style scoped>\n",
       "    .dataframe tbody tr th:only-of-type {\n",
       "        vertical-align: middle;\n",
       "    }\n",
       "\n",
       "    .dataframe tbody tr th {\n",
       "        vertical-align: top;\n",
       "    }\n",
       "\n",
       "    .dataframe thead th {\n",
       "        text-align: right;\n",
       "    }\n",
       "</style>\n",
       "<table border=\"1\" class=\"dataframe\">\n",
       "  <thead>\n",
       "    <tr style=\"text-align: right;\">\n",
       "      <th></th>\n",
       "      <th>count</th>\n",
       "      <th>unique</th>\n",
       "      <th>top</th>\n",
       "      <th>freq</th>\n",
       "      <th>first</th>\n",
       "      <th>last</th>\n",
       "      <th>mean</th>\n",
       "      <th>std</th>\n",
       "      <th>min</th>\n",
       "      <th>25%</th>\n",
       "      <th>50%</th>\n",
       "      <th>75%</th>\n",
       "      <th>max</th>\n",
       "    </tr>\n",
       "  </thead>\n",
       "  <tbody>\n",
       "    <tr>\n",
       "      <th>id_guest</th>\n",
       "      <td>10000</td>\n",
       "      <td>9094</td>\n",
       "      <td>ae290fb1-f0ce-4589-908c-d74525f0bc78</td>\n",
       "      <td>7</td>\n",
       "      <td>NaT</td>\n",
       "      <td>NaT</td>\n",
       "      <td>NaN</td>\n",
       "      <td>NaN</td>\n",
       "      <td>NaN</td>\n",
       "      <td>NaN</td>\n",
       "      <td>NaN</td>\n",
       "      <td>NaN</td>\n",
       "      <td>NaN</td>\n",
       "    </tr>\n",
       "    <tr>\n",
       "      <th>id_host</th>\n",
       "      <td>10000</td>\n",
       "      <td>3669</td>\n",
       "      <td>589ba78b-cd36-4232-9cdd-e39f0acf08f2</td>\n",
       "      <td>66</td>\n",
       "      <td>NaT</td>\n",
       "      <td>NaT</td>\n",
       "      <td>NaN</td>\n",
       "      <td>NaN</td>\n",
       "      <td>NaN</td>\n",
       "      <td>NaN</td>\n",
       "      <td>NaN</td>\n",
       "      <td>NaN</td>\n",
       "      <td>NaN</td>\n",
       "    </tr>\n",
       "    <tr>\n",
       "      <th>id_listing</th>\n",
       "      <td>10000</td>\n",
       "      <td>4449</td>\n",
       "      <td>3a5681ef-1121-4f0b-a498-00efe43a9b5e</td>\n",
       "      <td>32</td>\n",
       "      <td>NaT</td>\n",
       "      <td>NaT</td>\n",
       "      <td>NaN</td>\n",
       "      <td>NaN</td>\n",
       "      <td>NaN</td>\n",
       "      <td>NaN</td>\n",
       "      <td>NaN</td>\n",
       "      <td>NaN</td>\n",
       "      <td>NaN</td>\n",
       "    </tr>\n",
       "    <tr>\n",
       "      <th>ts_interaction_first</th>\n",
       "      <td>10000</td>\n",
       "      <td>9972</td>\n",
       "      <td>2013-04-01 15:03:59</td>\n",
       "      <td>3</td>\n",
       "      <td>2013-01-01 06:11:20</td>\n",
       "      <td>2013-12-31 23:24:15</td>\n",
       "      <td>NaN</td>\n",
       "      <td>NaN</td>\n",
       "      <td>NaN</td>\n",
       "      <td>NaN</td>\n",
       "      <td>NaN</td>\n",
       "      <td>NaN</td>\n",
       "      <td>NaN</td>\n",
       "    </tr>\n",
       "    <tr>\n",
       "      <th>ts_reply_at_first</th>\n",
       "      <td>8571</td>\n",
       "      <td>8568</td>\n",
       "      <td>2013-09-19 23:55:51</td>\n",
       "      <td>2</td>\n",
       "      <td>2013-01-01 18:27:53</td>\n",
       "      <td>2014-10-20 21:20:25</td>\n",
       "      <td>NaN</td>\n",
       "      <td>NaN</td>\n",
       "      <td>NaN</td>\n",
       "      <td>NaN</td>\n",
       "      <td>NaN</td>\n",
       "      <td>NaN</td>\n",
       "      <td>NaN</td>\n",
       "    </tr>\n",
       "    <tr>\n",
       "      <th>ts_accepted_at_first</th>\n",
       "      <td>3363</td>\n",
       "      <td>3362</td>\n",
       "      <td>2013-03-13 06:00:00</td>\n",
       "      <td>2</td>\n",
       "      <td>2013-01-01 18:27:53</td>\n",
       "      <td>2015-01-15 23:47:36</td>\n",
       "      <td>NaN</td>\n",
       "      <td>NaN</td>\n",
       "      <td>NaN</td>\n",
       "      <td>NaN</td>\n",
       "      <td>NaN</td>\n",
       "      <td>NaN</td>\n",
       "      <td>NaN</td>\n",
       "    </tr>\n",
       "    <tr>\n",
       "      <th>ts_booking_at</th>\n",
       "      <td>2171</td>\n",
       "      <td>2170</td>\n",
       "      <td>2013-03-13 06:00:00</td>\n",
       "      <td>2</td>\n",
       "      <td>2013-01-01 23:40:16</td>\n",
       "      <td>2015-01-15 23:47:36</td>\n",
       "      <td>NaN</td>\n",
       "      <td>NaN</td>\n",
       "      <td>NaN</td>\n",
       "      <td>NaN</td>\n",
       "      <td>NaN</td>\n",
       "      <td>NaN</td>\n",
       "      <td>NaN</td>\n",
       "    </tr>\n",
       "    <tr>\n",
       "      <th>dim_contact_channel</th>\n",
       "      <td>10000</td>\n",
       "      <td>3</td>\n",
       "      <td>contact_me</td>\n",
       "      <td>8130</td>\n",
       "      <td>NaT</td>\n",
       "      <td>NaT</td>\n",
       "      <td>NaN</td>\n",
       "      <td>NaN</td>\n",
       "      <td>NaN</td>\n",
       "      <td>NaN</td>\n",
       "      <td>NaN</td>\n",
       "      <td>NaN</td>\n",
       "      <td>NaN</td>\n",
       "    </tr>\n",
       "    <tr>\n",
       "      <th>m_first_message_length</th>\n",
       "      <td>9883</td>\n",
       "      <td>NaN</td>\n",
       "      <td>NaN</td>\n",
       "      <td>NaN</td>\n",
       "      <td>NaT</td>\n",
       "      <td>NaT</td>\n",
       "      <td>324.459</td>\n",
       "      <td>233.561</td>\n",
       "      <td>0</td>\n",
       "      <td>167</td>\n",
       "      <td>272</td>\n",
       "      <td>420</td>\n",
       "      <td>3182</td>\n",
       "    </tr>\n",
       "  </tbody>\n",
       "</table>\n",
       "</div>"
      ],
      "text/plain": [
       "                        count unique                                   top  \\\n",
       "id_guest                10000   9094  ae290fb1-f0ce-4589-908c-d74525f0bc78   \n",
       "id_host                 10000   3669  589ba78b-cd36-4232-9cdd-e39f0acf08f2   \n",
       "id_listing              10000   4449  3a5681ef-1121-4f0b-a498-00efe43a9b5e   \n",
       "ts_interaction_first    10000   9972                   2013-04-01 15:03:59   \n",
       "ts_reply_at_first        8571   8568                   2013-09-19 23:55:51   \n",
       "ts_accepted_at_first     3363   3362                   2013-03-13 06:00:00   \n",
       "ts_booking_at            2171   2170                   2013-03-13 06:00:00   \n",
       "dim_contact_channel     10000      3                            contact_me   \n",
       "m_first_message_length   9883    NaN                                   NaN   \n",
       "\n",
       "                        freq               first                last     mean  \\\n",
       "id_guest                   7                 NaT                 NaT      NaN   \n",
       "id_host                   66                 NaT                 NaT      NaN   \n",
       "id_listing                32                 NaT                 NaT      NaN   \n",
       "ts_interaction_first       3 2013-01-01 06:11:20 2013-12-31 23:24:15      NaN   \n",
       "ts_reply_at_first          2 2013-01-01 18:27:53 2014-10-20 21:20:25      NaN   \n",
       "ts_accepted_at_first       2 2013-01-01 18:27:53 2015-01-15 23:47:36      NaN   \n",
       "ts_booking_at              2 2013-01-01 23:40:16 2015-01-15 23:47:36      NaN   \n",
       "dim_contact_channel     8130                 NaT                 NaT      NaN   \n",
       "m_first_message_length   NaN                 NaT                 NaT  324.459   \n",
       "\n",
       "                            std  min  25%  50%  75%   max  \n",
       "id_guest                    NaN  NaN  NaN  NaN  NaN   NaN  \n",
       "id_host                     NaN  NaN  NaN  NaN  NaN   NaN  \n",
       "id_listing                  NaN  NaN  NaN  NaN  NaN   NaN  \n",
       "ts_interaction_first        NaN  NaN  NaN  NaN  NaN   NaN  \n",
       "ts_reply_at_first           NaN  NaN  NaN  NaN  NaN   NaN  \n",
       "ts_accepted_at_first        NaN  NaN  NaN  NaN  NaN   NaN  \n",
       "ts_booking_at               NaN  NaN  NaN  NaN  NaN   NaN  \n",
       "dim_contact_channel         NaN  NaN  NaN  NaN  NaN   NaN  \n",
       "m_first_message_length  233.561    0  167  272  420  3182  "
      ]
     },
     "execution_count": 20,
     "metadata": {},
     "output_type": "execute_result"
    }
   ],
   "source": [
    "df_c = df_c.drop_duplicates(keep='first')\n",
    "df_c.describe(include='all').T"
   ]
  },
  {
   "cell_type": "markdown",
   "metadata": {},
   "source": [
    "There are no duplicate rows in the contact data."
   ]
  },
  {
   "cell_type": "code",
   "execution_count": 21,
   "metadata": {},
   "outputs": [
    {
     "data": {
      "text/html": [
       "<div>\n",
       "<style scoped>\n",
       "    .dataframe tbody tr th:only-of-type {\n",
       "        vertical-align: middle;\n",
       "    }\n",
       "\n",
       "    .dataframe tbody tr th {\n",
       "        vertical-align: top;\n",
       "    }\n",
       "\n",
       "    .dataframe thead th {\n",
       "        text-align: right;\n",
       "    }\n",
       "</style>\n",
       "<table border=\"1\" class=\"dataframe\">\n",
       "  <thead>\n",
       "    <tr style=\"text-align: right;\">\n",
       "      <th></th>\n",
       "      <th>id_user</th>\n",
       "      <th>ab</th>\n",
       "      <th>id_guest</th>\n",
       "      <th>id_host</th>\n",
       "      <th>id_listing</th>\n",
       "      <th>ts_interaction_first</th>\n",
       "      <th>ts_reply_at_first</th>\n",
       "      <th>ts_accepted_at_first</th>\n",
       "      <th>ts_booking_at</th>\n",
       "      <th>dim_contact_channel</th>\n",
       "      <th>m_first_message_length</th>\n",
       "    </tr>\n",
       "  </thead>\n",
       "  <tbody>\n",
       "    <tr>\n",
       "      <th>0</th>\n",
       "      <td>f966752c-8533-48b2-af6f-8c6797d2b247</td>\n",
       "      <td>treatment</td>\n",
       "      <td>f966752c-8533-48b2-af6f-8c6797d2b247</td>\n",
       "      <td>4405ab66-1c68-449b-abd9-1ad1892a6c4d</td>\n",
       "      <td>fe07e0c4-c317-44bc-a82d-5b599a248049</td>\n",
       "      <td>2013-01-01 23:04:35</td>\n",
       "      <td>2013-01-03 23:15:23</td>\n",
       "      <td>NaT</td>\n",
       "      <td>NaT</td>\n",
       "      <td>contact_me</td>\n",
       "      <td>230.0</td>\n",
       "    </tr>\n",
       "    <tr>\n",
       "      <th>1</th>\n",
       "      <td>873f93fb-234c-4cfb-83c7-27ff0e582a8e</td>\n",
       "      <td>treatment</td>\n",
       "      <td>873f93fb-234c-4cfb-83c7-27ff0e582a8e</td>\n",
       "      <td>aa41b57b-e29f-4c95-bf27-48f27519e419</td>\n",
       "      <td>d47717da-315a-42c2-8888-9b7d4bea8829</td>\n",
       "      <td>2013-01-02 00:21:26</td>\n",
       "      <td>2013-01-07 23:38:31</td>\n",
       "      <td>NaT</td>\n",
       "      <td>NaT</td>\n",
       "      <td>contact_me</td>\n",
       "      <td>98.0</td>\n",
       "    </tr>\n",
       "    <tr>\n",
       "      <th>2</th>\n",
       "      <td>7308791e-04c3-416a-be2d-4188816decc2</td>\n",
       "      <td>control</td>\n",
       "      <td>7308791e-04c3-416a-be2d-4188816decc2</td>\n",
       "      <td>8b118ba1-b439-493e-88c7-2c89a81cec1b</td>\n",
       "      <td>ac231804-951c-4fcb-a0e6-1a4aecbfb6ce</td>\n",
       "      <td>2013-01-02 02:30:19</td>\n",
       "      <td>2013-01-02 18:06:10</td>\n",
       "      <td>2013-01-02 18:06:10</td>\n",
       "      <td>NaT</td>\n",
       "      <td>contact_me</td>\n",
       "      <td>278.0</td>\n",
       "    </tr>\n",
       "    <tr>\n",
       "      <th>3</th>\n",
       "      <td>097c48a4-f4b6-4870-bf29-370e33de868e</td>\n",
       "      <td>control</td>\n",
       "      <td>097c48a4-f4b6-4870-bf29-370e33de868e</td>\n",
       "      <td>140b0847-549d-4c77-bb8c-7cea16914871</td>\n",
       "      <td>727357bd-8031-4e59-b812-22cfa617e031</td>\n",
       "      <td>2013-01-02 03:24:06</td>\n",
       "      <td>2013-01-02 17:49:08</td>\n",
       "      <td>NaT</td>\n",
       "      <td>NaT</td>\n",
       "      <td>contact_me</td>\n",
       "      <td>785.0</td>\n",
       "    </tr>\n",
       "    <tr>\n",
       "      <th>4</th>\n",
       "      <td>ff3d6a6a-7748-41f8-8a3f-fdc26ca21650</td>\n",
       "      <td>control</td>\n",
       "      <td>ff3d6a6a-7748-41f8-8a3f-fdc26ca21650</td>\n",
       "      <td>82bc1dd7-e146-4c03-93ef-1edd143e4612</td>\n",
       "      <td>aed82e29-205e-4827-a7ac-c5963c8a6895</td>\n",
       "      <td>2013-01-02 13:29:21</td>\n",
       "      <td>2013-01-22 20:19:54</td>\n",
       "      <td>NaT</td>\n",
       "      <td>NaT</td>\n",
       "      <td>contact_me</td>\n",
       "      <td>623.0</td>\n",
       "    </tr>\n",
       "  </tbody>\n",
       "</table>\n",
       "</div>"
      ],
      "text/plain": [
       "                                id_user         ab  \\\n",
       "0  f966752c-8533-48b2-af6f-8c6797d2b247  treatment   \n",
       "1  873f93fb-234c-4cfb-83c7-27ff0e582a8e  treatment   \n",
       "2  7308791e-04c3-416a-be2d-4188816decc2    control   \n",
       "3  097c48a4-f4b6-4870-bf29-370e33de868e    control   \n",
       "4  ff3d6a6a-7748-41f8-8a3f-fdc26ca21650    control   \n",
       "\n",
       "                               id_guest                               id_host  \\\n",
       "0  f966752c-8533-48b2-af6f-8c6797d2b247  4405ab66-1c68-449b-abd9-1ad1892a6c4d   \n",
       "1  873f93fb-234c-4cfb-83c7-27ff0e582a8e  aa41b57b-e29f-4c95-bf27-48f27519e419   \n",
       "2  7308791e-04c3-416a-be2d-4188816decc2  8b118ba1-b439-493e-88c7-2c89a81cec1b   \n",
       "3  097c48a4-f4b6-4870-bf29-370e33de868e  140b0847-549d-4c77-bb8c-7cea16914871   \n",
       "4  ff3d6a6a-7748-41f8-8a3f-fdc26ca21650  82bc1dd7-e146-4c03-93ef-1edd143e4612   \n",
       "\n",
       "                             id_listing ts_interaction_first  \\\n",
       "0  fe07e0c4-c317-44bc-a82d-5b599a248049  2013-01-01 23:04:35   \n",
       "1  d47717da-315a-42c2-8888-9b7d4bea8829  2013-01-02 00:21:26   \n",
       "2  ac231804-951c-4fcb-a0e6-1a4aecbfb6ce  2013-01-02 02:30:19   \n",
       "3  727357bd-8031-4e59-b812-22cfa617e031  2013-01-02 03:24:06   \n",
       "4  aed82e29-205e-4827-a7ac-c5963c8a6895  2013-01-02 13:29:21   \n",
       "\n",
       "    ts_reply_at_first ts_accepted_at_first ts_booking_at dim_contact_channel  \\\n",
       "0 2013-01-03 23:15:23                  NaT           NaT          contact_me   \n",
       "1 2013-01-07 23:38:31                  NaT           NaT          contact_me   \n",
       "2 2013-01-02 18:06:10  2013-01-02 18:06:10           NaT          contact_me   \n",
       "3 2013-01-02 17:49:08                  NaT           NaT          contact_me   \n",
       "4 2013-01-22 20:19:54                  NaT           NaT          contact_me   \n",
       "\n",
       "   m_first_message_length  \n",
       "0                   230.0  \n",
       "1                    98.0  \n",
       "2                   278.0  \n",
       "3                   785.0  \n",
       "4                   623.0  "
      ]
     },
     "execution_count": 21,
     "metadata": {},
     "output_type": "execute_result"
    }
   ],
   "source": [
    "df_c_f = pd.merge(left = df_a_f, right = df_c,\n",
    "         left_on = 'id_user', right_on = 'id_guest', how='left')\n",
    "df_c_f.head()"
   ]
  },
  {
   "cell_type": "markdown",
   "metadata": {},
   "source": [
    "Select only the rows where the user is in the filtered assignment dataset."
   ]
  },
  {
   "cell_type": "code",
   "execution_count": 22,
   "metadata": {
    "scrolled": true
   },
   "outputs": [
    {
     "data": {
      "text/plain": [
       "contact_me        7290\n",
       "book_it           1770\n",
       "instant_booked      44\n",
       "Name: dim_contact_channel, dtype: int64"
      ]
     },
     "execution_count": 22,
     "metadata": {},
     "output_type": "execute_result"
    }
   ],
   "source": [
    "df_c_f['dim_contact_channel'].value_counts()"
   ]
  },
  {
   "cell_type": "markdown",
   "metadata": {},
   "source": [
    "#### Check the duration of the experiment"
   ]
  },
  {
   "cell_type": "code",
   "execution_count": 23,
   "metadata": {
    "scrolled": false
   },
   "outputs": [
    {
     "name": "stdout",
     "output_type": "stream",
     "text": [
      "ts_interaction_first: Min Date: 2013-01-01 06:11:20; Max Date: 2013-12-31 23:24:15\n",
      "ts_interaction_first Range: 364 days 17:12:55\n",
      "\n",
      "ts_reply_at_first: Min Date: 2013-01-01 18:27:53; Max Date: 2014-10-20 21:20:25\n",
      "ts_reply_at_first Range: 657 days 02:52:32\n",
      "\n",
      "ts_accepted_at_first: Min Date: 2013-01-01 18:27:53; Max Date: 2015-01-15 23:47:36\n",
      "ts_accepted_at_first Range: 744 days 05:19:43\n",
      "\n",
      "ts_booking_at: Min Date: 2013-01-01 23:40:16; Max Date: 2015-01-15 23:47:36\n",
      "ts_booking_at Range: 744 days 00:07:20\n",
      "\n"
     ]
    }
   ],
   "source": [
    "for col in date_cols:\n",
    "    print(col + ': Min Date: ' + str(df_c_f[col].min()) + '; Max Date: ' + str(df_c_f[col].max()))\n",
    "    print(col + ' Range: ' + str(df_c_f[col].max() - df_c_f[col].min()))\n",
    "    print()"
   ]
  },
  {
   "cell_type": "markdown",
   "metadata": {},
   "source": [
    "The first interaction's range is around a year."
   ]
  },
  {
   "cell_type": "code",
   "execution_count": 29,
   "metadata": {},
   "outputs": [
    {
     "data": {
      "text/plain": [
       "''"
      ]
     },
     "execution_count": 29,
     "metadata": {},
     "output_type": "execute_result"
    },
    {
     "data": {
      "image/png": "[encoded data removed]",
      "text/plain": [
       "<Figure size 1080x576 with 1 Axes>"
      ]
     },
     "metadata": {},
     "output_type": "display_data"
    }
   ],
   "source": [
    "fig, ax = plt.subplots(1, 1, figsize=(15, 8))\n",
    "sns.distplot(df_c_f['m_first_message_length'], kde=False)\n",
    "ax.set_title('First Message Length Distribution')\n",
    "ax.set_xlabel('First Message Length')\n",
    "ax.set_ylabel('Number of Guests')\n",
    ";"
   ]
  },
  {
   "cell_type": "code",
   "execution_count": 30,
   "metadata": {
    "scrolled": false
   },
   "outputs": [
    {
     "data": {
      "text/plain": [
       "''"
      ]
     },
     "execution_count": 30,
     "metadata": {},
     "output_type": "execute_result"
    },
    {
     "data": {
      "image/png": "[encoded data removed]",
      "text/plain": [
       "<Figure size 1080x576 with 1 Axes>"
      ]
     },
     "metadata": {},
     "output_type": "display_data"
    }
   ],
   "source": [
    "fig, ax = plt.subplots(1, 1, figsize=(15, 8))\n",
    "sns.distplot(df_c_f.loc[df_c_f['ab']=='control', 'm_first_message_length'],\n",
    "             bins = range(0, 3200, 100), label='control', kde=False)\n",
    "sns.distplot(df_c_f.loc[df_c_f['ab']=='treatment', 'm_first_message_length'],\n",
    "             bins = range(0, 3200, 100), label='treatment', kde=False)\n",
    "ax.set_title('First Message Length Distribution by Groups')\n",
    "ax.set_xticks(range(0, 3200, 200))\n",
    "ax.set_xlabel('First Message Length')\n",
    "ax.set_ylabel('Number of Guests')\n",
    "ax.legend()\n",
    ";"
   ]
  },
  {
   "cell_type": "code",
   "execution_count": 26,
   "metadata": {
    "scrolled": false
   },
   "outputs": [
    {
     "data": {
      "text/plain": [
       "''"
      ]
     },
     "execution_count": 26,
     "metadata": {},
     "output_type": "execute_result"
    },
    {
     "data": {
      "image/png": "[encoded data removed]",
      "text/plain": [
       "<Figure size 1080x576 with 1 Axes>"
      ]
     },
     "metadata": {},
     "output_type": "display_data"
    }
   ],
   "source": [
    "fig, ax = plt.subplots(1, 1, figsize=(15, 8))\n",
    "sns.distplot(df_c_f.loc[df_c_f['ab']=='control', 'm_first_message_length'],\n",
    "             bins = range(0, 500, 20), label='control', kde=False)\n",
    "sns.distplot(df_c_f.loc[df_c_f['ab']=='treatment', 'm_first_message_length'],\n",
    "             bins = range(0, 500, 20), label='treatment', kde=False)\n",
    "ax.set_title('First Message Length Distribution by Groups')\n",
    "ax.set_xticks(range(0, 500, 20))\n",
    "ax.legend()\n",
    ";"
   ]
  },
  {
   "cell_type": "markdown",
   "metadata": {},
   "source": [
    "The treatment group has a higher message distribution of messages with length between 120 and 200 characters, possibly because of the least character limitation."
   ]
  },
  {
   "cell_type": "code",
   "execution_count": 32,
   "metadata": {
    "scrolled": false
   },
   "outputs": [
    {
     "data": {
      "text/html": [
       "<div>\n",
       "<style scoped>\n",
       "    .dataframe tbody tr th:only-of-type {\n",
       "        vertical-align: middle;\n",
       "    }\n",
       "\n",
       "    .dataframe tbody tr th {\n",
       "        vertical-align: top;\n",
       "    }\n",
       "\n",
       "    .dataframe thead tr th {\n",
       "        text-align: left;\n",
       "    }\n",
       "\n",
       "    .dataframe thead tr:last-of-type th {\n",
       "        text-align: right;\n",
       "    }\n",
       "</style>\n",
       "<table border=\"1\" class=\"dataframe\">\n",
       "  <thead>\n",
       "    <tr>\n",
       "      <th></th>\n",
       "      <th>min</th>\n",
       "      <th>max</th>\n",
       "      <th>median</th>\n",
       "      <th>mean</th>\n",
       "      <th>std</th>\n",
       "    </tr>\n",
       "    <tr>\n",
       "      <th></th>\n",
       "      <th>m_first_message_length</th>\n",
       "      <th>m_first_message_length</th>\n",
       "      <th>m_first_message_length</th>\n",
       "      <th>m_first_message_length</th>\n",
       "      <th>m_first_message_length</th>\n",
       "    </tr>\n",
       "    <tr>\n",
       "      <th>ab</th>\n",
       "      <th></th>\n",
       "      <th></th>\n",
       "      <th></th>\n",
       "      <th></th>\n",
       "      <th></th>\n",
       "    </tr>\n",
       "  </thead>\n",
       "  <tbody>\n",
       "    <tr>\n",
       "      <th>control</th>\n",
       "      <td>0.0</td>\n",
       "      <td>2654.0</td>\n",
       "      <td>277.0</td>\n",
       "      <td>322.814781</td>\n",
       "      <td>240.492930</td>\n",
       "    </tr>\n",
       "    <tr>\n",
       "      <th>treatment</th>\n",
       "      <td>51.0</td>\n",
       "      <td>3182.0</td>\n",
       "      <td>268.0</td>\n",
       "      <td>322.651296</td>\n",
       "      <td>224.327484</td>\n",
       "    </tr>\n",
       "  </tbody>\n",
       "</table>\n",
       "</div>"
      ],
      "text/plain": [
       "                             min                    max  \\\n",
       "          m_first_message_length m_first_message_length   \n",
       "ab                                                        \n",
       "control                      0.0                 2654.0   \n",
       "treatment                   51.0                 3182.0   \n",
       "\n",
       "                          median                   mean                    std  \n",
       "          m_first_message_length m_first_message_length m_first_message_length  \n",
       "ab                                                                              \n",
       "control                    277.0             322.814781             240.492930  \n",
       "treatment                  268.0             322.651296             224.327484  "
      ]
     },
     "execution_count": 32,
     "metadata": {},
     "output_type": "execute_result"
    }
   ],
   "source": [
    "df_c_f.pivot_table(index='ab', values='m_first_message_length', aggfunc=['min','max','median', 'mean','std'])"
   ]
  },
  {
   "cell_type": "markdown",
   "metadata": {},
   "source": [
    "The mean message length of the control and treatment groups are about the same.<br>\n",
    "Howeer, while the treatment group should have message lengths larger than 140 because o the experiment condition, the minimum message length is 51 characters."
   ]
  },
  {
   "cell_type": "code",
   "execution_count": 33,
   "metadata": {
    "scrolled": true
   },
   "outputs": [
    {
     "data": {
      "text/html": [
       "<div>\n",
       "<style scoped>\n",
       "    .dataframe tbody tr th:only-of-type {\n",
       "        vertical-align: middle;\n",
       "    }\n",
       "\n",
       "    .dataframe tbody tr th {\n",
       "        vertical-align: top;\n",
       "    }\n",
       "\n",
       "    .dataframe thead th {\n",
       "        text-align: right;\n",
       "    }\n",
       "</style>\n",
       "<table border=\"1\" class=\"dataframe\">\n",
       "  <thead>\n",
       "    <tr style=\"text-align: right;\">\n",
       "      <th></th>\n",
       "      <th>id_user</th>\n",
       "      <th>ab</th>\n",
       "      <th>id_guest</th>\n",
       "      <th>id_host</th>\n",
       "      <th>id_listing</th>\n",
       "      <th>ts_interaction_first</th>\n",
       "      <th>ts_reply_at_first</th>\n",
       "      <th>ts_accepted_at_first</th>\n",
       "      <th>ts_booking_at</th>\n",
       "      <th>dim_contact_channel</th>\n",
       "      <th>m_first_message_length</th>\n",
       "    </tr>\n",
       "  </thead>\n",
       "  <tbody>\n",
       "    <tr>\n",
       "      <th>1</th>\n",
       "      <td>873f93fb-234c-4cfb-83c7-27ff0e582a8e</td>\n",
       "      <td>treatment</td>\n",
       "      <td>873f93fb-234c-4cfb-83c7-27ff0e582a8e</td>\n",
       "      <td>aa41b57b-e29f-4c95-bf27-48f27519e419</td>\n",
       "      <td>d47717da-315a-42c2-8888-9b7d4bea8829</td>\n",
       "      <td>2013-01-02 00:21:26</td>\n",
       "      <td>2013-01-07 23:38:31</td>\n",
       "      <td>NaT</td>\n",
       "      <td>NaT</td>\n",
       "      <td>contact_me</td>\n",
       "      <td>98.0</td>\n",
       "    </tr>\n",
       "    <tr>\n",
       "      <th>16</th>\n",
       "      <td>ee0a90f6-e3f5-4b54-8c44-50dcded92f08</td>\n",
       "      <td>treatment</td>\n",
       "      <td>ee0a90f6-e3f5-4b54-8c44-50dcded92f08</td>\n",
       "      <td>1f69d93b-184f-4937-998d-949fee6639a9</td>\n",
       "      <td>59080b26-29fc-489a-8e34-c030dbea07c4</td>\n",
       "      <td>2013-01-03 21:33:59</td>\n",
       "      <td>2013-01-07 20:58:57</td>\n",
       "      <td>NaT</td>\n",
       "      <td>NaT</td>\n",
       "      <td>contact_me</td>\n",
       "      <td>124.0</td>\n",
       "    </tr>\n",
       "    <tr>\n",
       "      <th>110</th>\n",
       "      <td>f80991c8-6de3-4acb-beb5-a1448e36a005</td>\n",
       "      <td>treatment</td>\n",
       "      <td>f80991c8-6de3-4acb-beb5-a1448e36a005</td>\n",
       "      <td>20888cfa-e05d-4067-b24e-2eb83dfddc72</td>\n",
       "      <td>8abb1b00-6a69-467b-8dab-14273f312aa8</td>\n",
       "      <td>2013-01-27 18:19:19</td>\n",
       "      <td>2013-01-29 05:18:28</td>\n",
       "      <td>NaT</td>\n",
       "      <td>NaT</td>\n",
       "      <td>contact_me</td>\n",
       "      <td>106.0</td>\n",
       "    </tr>\n",
       "    <tr>\n",
       "      <th>111</th>\n",
       "      <td>765ce916-8856-4f4a-a902-484548fb988a</td>\n",
       "      <td>treatment</td>\n",
       "      <td>765ce916-8856-4f4a-a902-484548fb988a</td>\n",
       "      <td>e513f8f2-63eb-4ca1-b362-4a6a9294c618</td>\n",
       "      <td>b6ed4a87-79f0-4dcf-a4f2-fc85dd34a497</td>\n",
       "      <td>2013-01-27 19:47:07</td>\n",
       "      <td>2013-01-27 19:47:22</td>\n",
       "      <td>NaT</td>\n",
       "      <td>NaT</td>\n",
       "      <td>contact_me</td>\n",
       "      <td>92.0</td>\n",
       "    </tr>\n",
       "    <tr>\n",
       "      <th>121</th>\n",
       "      <td>93b70d8d-f938-482f-bf03-a4fc70b1926c</td>\n",
       "      <td>treatment</td>\n",
       "      <td>93b70d8d-f938-482f-bf03-a4fc70b1926c</td>\n",
       "      <td>1ad3c066-076c-4c8c-8b84-5090ce344079</td>\n",
       "      <td>d82a3c32-cec6-4dde-9004-59a4495c2f7a</td>\n",
       "      <td>2013-01-28 17:28:49</td>\n",
       "      <td>2013-01-29 06:37:31</td>\n",
       "      <td>2013-01-30 04:29:39</td>\n",
       "      <td>2013-01-30 04:29:39</td>\n",
       "      <td>contact_me</td>\n",
       "      <td>98.0</td>\n",
       "    </tr>\n",
       "    <tr>\n",
       "      <th>...</th>\n",
       "      <td>...</td>\n",
       "      <td>...</td>\n",
       "      <td>...</td>\n",
       "      <td>...</td>\n",
       "      <td>...</td>\n",
       "      <td>...</td>\n",
       "      <td>...</td>\n",
       "      <td>...</td>\n",
       "      <td>...</td>\n",
       "      <td>...</td>\n",
       "      <td>...</td>\n",
       "    </tr>\n",
       "    <tr>\n",
       "      <th>9076</th>\n",
       "      <td>21c968a1-a985-498e-bb73-10d0a9f96b58</td>\n",
       "      <td>treatment</td>\n",
       "      <td>21c968a1-a985-498e-bb73-10d0a9f96b58</td>\n",
       "      <td>1286a0b6-9d24-433e-94c9-ba14a604d4a8</td>\n",
       "      <td>ac127cb5-4e58-40c9-b0f0-264d09e7733d</td>\n",
       "      <td>2013-06-02 17:11:09</td>\n",
       "      <td>2013-06-05 15:05:17</td>\n",
       "      <td>NaT</td>\n",
       "      <td>NaT</td>\n",
       "      <td>contact_me</td>\n",
       "      <td>129.0</td>\n",
       "    </tr>\n",
       "    <tr>\n",
       "      <th>9089</th>\n",
       "      <td>af819a00-5edb-4881-876d-2988cc3058d5</td>\n",
       "      <td>treatment</td>\n",
       "      <td>af819a00-5edb-4881-876d-2988cc3058d5</td>\n",
       "      <td>573dc809-cab0-4b1a-b3ba-80d56179f54d</td>\n",
       "      <td>2b919b40-a7ac-4deb-8c63-721c9a713d13</td>\n",
       "      <td>2013-06-05 00:21:04</td>\n",
       "      <td>2013-06-05 01:34:36</td>\n",
       "      <td>2013-06-05 01:34:36</td>\n",
       "      <td>NaT</td>\n",
       "      <td>contact_me</td>\n",
       "      <td>55.0</td>\n",
       "    </tr>\n",
       "    <tr>\n",
       "      <th>9090</th>\n",
       "      <td>dc78b598-2475-4e57-b53b-909133987f74</td>\n",
       "      <td>treatment</td>\n",
       "      <td>dc78b598-2475-4e57-b53b-909133987f74</td>\n",
       "      <td>5fce2454-63d8-4917-8332-74488b54d540</td>\n",
       "      <td>c1331d40-47b9-4e8b-b491-204b827f5d01</td>\n",
       "      <td>2013-06-05 06:08:38</td>\n",
       "      <td>2013-06-05 14:55:01</td>\n",
       "      <td>NaT</td>\n",
       "      <td>NaT</td>\n",
       "      <td>contact_me</td>\n",
       "      <td>117.0</td>\n",
       "    </tr>\n",
       "    <tr>\n",
       "      <th>9093</th>\n",
       "      <td>effb59b1-f3ab-44d8-876e-396c32a0fefa</td>\n",
       "      <td>treatment</td>\n",
       "      <td>effb59b1-f3ab-44d8-876e-396c32a0fefa</td>\n",
       "      <td>d2202c5c-486a-45e1-992f-e6924c2d5542</td>\n",
       "      <td>b3933cdc-9487-44a0-a175-de0295601d3d</td>\n",
       "      <td>2013-06-05 15:50:46</td>\n",
       "      <td>2013-06-05 15:50:24</td>\n",
       "      <td>NaT</td>\n",
       "      <td>NaT</td>\n",
       "      <td>contact_me</td>\n",
       "      <td>117.0</td>\n",
       "    </tr>\n",
       "    <tr>\n",
       "      <th>9094</th>\n",
       "      <td>ef905b29-1204-476e-a100-344801add390</td>\n",
       "      <td>treatment</td>\n",
       "      <td>ef905b29-1204-476e-a100-344801add390</td>\n",
       "      <td>9f319b9b-d5c2-4168-b10b-69fe174a1a29</td>\n",
       "      <td>5952a3b4-1866-41b4-8988-494a56c4e291</td>\n",
       "      <td>2013-06-05 17:41:29</td>\n",
       "      <td>2013-06-05 18:44:27</td>\n",
       "      <td>2013-06-05 20:32:10</td>\n",
       "      <td>2013-06-08 17:18:47</td>\n",
       "      <td>contact_me</td>\n",
       "      <td>134.0</td>\n",
       "    </tr>\n",
       "  </tbody>\n",
       "</table>\n",
       "<p>671 rows × 11 columns</p>\n",
       "</div>"
      ],
      "text/plain": [
       "                                   id_user         ab  \\\n",
       "1     873f93fb-234c-4cfb-83c7-27ff0e582a8e  treatment   \n",
       "16    ee0a90f6-e3f5-4b54-8c44-50dcded92f08  treatment   \n",
       "110   f80991c8-6de3-4acb-beb5-a1448e36a005  treatment   \n",
       "111   765ce916-8856-4f4a-a902-484548fb988a  treatment   \n",
       "121   93b70d8d-f938-482f-bf03-a4fc70b1926c  treatment   \n",
       "...                                    ...        ...   \n",
       "9076  21c968a1-a985-498e-bb73-10d0a9f96b58  treatment   \n",
       "9089  af819a00-5edb-4881-876d-2988cc3058d5  treatment   \n",
       "9090  dc78b598-2475-4e57-b53b-909133987f74  treatment   \n",
       "9093  effb59b1-f3ab-44d8-876e-396c32a0fefa  treatment   \n",
       "9094  ef905b29-1204-476e-a100-344801add390  treatment   \n",
       "\n",
       "                                  id_guest  \\\n",
       "1     873f93fb-234c-4cfb-83c7-27ff0e582a8e   \n",
       "16    ee0a90f6-e3f5-4b54-8c44-50dcded92f08   \n",
       "110   f80991c8-6de3-4acb-beb5-a1448e36a005   \n",
       "111   765ce916-8856-4f4a-a902-484548fb988a   \n",
       "121   93b70d8d-f938-482f-bf03-a4fc70b1926c   \n",
       "...                                    ...   \n",
       "9076  21c968a1-a985-498e-bb73-10d0a9f96b58   \n",
       "9089  af819a00-5edb-4881-876d-2988cc3058d5   \n",
       "9090  dc78b598-2475-4e57-b53b-909133987f74   \n",
       "9093  effb59b1-f3ab-44d8-876e-396c32a0fefa   \n",
       "9094  ef905b29-1204-476e-a100-344801add390   \n",
       "\n",
       "                                   id_host  \\\n",
       "1     aa41b57b-e29f-4c95-bf27-48f27519e419   \n",
       "16    1f69d93b-184f-4937-998d-949fee6639a9   \n",
       "110   20888cfa-e05d-4067-b24e-2eb83dfddc72   \n",
       "111   e513f8f2-63eb-4ca1-b362-4a6a9294c618   \n",
       "121   1ad3c066-076c-4c8c-8b84-5090ce344079   \n",
       "...                                    ...   \n",
       "9076  1286a0b6-9d24-433e-94c9-ba14a604d4a8   \n",
       "9089  573dc809-cab0-4b1a-b3ba-80d56179f54d   \n",
       "9090  5fce2454-63d8-4917-8332-74488b54d540   \n",
       "9093  d2202c5c-486a-45e1-992f-e6924c2d5542   \n",
       "9094  9f319b9b-d5c2-4168-b10b-69fe174a1a29   \n",
       "\n",
       "                                id_listing ts_interaction_first  \\\n",
       "1     d47717da-315a-42c2-8888-9b7d4bea8829  2013-01-02 00:21:26   \n",
       "16    59080b26-29fc-489a-8e34-c030dbea07c4  2013-01-03 21:33:59   \n",
       "110   8abb1b00-6a69-467b-8dab-14273f312aa8  2013-01-27 18:19:19   \n",
       "111   b6ed4a87-79f0-4dcf-a4f2-fc85dd34a497  2013-01-27 19:47:07   \n",
       "121   d82a3c32-cec6-4dde-9004-59a4495c2f7a  2013-01-28 17:28:49   \n",
       "...                                    ...                  ...   \n",
       "9076  ac127cb5-4e58-40c9-b0f0-264d09e7733d  2013-06-02 17:11:09   \n",
       "9089  2b919b40-a7ac-4deb-8c63-721c9a713d13  2013-06-05 00:21:04   \n",
       "9090  c1331d40-47b9-4e8b-b491-204b827f5d01  2013-06-05 06:08:38   \n",
       "9093  b3933cdc-9487-44a0-a175-de0295601d3d  2013-06-05 15:50:46   \n",
       "9094  5952a3b4-1866-41b4-8988-494a56c4e291  2013-06-05 17:41:29   \n",
       "\n",
       "       ts_reply_at_first ts_accepted_at_first       ts_booking_at  \\\n",
       "1    2013-01-07 23:38:31                  NaT                 NaT   \n",
       "16   2013-01-07 20:58:57                  NaT                 NaT   \n",
       "110  2013-01-29 05:18:28                  NaT                 NaT   \n",
       "111  2013-01-27 19:47:22                  NaT                 NaT   \n",
       "121  2013-01-29 06:37:31  2013-01-30 04:29:39 2013-01-30 04:29:39   \n",
       "...                  ...                  ...                 ...   \n",
       "9076 2013-06-05 15:05:17                  NaT                 NaT   \n",
       "9089 2013-06-05 01:34:36  2013-06-05 01:34:36                 NaT   \n",
       "9090 2013-06-05 14:55:01                  NaT                 NaT   \n",
       "9093 2013-06-05 15:50:24                  NaT                 NaT   \n",
       "9094 2013-06-05 18:44:27  2013-06-05 20:32:10 2013-06-08 17:18:47   \n",
       "\n",
       "     dim_contact_channel  m_first_message_length  \n",
       "1             contact_me                    98.0  \n",
       "16            contact_me                   124.0  \n",
       "110           contact_me                   106.0  \n",
       "111           contact_me                    92.0  \n",
       "121           contact_me                    98.0  \n",
       "...                  ...                     ...  \n",
       "9076          contact_me                   129.0  \n",
       "9089          contact_me                    55.0  \n",
       "9090          contact_me                   117.0  \n",
       "9093          contact_me                   117.0  \n",
       "9094          contact_me                   134.0  \n",
       "\n",
       "[671 rows x 11 columns]"
      ]
     },
     "execution_count": 33,
     "metadata": {},
     "output_type": "execute_result"
    }
   ],
   "source": [
    "df_c_f.loc[(df_c_f['ab']=='treatment')&\n",
    "           (df_c_f['m_first_message_length']<140)]"
   ]
  },
  {
   "cell_type": "markdown",
   "metadata": {},
   "source": [
    "There are 671 bookings in the treatment group in which the user's first message is less than 140 characters.<br>\n",
    "This possibly occurred because the description of the restriction (messages should have at least 140 characters) is not clear enough.<br>\n",
    "Removing these 671 bookings will cause the number of users in the treatment group to be significantly less than the number of users in the control group. For now, leave thes users in the treatment group."
   ]
  },
  {
   "cell_type": "markdown",
   "metadata": {},
   "source": [
    "## 2. Analysis"
   ]
  },
  {
   "cell_type": "markdown",
   "metadata": {},
   "source": [
    "### 2.1 Define metrics"
   ]
  },
  {
   "cell_type": "markdown",
   "metadata": {},
   "source": [
    "Since the goal of the experiment is to help the guests maximize their chances of being accepted by the host, the most reasonable metrics would be the acceptance rate instead of the booking rate.<br>\n",
    "Acceptance rate = # of bookings accepted / # of bookings made"
   ]
  },
  {
   "cell_type": "markdown",
   "metadata": {},
   "source": [
    "#### Evaluation metrics: Z score"
   ]
  },
  {
   "cell_type": "code",
   "execution_count": 35,
   "metadata": {},
   "outputs": [],
   "source": [
    "#define function for two-proportion z test\n",
    "#reference: https://www.statisticshowto.com/z-test/\n",
    "\n",
    "def z_test(t_size, c_size, t_tot, c_tot):\n",
    "    t_rate = t_size/t_tot\n",
    "    c_rate = c_size/c_tot\n",
    "    \n",
    "    p = (t_size+c_size)/(t_tot+c_tot)\n",
    "    \n",
    "    if p!=1:\n",
    "        z_score = (t_rate-c_rate) / np.sqrt(p*(1-p)*(1/t_tot+1/c_tot))\n",
    "    else:\n",
    "        z_score = 0\n",
    "    return z_score"
   ]
  },
  {
   "cell_type": "markdown",
   "metadata": {},
   "source": [
    "### 2.2 Calculate Acceptance Rate"
   ]
  },
  {
   "cell_type": "code",
   "execution_count": 36,
   "metadata": {
    "scrolled": true
   },
   "outputs": [
    {
     "data": {
      "text/html": [
       "<div>\n",
       "<style scoped>\n",
       "    .dataframe tbody tr th:only-of-type {\n",
       "        vertical-align: middle;\n",
       "    }\n",
       "\n",
       "    .dataframe tbody tr th {\n",
       "        vertical-align: top;\n",
       "    }\n",
       "\n",
       "    .dataframe thead th {\n",
       "        text-align: right;\n",
       "    }\n",
       "</style>\n",
       "<table border=\"1\" class=\"dataframe\">\n",
       "  <thead>\n",
       "    <tr style=\"text-align: right;\">\n",
       "      <th></th>\n",
       "      <th>ts_interaction_first</th>\n",
       "      <th>ts_reply_at_first</th>\n",
       "      <th>ts_accepted_at_first</th>\n",
       "      <th>ts_booking_at</th>\n",
       "    </tr>\n",
       "    <tr>\n",
       "      <th>ab</th>\n",
       "      <th></th>\n",
       "      <th></th>\n",
       "      <th></th>\n",
       "      <th></th>\n",
       "    </tr>\n",
       "  </thead>\n",
       "  <tbody>\n",
       "    <tr>\n",
       "      <th>control</th>\n",
       "      <td>4550</td>\n",
       "      <td>3906</td>\n",
       "      <td>1595</td>\n",
       "      <td>1039</td>\n",
       "    </tr>\n",
       "    <tr>\n",
       "      <th>treatment</th>\n",
       "      <td>4554</td>\n",
       "      <td>3935</td>\n",
       "      <td>1561</td>\n",
       "      <td>1038</td>\n",
       "    </tr>\n",
       "  </tbody>\n",
       "</table>\n",
       "</div>"
      ],
      "text/plain": [
       "           ts_interaction_first  ts_reply_at_first  ts_accepted_at_first  \\\n",
       "ab                                                                         \n",
       "control                    4550               3906                  1595   \n",
       "treatment                  4554               3935                  1561   \n",
       "\n",
       "           ts_booking_at  \n",
       "ab                        \n",
       "control             1039  \n",
       "treatment           1038  "
      ]
     },
     "execution_count": 36,
     "metadata": {},
     "output_type": "execute_result"
    }
   ],
   "source": [
    "dates_group = df_c_f.pivot_table(index='ab', values=date_cols, aggfunc='count')\n",
    "dates_group = dates_group[date_cols]\n",
    "dates_group"
   ]
  },
  {
   "cell_type": "code",
   "execution_count": 37,
   "metadata": {},
   "outputs": [
    {
     "name": "stdout",
     "output_type": "stream",
     "text": [
      "Accpetance rate of control group: 0.3505494505494505\n",
      "Accpetance rate of treatment group: 0.3427755819060167\n"
     ]
    }
   ],
   "source": [
    "c_tot = dates_group.loc['control', 'ts_interaction_first']\n",
    "c_size = dates_group.loc['control', 'ts_accepted_at_first']\n",
    "print('Accpetance rate of control group: ' + str(c_size/c_tot))\n",
    "\n",
    "t_tot = dates_group.loc['treatment', 'ts_interaction_first']\n",
    "t_size = dates_group.loc['treatment', 'ts_accepted_at_first']\n",
    "print('Accpetance rate of treatment group: ' + str(t_size/t_tot))"
   ]
  },
  {
   "cell_type": "code",
   "execution_count": 38,
   "metadata": {},
   "outputs": [
    {
     "name": "stdout",
     "output_type": "stream",
     "text": [
      "The z score is: -0.779294402482624\n"
     ]
    }
   ],
   "source": [
    "z = z_test(t_size, c_size, t_tot, c_tot)\n",
    "print('The z score is: ' + str(z))"
   ]
  },
  {
   "cell_type": "markdown",
   "metadata": {},
   "source": [
    "Z scoreis well below 1.96. The null hypothesis, that the control group is the same as the treatment group, cannot be rejected."
   ]
  },
  {
   "cell_type": "code",
   "execution_count": 39,
   "metadata": {},
   "outputs": [
    {
     "name": "stdout",
     "output_type": "stream",
     "text": [
      "(105, 11)\n"
     ]
    },
    {
     "data": {
      "text/html": [
       "<div>\n",
       "<style scoped>\n",
       "    .dataframe tbody tr th:only-of-type {\n",
       "        vertical-align: middle;\n",
       "    }\n",
       "\n",
       "    .dataframe tbody tr th {\n",
       "        vertical-align: top;\n",
       "    }\n",
       "\n",
       "    .dataframe thead th {\n",
       "        text-align: right;\n",
       "    }\n",
       "</style>\n",
       "<table border=\"1\" class=\"dataframe\">\n",
       "  <thead>\n",
       "    <tr style=\"text-align: right;\">\n",
       "      <th></th>\n",
       "      <th>id_user</th>\n",
       "      <th>ab</th>\n",
       "      <th>id_guest</th>\n",
       "      <th>id_host</th>\n",
       "      <th>id_listing</th>\n",
       "      <th>ts_interaction_first</th>\n",
       "      <th>ts_reply_at_first</th>\n",
       "      <th>ts_accepted_at_first</th>\n",
       "      <th>ts_booking_at</th>\n",
       "      <th>dim_contact_channel</th>\n",
       "      <th>m_first_message_length</th>\n",
       "    </tr>\n",
       "  </thead>\n",
       "  <tbody>\n",
       "    <tr>\n",
       "      <th>176</th>\n",
       "      <td>30abce0e-e105-41b0-b31a-0673efa0cd26</td>\n",
       "      <td>treatment</td>\n",
       "      <td>30abce0e-e105-41b0-b31a-0673efa0cd26</td>\n",
       "      <td>a8b671c7-4bdf-4896-b42f-2ba1b1a93adf</td>\n",
       "      <td>6e59bc7e-8084-4ff4-a1b2-21399a6b8829</td>\n",
       "      <td>2013-02-11 09:51:06</td>\n",
       "      <td>2013-02-11 09:49:27</td>\n",
       "      <td>2013-02-11 09:49:27</td>\n",
       "      <td>2013-02-11 09:49:27</td>\n",
       "      <td>instant_booked</td>\n",
       "      <td>391.0</td>\n",
       "    </tr>\n",
       "    <tr>\n",
       "      <th>309</th>\n",
       "      <td>0de89a34-2978-4bbf-b60a-f6607affa804</td>\n",
       "      <td>treatment</td>\n",
       "      <td>0de89a34-2978-4bbf-b60a-f6607affa804</td>\n",
       "      <td>f50d600e-b995-4313-aa7b-a5ac605bf5e0</td>\n",
       "      <td>5051a4f0-d301-48f3-81fc-093c8550570b</td>\n",
       "      <td>2013-03-08 05:36:44</td>\n",
       "      <td>2013-03-08 05:36:33</td>\n",
       "      <td>2013-03-08 05:36:33</td>\n",
       "      <td>2013-03-08 05:36:33</td>\n",
       "      <td>book_it</td>\n",
       "      <td>277.0</td>\n",
       "    </tr>\n",
       "    <tr>\n",
       "      <th>456</th>\n",
       "      <td>756b7b3b-02bd-4b12-ab3c-030bab2097ef</td>\n",
       "      <td>control</td>\n",
       "      <td>756b7b3b-02bd-4b12-ab3c-030bab2097ef</td>\n",
       "      <td>4a284860-eb40-48cd-b5b5-b27c7b98a321</td>\n",
       "      <td>cd2f1faf-a222-4c1d-bbf0-4c1988d9565b</td>\n",
       "      <td>2013-03-28 01:30:28</td>\n",
       "      <td>2013-03-28 01:28:49</td>\n",
       "      <td>2013-03-28 01:28:49</td>\n",
       "      <td>2013-03-28 01:28:49</td>\n",
       "      <td>book_it</td>\n",
       "      <td>69.0</td>\n",
       "    </tr>\n",
       "    <tr>\n",
       "      <th>484</th>\n",
       "      <td>8c5bedad-e5e9-4a2e-9da5-98f9e187c4b6</td>\n",
       "      <td>treatment</td>\n",
       "      <td>8c5bedad-e5e9-4a2e-9da5-98f9e187c4b6</td>\n",
       "      <td>c74ba46f-6e65-4be9-b5b5-8b582e5d505e</td>\n",
       "      <td>13d3ac8d-7b30-451c-a3f3-fdcafe3fd3a5</td>\n",
       "      <td>2013-04-01 15:18:49</td>\n",
       "      <td>2013-04-01 15:17:10</td>\n",
       "      <td>2013-04-01 15:17:10</td>\n",
       "      <td>2013-04-01 15:17:10</td>\n",
       "      <td>instant_booked</td>\n",
       "      <td>379.0</td>\n",
       "    </tr>\n",
       "    <tr>\n",
       "      <th>590</th>\n",
       "      <td>8c0ecaed-eec2-481f-ae3e-e35304c9e8fe</td>\n",
       "      <td>control</td>\n",
       "      <td>8c0ecaed-eec2-481f-ae3e-e35304c9e8fe</td>\n",
       "      <td>1ae0bb1c-7c7a-49bd-a640-7c4325572e02</td>\n",
       "      <td>d825f2f8-84f5-435b-a61c-642f02c50711</td>\n",
       "      <td>2013-04-12 19:56:51</td>\n",
       "      <td>2013-04-12 19:56:32</td>\n",
       "      <td>2013-04-12 19:56:32</td>\n",
       "      <td>2013-04-13 00:08:12</td>\n",
       "      <td>contact_me</td>\n",
       "      <td>74.0</td>\n",
       "    </tr>\n",
       "  </tbody>\n",
       "</table>\n",
       "</div>"
      ],
      "text/plain": [
       "                                  id_user         ab  \\\n",
       "176  30abce0e-e105-41b0-b31a-0673efa0cd26  treatment   \n",
       "309  0de89a34-2978-4bbf-b60a-f6607affa804  treatment   \n",
       "456  756b7b3b-02bd-4b12-ab3c-030bab2097ef    control   \n",
       "484  8c5bedad-e5e9-4a2e-9da5-98f9e187c4b6  treatment   \n",
       "590  8c0ecaed-eec2-481f-ae3e-e35304c9e8fe    control   \n",
       "\n",
       "                                 id_guest  \\\n",
       "176  30abce0e-e105-41b0-b31a-0673efa0cd26   \n",
       "309  0de89a34-2978-4bbf-b60a-f6607affa804   \n",
       "456  756b7b3b-02bd-4b12-ab3c-030bab2097ef   \n",
       "484  8c5bedad-e5e9-4a2e-9da5-98f9e187c4b6   \n",
       "590  8c0ecaed-eec2-481f-ae3e-e35304c9e8fe   \n",
       "\n",
       "                                  id_host  \\\n",
       "176  a8b671c7-4bdf-4896-b42f-2ba1b1a93adf   \n",
       "309  f50d600e-b995-4313-aa7b-a5ac605bf5e0   \n",
       "456  4a284860-eb40-48cd-b5b5-b27c7b98a321   \n",
       "484  c74ba46f-6e65-4be9-b5b5-8b582e5d505e   \n",
       "590  1ae0bb1c-7c7a-49bd-a640-7c4325572e02   \n",
       "\n",
       "                               id_listing ts_interaction_first  \\\n",
       "176  6e59bc7e-8084-4ff4-a1b2-21399a6b8829  2013-02-11 09:51:06   \n",
       "309  5051a4f0-d301-48f3-81fc-093c8550570b  2013-03-08 05:36:44   \n",
       "456  cd2f1faf-a222-4c1d-bbf0-4c1988d9565b  2013-03-28 01:30:28   \n",
       "484  13d3ac8d-7b30-451c-a3f3-fdcafe3fd3a5  2013-04-01 15:18:49   \n",
       "590  d825f2f8-84f5-435b-a61c-642f02c50711  2013-04-12 19:56:51   \n",
       "\n",
       "      ts_reply_at_first ts_accepted_at_first       ts_booking_at  \\\n",
       "176 2013-02-11 09:49:27  2013-02-11 09:49:27 2013-02-11 09:49:27   \n",
       "309 2013-03-08 05:36:33  2013-03-08 05:36:33 2013-03-08 05:36:33   \n",
       "456 2013-03-28 01:28:49  2013-03-28 01:28:49 2013-03-28 01:28:49   \n",
       "484 2013-04-01 15:17:10  2013-04-01 15:17:10 2013-04-01 15:17:10   \n",
       "590 2013-04-12 19:56:32  2013-04-12 19:56:32 2013-04-13 00:08:12   \n",
       "\n",
       "    dim_contact_channel  m_first_message_length  \n",
       "176      instant_booked                   391.0  \n",
       "309             book_it                   277.0  \n",
       "456             book_it                    69.0  \n",
       "484      instant_booked                   379.0  \n",
       "590          contact_me                    74.0  "
      ]
     },
     "execution_count": 39,
     "metadata": {},
     "output_type": "execute_result"
    }
   ],
   "source": [
    "df_c_f_acc = df_c_f.loc[df_c_f['ts_accepted_at_first'] < df_c_f['ts_interaction_first']]\n",
    "print(df_c_f_acc.shape)\n",
    "df_c_f_acc.head()"
   ]
  },
  {
   "cell_type": "markdown",
   "metadata": {},
   "source": [
    "In some cases, the time the booking is accepted is earlier than the time the first inquiry is made.<br>\n",
    "There are only 105 cases where this happens, so it might be an error in recording time."
   ]
  },
  {
   "cell_type": "code",
   "execution_count": 40,
   "metadata": {},
   "outputs": [
    {
     "data": {
      "text/plain": [
       "book_it           42\n",
       "instant_booked    42\n",
       "contact_me        21\n",
       "Name: dim_contact_channel, dtype: int64"
      ]
     },
     "execution_count": 40,
     "metadata": {},
     "output_type": "execute_result"
    }
   ],
   "source": [
    "df_c_f_acc['dim_contact_channel'].value_counts()"
   ]
  },
  {
   "cell_type": "markdown",
   "metadata": {},
   "source": [
    "This phenomenon happens across all three channels, so it is unlikely the result of guests booking through a particular channel."
   ]
  },
  {
   "cell_type": "code",
   "execution_count": 41,
   "metadata": {},
   "outputs": [],
   "source": [
    "df_c_f_ = df_c_f.loc[~(df_c_f['ts_accepted_at_first'] < df_c_f['ts_interaction_first'])]"
   ]
  },
  {
   "cell_type": "code",
   "execution_count": 42,
   "metadata": {},
   "outputs": [
    {
     "data": {
      "text/html": [
       "<div>\n",
       "<style scoped>\n",
       "    .dataframe tbody tr th:only-of-type {\n",
       "        vertical-align: middle;\n",
       "    }\n",
       "\n",
       "    .dataframe tbody tr th {\n",
       "        vertical-align: top;\n",
       "    }\n",
       "\n",
       "    .dataframe thead th {\n",
       "        text-align: right;\n",
       "    }\n",
       "</style>\n",
       "<table border=\"1\" class=\"dataframe\">\n",
       "  <thead>\n",
       "    <tr style=\"text-align: right;\">\n",
       "      <th></th>\n",
       "      <th>id_user</th>\n",
       "      <th>ts_interaction_first</th>\n",
       "      <th>ts_reply_at_first</th>\n",
       "      <th>ts_accepted_at_first</th>\n",
       "      <th>ts_booking_at</th>\n",
       "    </tr>\n",
       "    <tr>\n",
       "      <th>ab</th>\n",
       "      <th></th>\n",
       "      <th></th>\n",
       "      <th></th>\n",
       "      <th></th>\n",
       "      <th></th>\n",
       "    </tr>\n",
       "  </thead>\n",
       "  <tbody>\n",
       "    <tr>\n",
       "      <th>control</th>\n",
       "      <td>4495</td>\n",
       "      <td>4495</td>\n",
       "      <td>3852</td>\n",
       "      <td>1540</td>\n",
       "      <td>990</td>\n",
       "    </tr>\n",
       "    <tr>\n",
       "      <th>treatment</th>\n",
       "      <td>4504</td>\n",
       "      <td>4504</td>\n",
       "      <td>3885</td>\n",
       "      <td>1511</td>\n",
       "      <td>994</td>\n",
       "    </tr>\n",
       "  </tbody>\n",
       "</table>\n",
       "</div>"
      ],
      "text/plain": [
       "           id_user  ts_interaction_first  ts_reply_at_first  \\\n",
       "ab                                                            \n",
       "control       4495                  4495               3852   \n",
       "treatment     4504                  4504               3885   \n",
       "\n",
       "           ts_accepted_at_first  ts_booking_at  \n",
       "ab                                              \n",
       "control                    1540            990  \n",
       "treatment                  1511            994  "
      ]
     },
     "execution_count": 42,
     "metadata": {},
     "output_type": "execute_result"
    }
   ],
   "source": [
    "dates_group_ = df_c_f_.pivot_table(index='ab', values=['id_user']+date_cols, aggfunc='count')\n",
    "dates_group_ = dates_group_[['id_user']+date_cols]\n",
    "dates_group_"
   ]
  },
  {
   "cell_type": "code",
   "execution_count": 43,
   "metadata": {},
   "outputs": [
    {
     "name": "stdout",
     "output_type": "stream",
     "text": [
      "Accpetance rate of control group: 0.3426028921023359\n",
      "Accpetance rate of treatment group: 0.3354795737122558\n"
     ]
    }
   ],
   "source": [
    "c_tot_ = dates_group_.loc['control', 'ts_interaction_first']\n",
    "c_size_ = dates_group_.loc['control', 'ts_accepted_at_first']\n",
    "print('Accpetance rate of control group: ' + str(c_size_/c_tot_))\n",
    "\n",
    "t_tot_ = dates_group_.loc['treatment', 'ts_interaction_first']\n",
    "t_size_ = dates_group_.loc['treatment', 'ts_accepted_at_first']\n",
    "print('Accpetance rate of treatment group: ' + str(t_size_/t_tot_))"
   ]
  },
  {
   "cell_type": "code",
   "execution_count": 44,
   "metadata": {},
   "outputs": [
    {
     "name": "stdout",
     "output_type": "stream",
     "text": [
      "The z score is: -0.7137349069396788\n"
     ]
    }
   ],
   "source": [
    "z_ = z_test(t_size_, c_size_, t_tot_, c_tot_)\n",
    "print('The z score is: {}'.format(z_))"
   ]
  },
  {
   "cell_type": "markdown",
   "metadata": {},
   "source": [
    "Even after removing the 105 bookings, the z score is well below 1.65. Therefore, the treatment and control groups are not different."
   ]
  },
  {
   "cell_type": "markdown",
   "metadata": {},
   "source": [
    "### 2.3 Calculate acceptance rate by booking channel"
   ]
  },
  {
   "cell_type": "code",
   "execution_count": 45,
   "metadata": {
    "scrolled": true
   },
   "outputs": [
    {
     "data": {
      "text/html": [
       "<div>\n",
       "<style scoped>\n",
       "    .dataframe tbody tr th:only-of-type {\n",
       "        vertical-align: middle;\n",
       "    }\n",
       "\n",
       "    .dataframe tbody tr th {\n",
       "        vertical-align: top;\n",
       "    }\n",
       "\n",
       "    .dataframe thead th {\n",
       "        text-align: right;\n",
       "    }\n",
       "</style>\n",
       "<table border=\"1\" class=\"dataframe\">\n",
       "  <thead>\n",
       "    <tr style=\"text-align: right;\">\n",
       "      <th></th>\n",
       "      <th></th>\n",
       "      <th>id_user</th>\n",
       "      <th>ts_interaction_first</th>\n",
       "      <th>ts_reply_at_first</th>\n",
       "      <th>ts_accepted_at_first</th>\n",
       "      <th>ts_booking_at</th>\n",
       "    </tr>\n",
       "    <tr>\n",
       "      <th>ab</th>\n",
       "      <th>dim_contact_channel</th>\n",
       "      <th></th>\n",
       "      <th></th>\n",
       "      <th></th>\n",
       "      <th></th>\n",
       "      <th></th>\n",
       "    </tr>\n",
       "  </thead>\n",
       "  <tbody>\n",
       "    <tr>\n",
       "      <th rowspan=\"3\" valign=\"top\">control</th>\n",
       "      <th>book_it</th>\n",
       "      <td>880</td>\n",
       "      <td>880</td>\n",
       "      <td>808</td>\n",
       "      <td>514</td>\n",
       "      <td>510</td>\n",
       "    </tr>\n",
       "    <tr>\n",
       "      <th>contact_me</th>\n",
       "      <td>3648</td>\n",
       "      <td>3648</td>\n",
       "      <td>3076</td>\n",
       "      <td>1059</td>\n",
       "      <td>507</td>\n",
       "    </tr>\n",
       "    <tr>\n",
       "      <th>instant_booked</th>\n",
       "      <td>22</td>\n",
       "      <td>22</td>\n",
       "      <td>22</td>\n",
       "      <td>22</td>\n",
       "      <td>22</td>\n",
       "    </tr>\n",
       "    <tr>\n",
       "      <th rowspan=\"3\" valign=\"top\">treatment</th>\n",
       "      <th>book_it</th>\n",
       "      <td>890</td>\n",
       "      <td>890</td>\n",
       "      <td>809</td>\n",
       "      <td>497</td>\n",
       "      <td>492</td>\n",
       "    </tr>\n",
       "    <tr>\n",
       "      <th>contact_me</th>\n",
       "      <td>3642</td>\n",
       "      <td>3642</td>\n",
       "      <td>3104</td>\n",
       "      <td>1042</td>\n",
       "      <td>524</td>\n",
       "    </tr>\n",
       "    <tr>\n",
       "      <th>instant_booked</th>\n",
       "      <td>22</td>\n",
       "      <td>22</td>\n",
       "      <td>22</td>\n",
       "      <td>22</td>\n",
       "      <td>22</td>\n",
       "    </tr>\n",
       "  </tbody>\n",
       "</table>\n",
       "</div>"
      ],
      "text/plain": [
       "                               id_user  ts_interaction_first  \\\n",
       "ab        dim_contact_channel                                  \n",
       "control   book_it                  880                   880   \n",
       "          contact_me              3648                  3648   \n",
       "          instant_booked            22                    22   \n",
       "treatment book_it                  890                   890   \n",
       "          contact_me              3642                  3642   \n",
       "          instant_booked            22                    22   \n",
       "\n",
       "                               ts_reply_at_first  ts_accepted_at_first  \\\n",
       "ab        dim_contact_channel                                            \n",
       "control   book_it                            808                   514   \n",
       "          contact_me                        3076                  1059   \n",
       "          instant_booked                      22                    22   \n",
       "treatment book_it                            809                   497   \n",
       "          contact_me                        3104                  1042   \n",
       "          instant_booked                      22                    22   \n",
       "\n",
       "                               ts_booking_at  \n",
       "ab        dim_contact_channel                 \n",
       "control   book_it                        510  \n",
       "          contact_me                     507  \n",
       "          instant_booked                  22  \n",
       "treatment book_it                        492  \n",
       "          contact_me                     524  \n",
       "          instant_booked                  22  "
      ]
     },
     "execution_count": 45,
     "metadata": {},
     "output_type": "execute_result"
    }
   ],
   "source": [
    "channel_group = df_c_f.pivot_table(index=['ab','dim_contact_channel'], values=['id_user']+date_cols, aggfunc='count')\n",
    "channel_group = channel_group[['id_user']+date_cols]\n",
    "channel_group"
   ]
  },
  {
   "cell_type": "code",
   "execution_count": 46,
   "metadata": {},
   "outputs": [],
   "source": [
    "channels = df_c_f['dim_contact_channel'].unique()"
   ]
  },
  {
   "cell_type": "code",
   "execution_count": 47,
   "metadata": {},
   "outputs": [
    {
     "name": "stdout",
     "output_type": "stream",
     "text": [
      "contact_me: Control group acceptance rate is 0.29\n",
      "contact_me: Treatment group acceptance rate is 0.29\n",
      "The z score for contact_me channel is: -0.3948847153852381\n",
      "book_it: Control group acceptance rate is 0.58\n",
      "book_it: Treatment group acceptance rate is 0.56\n",
      "The z score for book_it channel is: -1.0908119459992882\n",
      "instant_booked: Control group acceptance rate is 1.0\n",
      "instant_booked: Treatment group acceptance rate is 1.0\n",
      "The z score for instant_booked channel is: 0\n"
     ]
    }
   ],
   "source": [
    "for c in channels:\n",
    "    c_tot_ = channel_group.loc[('control', c), 'ts_interaction_first']\n",
    "    c_size_ = channel_group.loc[('control', c), 'ts_accepted_at_first']\n",
    "    t_tot_ = channel_group.loc[('treatment', c), 'ts_interaction_first']\n",
    "    t_size_ = channel_group.loc[('treatment', c), 'ts_accepted_at_first']\n",
    "    z_ = z_test(t_size_, c_size_, t_tot_, c_tot_)\n",
    "    print('{}: Control group acceptance rate is {}'.format(c, round(c_size_/c_tot_, 2)))\n",
    "    print('{}: Treatment group acceptance rate is {}'.format(c, round(t_size_/t_tot_, 2)))\n",
    "    print('The z score for {} channel is: {}'.format(c, z_))"
   ]
  },
  {
   "cell_type": "markdown",
   "metadata": {},
   "source": [
    "The z scores for all channels of contact are well below the significant level."
   ]
  },
  {
   "cell_type": "markdown",
   "metadata": {},
   "source": [
    "### 2.4 Compare the number of days between first interaction and acceptance"
   ]
  },
  {
   "cell_type": "code",
   "execution_count": 48,
   "metadata": {
    "scrolled": true
   },
   "outputs": [
    {
     "name": "stderr",
     "output_type": "stream",
     "text": [
      "C:\\anaconda3\\lib\\site-packages\\ipykernel_launcher.py:4: SettingWithCopyWarning: \n",
      "A value is trying to be set on a copy of a slice from a DataFrame.\n",
      "Try using .loc[row_indexer,col_indexer] = value instead\n",
      "\n",
      "See the caveats in the documentation: https://pandas.pydata.org/pandas-docs/stable/user_guide/indexing.html#returning-a-view-versus-a-copy\n",
      "  after removing the cwd from sys.path.\n",
      "C:\\anaconda3\\lib\\site-packages\\ipykernel_launcher.py:7: SettingWithCopyWarning: \n",
      "A value is trying to be set on a copy of a slice from a DataFrame.\n",
      "Try using .loc[row_indexer,col_indexer] = value instead\n",
      "\n",
      "See the caveats in the documentation: https://pandas.pydata.org/pandas-docs/stable/user_guide/indexing.html#returning-a-view-versus-a-copy\n",
      "  import sys\n",
      "C:\\anaconda3\\lib\\site-packages\\ipykernel_launcher.py:8: SettingWithCopyWarning: \n",
      "A value is trying to be set on a copy of a slice from a DataFrame.\n",
      "Try using .loc[row_indexer,col_indexer] = value instead\n",
      "\n",
      "See the caveats in the documentation: https://pandas.pydata.org/pandas-docs/stable/user_guide/indexing.html#returning-a-view-versus-a-copy\n",
      "  \n",
      "C:\\anaconda3\\lib\\site-packages\\ipykernel_launcher.py:10: SettingWithCopyWarning: \n",
      "A value is trying to be set on a copy of a slice from a DataFrame.\n",
      "Try using .loc[row_indexer,col_indexer] = value instead\n",
      "\n",
      "See the caveats in the documentation: https://pandas.pydata.org/pandas-docs/stable/user_guide/indexing.html#returning-a-view-versus-a-copy\n",
      "  # Remove the CWD from sys.path while we load stuff.\n",
      "C:\\anaconda3\\lib\\site-packages\\ipykernel_launcher.py:11: SettingWithCopyWarning: \n",
      "A value is trying to be set on a copy of a slice from a DataFrame.\n",
      "Try using .loc[row_indexer,col_indexer] = value instead\n",
      "\n",
      "See the caveats in the documentation: https://pandas.pydata.org/pandas-docs/stable/user_guide/indexing.html#returning-a-view-versus-a-copy\n",
      "  # This is added back by InteractiveShellApp.init_path()\n"
     ]
    }
   ],
   "source": [
    "df_c_f_dur = df_c_f.loc[df_c_f['ts_accepted_at_first'].notnull()]\n",
    "\n",
    "# Calculate time spent from acceptance to first interaction\n",
    "df_c_f_dur['duration'] = (df_c_f_dur['ts_accepted_at_first'] - df_c_f_dur['ts_interaction_first'])\n",
    "\n",
    "# Calculate the number of days from acceptance to first interaction\n",
    "df_c_f_dur['hours'] = round((df_c_f_dur['duration'].dt.total_seconds() / 3600))\n",
    "df_c_f_dur['hours'] = df_c_f_dur['hours'].apply(lambda x: 0.0 if x == -0.0 else x)\n",
    "\n",
    "df_c_f_dur['days'] = round(df_c_f_dur['hours'] / 24)\n",
    "df_c_f_dur['days'] = df_c_f_dur['days'].apply(lambda x: 0.0 if x == -0.0 else x)"
   ]
  },
  {
   "cell_type": "code",
   "execution_count": 49,
   "metadata": {},
   "outputs": [
    {
     "data": {
      "text/html": [
       "<div>\n",
       "<style scoped>\n",
       "    .dataframe tbody tr th:only-of-type {\n",
       "        vertical-align: middle;\n",
       "    }\n",
       "\n",
       "    .dataframe tbody tr th {\n",
       "        vertical-align: top;\n",
       "    }\n",
       "\n",
       "    .dataframe thead th {\n",
       "        text-align: right;\n",
       "    }\n",
       "</style>\n",
       "<table border=\"1\" class=\"dataframe\">\n",
       "  <thead>\n",
       "    <tr style=\"text-align: right;\">\n",
       "      <th></th>\n",
       "      <th>id_user</th>\n",
       "      <th>ab</th>\n",
       "      <th>id_guest</th>\n",
       "      <th>id_host</th>\n",
       "      <th>id_listing</th>\n",
       "      <th>ts_interaction_first</th>\n",
       "      <th>ts_reply_at_first</th>\n",
       "      <th>ts_accepted_at_first</th>\n",
       "      <th>ts_booking_at</th>\n",
       "      <th>dim_contact_channel</th>\n",
       "      <th>m_first_message_length</th>\n",
       "      <th>duration</th>\n",
       "      <th>hours</th>\n",
       "      <th>days</th>\n",
       "    </tr>\n",
       "  </thead>\n",
       "  <tbody>\n",
       "    <tr>\n",
       "      <th>2</th>\n",
       "      <td>7308791e-04c3-416a-be2d-4188816decc2</td>\n",
       "      <td>control</td>\n",
       "      <td>7308791e-04c3-416a-be2d-4188816decc2</td>\n",
       "      <td>8b118ba1-b439-493e-88c7-2c89a81cec1b</td>\n",
       "      <td>ac231804-951c-4fcb-a0e6-1a4aecbfb6ce</td>\n",
       "      <td>2013-01-02 02:30:19</td>\n",
       "      <td>2013-01-02 18:06:10</td>\n",
       "      <td>2013-01-02 18:06:10</td>\n",
       "      <td>NaT</td>\n",
       "      <td>contact_me</td>\n",
       "      <td>278.0</td>\n",
       "      <td>15:35:51</td>\n",
       "      <td>16.0</td>\n",
       "      <td>1.0</td>\n",
       "    </tr>\n",
       "    <tr>\n",
       "      <th>9</th>\n",
       "      <td>7bd7d2b5-040c-4a72-8bba-7bd8da14cb7f</td>\n",
       "      <td>treatment</td>\n",
       "      <td>7bd7d2b5-040c-4a72-8bba-7bd8da14cb7f</td>\n",
       "      <td>8903a438-9f2d-4b6f-b27f-ca896e0420ca</td>\n",
       "      <td>6a956576-361c-4ba8-99af-6cb0fdcac018</td>\n",
       "      <td>2013-01-02 21:21:33</td>\n",
       "      <td>2013-01-03 18:30:31</td>\n",
       "      <td>2013-01-03 18:32:01</td>\n",
       "      <td>2013-01-03 18:32:01</td>\n",
       "      <td>book_it</td>\n",
       "      <td>205.0</td>\n",
       "      <td>21:10:28</td>\n",
       "      <td>21.0</td>\n",
       "      <td>1.0</td>\n",
       "    </tr>\n",
       "    <tr>\n",
       "      <th>10</th>\n",
       "      <td>9e4e506e-29c8-421b-acac-ca6ee984e9a2</td>\n",
       "      <td>treatment</td>\n",
       "      <td>9e4e506e-29c8-421b-acac-ca6ee984e9a2</td>\n",
       "      <td>044ff4a0-f7c2-4cc7-8254-b61f4aea1816</td>\n",
       "      <td>6c326e8f-79fb-4c38-a092-5996e386be52</td>\n",
       "      <td>2013-01-02 22:15:44</td>\n",
       "      <td>2013-01-02 22:52:13</td>\n",
       "      <td>2013-01-02 22:52:13</td>\n",
       "      <td>2013-01-02 22:52:13</td>\n",
       "      <td>book_it</td>\n",
       "      <td>365.0</td>\n",
       "      <td>00:36:29</td>\n",
       "      <td>1.0</td>\n",
       "      <td>0.0</td>\n",
       "    </tr>\n",
       "    <tr>\n",
       "      <th>12</th>\n",
       "      <td>85fb715e-fc0f-49ac-832d-b20015cbbea4</td>\n",
       "      <td>control</td>\n",
       "      <td>85fb715e-fc0f-49ac-832d-b20015cbbea4</td>\n",
       "      <td>a33a37a3-3229-40f9-817c-8a42b835010b</td>\n",
       "      <td>b462762e-5191-4f41-9be4-3e07a656f46a</td>\n",
       "      <td>2013-01-03 11:57:48</td>\n",
       "      <td>2013-01-03 17:30:51</td>\n",
       "      <td>2013-01-03 17:30:51</td>\n",
       "      <td>2013-01-03 23:07:44</td>\n",
       "      <td>contact_me</td>\n",
       "      <td>712.0</td>\n",
       "      <td>05:33:03</td>\n",
       "      <td>6.0</td>\n",
       "      <td>0.0</td>\n",
       "    </tr>\n",
       "    <tr>\n",
       "      <th>15</th>\n",
       "      <td>ee0a90f6-e3f5-4b54-8c44-50dcded92f08</td>\n",
       "      <td>treatment</td>\n",
       "      <td>ee0a90f6-e3f5-4b54-8c44-50dcded92f08</td>\n",
       "      <td>a33a37a3-3229-40f9-817c-8a42b835010b</td>\n",
       "      <td>7f908fca-ccee-43f8-9026-76b912e6b546</td>\n",
       "      <td>2013-01-03 21:12:13</td>\n",
       "      <td>2013-01-03 21:34:57</td>\n",
       "      <td>2013-01-03 21:34:57</td>\n",
       "      <td>NaT</td>\n",
       "      <td>contact_me</td>\n",
       "      <td>201.0</td>\n",
       "      <td>00:22:44</td>\n",
       "      <td>0.0</td>\n",
       "      <td>0.0</td>\n",
       "    </tr>\n",
       "  </tbody>\n",
       "</table>\n",
       "</div>"
      ],
      "text/plain": [
       "                                 id_user         ab  \\\n",
       "2   7308791e-04c3-416a-be2d-4188816decc2    control   \n",
       "9   7bd7d2b5-040c-4a72-8bba-7bd8da14cb7f  treatment   \n",
       "10  9e4e506e-29c8-421b-acac-ca6ee984e9a2  treatment   \n",
       "12  85fb715e-fc0f-49ac-832d-b20015cbbea4    control   \n",
       "15  ee0a90f6-e3f5-4b54-8c44-50dcded92f08  treatment   \n",
       "\n",
       "                                id_guest  \\\n",
       "2   7308791e-04c3-416a-be2d-4188816decc2   \n",
       "9   7bd7d2b5-040c-4a72-8bba-7bd8da14cb7f   \n",
       "10  9e4e506e-29c8-421b-acac-ca6ee984e9a2   \n",
       "12  85fb715e-fc0f-49ac-832d-b20015cbbea4   \n",
       "15  ee0a90f6-e3f5-4b54-8c44-50dcded92f08   \n",
       "\n",
       "                                 id_host  \\\n",
       "2   8b118ba1-b439-493e-88c7-2c89a81cec1b   \n",
       "9   8903a438-9f2d-4b6f-b27f-ca896e0420ca   \n",
       "10  044ff4a0-f7c2-4cc7-8254-b61f4aea1816   \n",
       "12  a33a37a3-3229-40f9-817c-8a42b835010b   \n",
       "15  a33a37a3-3229-40f9-817c-8a42b835010b   \n",
       "\n",
       "                              id_listing ts_interaction_first  \\\n",
       "2   ac231804-951c-4fcb-a0e6-1a4aecbfb6ce  2013-01-02 02:30:19   \n",
       "9   6a956576-361c-4ba8-99af-6cb0fdcac018  2013-01-02 21:21:33   \n",
       "10  6c326e8f-79fb-4c38-a092-5996e386be52  2013-01-02 22:15:44   \n",
       "12  b462762e-5191-4f41-9be4-3e07a656f46a  2013-01-03 11:57:48   \n",
       "15  7f908fca-ccee-43f8-9026-76b912e6b546  2013-01-03 21:12:13   \n",
       "\n",
       "     ts_reply_at_first ts_accepted_at_first       ts_booking_at  \\\n",
       "2  2013-01-02 18:06:10  2013-01-02 18:06:10                 NaT   \n",
       "9  2013-01-03 18:30:31  2013-01-03 18:32:01 2013-01-03 18:32:01   \n",
       "10 2013-01-02 22:52:13  2013-01-02 22:52:13 2013-01-02 22:52:13   \n",
       "12 2013-01-03 17:30:51  2013-01-03 17:30:51 2013-01-03 23:07:44   \n",
       "15 2013-01-03 21:34:57  2013-01-03 21:34:57                 NaT   \n",
       "\n",
       "   dim_contact_channel  m_first_message_length duration  hours  days  \n",
       "2           contact_me                   278.0 15:35:51   16.0   1.0  \n",
       "9              book_it                   205.0 21:10:28   21.0   1.0  \n",
       "10             book_it                   365.0 00:36:29    1.0   0.0  \n",
       "12          contact_me                   712.0 05:33:03    6.0   0.0  \n",
       "15          contact_me                   201.0 00:22:44    0.0   0.0  "
      ]
     },
     "execution_count": 49,
     "metadata": {},
     "output_type": "execute_result"
    }
   ],
   "source": [
    "df_c_f_dur.head()"
   ]
  },
  {
   "cell_type": "code",
   "execution_count": 50,
   "metadata": {
    "scrolled": true
   },
   "outputs": [
    {
     "data": {
      "text/html": [
       "<div>\n",
       "<style scoped>\n",
       "    .dataframe tbody tr th:only-of-type {\n",
       "        vertical-align: middle;\n",
       "    }\n",
       "\n",
       "    .dataframe tbody tr th {\n",
       "        vertical-align: top;\n",
       "    }\n",
       "\n",
       "    .dataframe thead tr th {\n",
       "        text-align: left;\n",
       "    }\n",
       "\n",
       "    .dataframe thead tr:last-of-type th {\n",
       "        text-align: right;\n",
       "    }\n",
       "</style>\n",
       "<table border=\"1\" class=\"dataframe\">\n",
       "  <thead>\n",
       "    <tr>\n",
       "      <th></th>\n",
       "      <th colspan=\"2\" halign=\"left\">min</th>\n",
       "      <th colspan=\"2\" halign=\"left\">max</th>\n",
       "      <th colspan=\"2\" halign=\"left\">median</th>\n",
       "      <th colspan=\"2\" halign=\"left\">mean</th>\n",
       "      <th colspan=\"2\" halign=\"left\">std</th>\n",
       "    </tr>\n",
       "    <tr>\n",
       "      <th></th>\n",
       "      <th>days</th>\n",
       "      <th>hours</th>\n",
       "      <th>days</th>\n",
       "      <th>hours</th>\n",
       "      <th>days</th>\n",
       "      <th>hours</th>\n",
       "      <th>days</th>\n",
       "      <th>hours</th>\n",
       "      <th>days</th>\n",
       "      <th>hours</th>\n",
       "    </tr>\n",
       "    <tr>\n",
       "      <th>ab</th>\n",
       "      <th></th>\n",
       "      <th></th>\n",
       "      <th></th>\n",
       "      <th></th>\n",
       "      <th></th>\n",
       "      <th></th>\n",
       "      <th></th>\n",
       "      <th></th>\n",
       "      <th></th>\n",
       "      <th></th>\n",
       "    </tr>\n",
       "  </thead>\n",
       "  <tbody>\n",
       "    <tr>\n",
       "      <th>control</th>\n",
       "      <td>0.0</td>\n",
       "      <td>0.0</td>\n",
       "      <td>671.0</td>\n",
       "      <td>16102.0</td>\n",
       "      <td>0.0</td>\n",
       "      <td>3.0</td>\n",
       "      <td>1.474608</td>\n",
       "      <td>36.588715</td>\n",
       "      <td>18.198365</td>\n",
       "      <td>436.564679</td>\n",
       "    </tr>\n",
       "    <tr>\n",
       "      <th>treatment</th>\n",
       "      <td>0.0</td>\n",
       "      <td>0.0</td>\n",
       "      <td>69.0</td>\n",
       "      <td>1665.0</td>\n",
       "      <td>0.0</td>\n",
       "      <td>3.0</td>\n",
       "      <td>0.699552</td>\n",
       "      <td>18.096092</td>\n",
       "      <td>2.929742</td>\n",
       "      <td>70.152707</td>\n",
       "    </tr>\n",
       "  </tbody>\n",
       "</table>\n",
       "</div>"
      ],
      "text/plain": [
       "           min          max          median            mean             \\\n",
       "          days hours   days    hours   days hours      days      hours   \n",
       "ab                                                                       \n",
       "control    0.0   0.0  671.0  16102.0    0.0   3.0  1.474608  36.588715   \n",
       "treatment  0.0   0.0   69.0   1665.0    0.0   3.0  0.699552  18.096092   \n",
       "\n",
       "                 std              \n",
       "                days       hours  \n",
       "ab                                \n",
       "control    18.198365  436.564679  \n",
       "treatment   2.929742   70.152707  "
      ]
     },
     "execution_count": 50,
     "metadata": {},
     "output_type": "execute_result"
    }
   ],
   "source": [
    "df_c_f_dur.pivot_table(index='ab', values=['hours', 'days'],\n",
    "                       aggfunc=['min', 'max','median', 'mean', 'std'])"
   ]
  },
  {
   "cell_type": "markdown",
   "metadata": {},
   "source": [
    "The mean of the two groups are different possibly because of the large 671 days interval in the control group.<br>\n",
    "The fact that the medians of the group are the same shows exactly this."
   ]
  },
  {
   "cell_type": "code",
   "execution_count": 51,
   "metadata": {},
   "outputs": [
    {
     "data": {
      "text/html": [
       "<div>\n",
       "<style scoped>\n",
       "    .dataframe tbody tr th:only-of-type {\n",
       "        vertical-align: middle;\n",
       "    }\n",
       "\n",
       "    .dataframe tbody tr th {\n",
       "        vertical-align: top;\n",
       "    }\n",
       "\n",
       "    .dataframe thead th {\n",
       "        text-align: right;\n",
       "    }\n",
       "</style>\n",
       "<table border=\"1\" class=\"dataframe\">\n",
       "  <thead>\n",
       "    <tr style=\"text-align: right;\">\n",
       "      <th></th>\n",
       "      <th>days</th>\n",
       "    </tr>\n",
       "    <tr>\n",
       "      <th>ab</th>\n",
       "      <th></th>\n",
       "    </tr>\n",
       "  </thead>\n",
       "  <tbody>\n",
       "    <tr>\n",
       "      <th>control</th>\n",
       "      <td>21</td>\n",
       "    </tr>\n",
       "    <tr>\n",
       "      <th>treatment</th>\n",
       "      <td>14</td>\n",
       "    </tr>\n",
       "  </tbody>\n",
       "</table>\n",
       "</div>"
      ],
      "text/plain": [
       "           days\n",
       "ab             \n",
       "control      21\n",
       "treatment    14"
      ]
     },
     "execution_count": 51,
     "metadata": {},
     "output_type": "execute_result"
    }
   ],
   "source": [
    "df_c_f_dur.loc[df_c_f_dur.days>10].pivot_table(index='ab',values='days',aggfunc='count')"
   ]
  },
  {
   "cell_type": "code",
   "execution_count": 52,
   "metadata": {
    "scrolled": true
   },
   "outputs": [
    {
     "data": {
      "text/html": [
       "<div>\n",
       "<style scoped>\n",
       "    .dataframe tbody tr th:only-of-type {\n",
       "        vertical-align: middle;\n",
       "    }\n",
       "\n",
       "    .dataframe tbody tr th {\n",
       "        vertical-align: top;\n",
       "    }\n",
       "\n",
       "    .dataframe thead tr th {\n",
       "        text-align: left;\n",
       "    }\n",
       "\n",
       "    .dataframe thead tr:last-of-type th {\n",
       "        text-align: right;\n",
       "    }\n",
       "</style>\n",
       "<table border=\"1\" class=\"dataframe\">\n",
       "  <thead>\n",
       "    <tr>\n",
       "      <th></th>\n",
       "      <th>min</th>\n",
       "      <th>max</th>\n",
       "      <th>median</th>\n",
       "      <th>mean</th>\n",
       "      <th>std</th>\n",
       "    </tr>\n",
       "    <tr>\n",
       "      <th></th>\n",
       "      <th>days</th>\n",
       "      <th>days</th>\n",
       "      <th>days</th>\n",
       "      <th>days</th>\n",
       "      <th>days</th>\n",
       "    </tr>\n",
       "    <tr>\n",
       "      <th>ab</th>\n",
       "      <th></th>\n",
       "      <th></th>\n",
       "      <th></th>\n",
       "      <th></th>\n",
       "      <th></th>\n",
       "    </tr>\n",
       "  </thead>\n",
       "  <tbody>\n",
       "    <tr>\n",
       "      <th>control</th>\n",
       "      <td>0.0</td>\n",
       "      <td>9.0</td>\n",
       "      <td>0.0</td>\n",
       "      <td>0.526752</td>\n",
       "      <td>1.223671</td>\n",
       "    </tr>\n",
       "    <tr>\n",
       "      <th>treatment</th>\n",
       "      <td>0.0</td>\n",
       "      <td>9.0</td>\n",
       "      <td>0.0</td>\n",
       "      <td>0.477979</td>\n",
       "      <td>1.135434</td>\n",
       "    </tr>\n",
       "  </tbody>\n",
       "</table>\n",
       "</div>"
      ],
      "text/plain": [
       "           min  max median      mean       std\n",
       "          days days   days      days      days\n",
       "ab                                            \n",
       "control    0.0  9.0    0.0  0.526752  1.223671\n",
       "treatment  0.0  9.0    0.0  0.477979  1.135434"
      ]
     },
     "execution_count": 52,
     "metadata": {},
     "output_type": "execute_result"
    }
   ],
   "source": [
    "df_c_f_dur.loc[df_c_f_dur.days<10].pivot_table(index='ab', values='days', aggfunc=['min', 'max','median', 'mean', 'std'])"
   ]
  },
  {
   "cell_type": "markdown",
   "metadata": {},
   "source": [
    "Removing the handful of bookings, where the days interval is larger than 10, shows that the mean of days interval of the two groups are roughly the same."
   ]
  },
  {
   "cell_type": "code",
   "execution_count": 53,
   "metadata": {},
   "outputs": [
    {
     "data": {
      "text/plain": [
       "''"
      ]
     },
     "execution_count": 53,
     "metadata": {},
     "output_type": "execute_result"
    },
    {
     "data": {
      "image/png": "[encoded data removed]",
      "text/plain": [
       "<Figure size 1080x576 with 1 Axes>"
      ]
     },
     "metadata": {},
     "output_type": "display_data"
    }
   ],
   "source": [
    "fig, ax = plt.subplots(1, 1, figsize=(15, 8))\n",
    "sns.distplot(df_c_f_dur['days'], bins=range(0, 11), kde=False)\n",
    "ax.set_title('Distribution of Days between First Interaction and Acceptance')\n",
    "ax.set_xlabel('Number of Days')\n",
    "ax.set_ylabel('Number of Bookings')\n",
    ";"
   ]
  },
  {
   "cell_type": "code",
   "execution_count": 54,
   "metadata": {},
   "outputs": [],
   "source": [
    "t_dur = df_c_f_dur.loc[df_c_f_dur['ab']=='treatment', 'days']\n",
    "c_dur = df_c_f_dur.loc[df_c_f_dur['ab']=='control', 'days']"
   ]
  },
  {
   "cell_type": "code",
   "execution_count": 55,
   "metadata": {
    "scrolled": false
   },
   "outputs": [
    {
     "data": {
      "text/plain": [
       "''"
      ]
     },
     "execution_count": 55,
     "metadata": {},
     "output_type": "execute_result"
    },
    {
     "data": {
      "image/png": "[encoded data removed]",
      "text/plain": [
       "<Figure size 1080x576 with 1 Axes>"
      ]
     },
     "metadata": {},
     "output_type": "display_data"
    }
   ],
   "source": [
    "fig, ax = plt.subplots(1, 1, figsize=(15, 8))\n",
    "sns.distplot(t_dur, bins=range(0, 11), kde=False)\n",
    "sns.distplot(c_dur, bins=range(0, 11), kde=False)\n",
    "ax.set_title('Distribution of Days between First Interaction and Acceptance')\n",
    "ax.set_xlabel('Number of Days')\n",
    "ax.set_ylabel('Number of Bookings')\n",
    ";"
   ]
  },
  {
   "cell_type": "code",
   "execution_count": 56,
   "metadata": {},
   "outputs": [
    {
     "data": {
      "text/plain": [
       "''"
      ]
     },
     "execution_count": 56,
     "metadata": {},
     "output_type": "execute_result"
    },
    {
     "data": {
      "image/png": "[encoded data removed]",
      "text/plain": [
       "<Figure size 1080x576 with 1 Axes>"
      ]
     },
     "metadata": {},
     "output_type": "display_data"
    }
   ],
   "source": [
    "fig, ax = plt.subplots(1, 1, figsize=(15, 8))\n",
    "sns.distplot(df_c_f_dur['hours'], bins=range(0, 240, 10), kde=False)\n",
    "ax.set_title('Distribution of Hours between First Interaction and Acceptance')\n",
    "ax.set_xlabel('Number of Hours')\n",
    "ax.set_ylabel('Number of Bookings')\n",
    ";"
   ]
  },
  {
   "cell_type": "code",
   "execution_count": 75,
   "metadata": {},
   "outputs": [],
   "source": [
    "t_dur_ = df_c_f_dur.loc[df_c_f_dur['ab']=='treatment', 'hours']\n",
    "c_dur_ = df_c_f_dur.loc[df_c_f_dur['ab']=='control', 'hours']"
   ]
  },
  {
   "cell_type": "code",
   "execution_count": 58,
   "metadata": {
    "scrolled": false
   },
   "outputs": [
    {
     "data": {
      "text/plain": [
       "''"
      ]
     },
     "execution_count": 58,
     "metadata": {},
     "output_type": "execute_result"
    },
    {
     "data": {
      "image/png": "[encoded data removed]",
      "text/plain": [
       "<Figure size 1080x576 with 1 Axes>"
      ]
     },
     "metadata": {},
     "output_type": "display_data"
    }
   ],
   "source": [
    "fig, ax = plt.subplots(1, 1, figsize=(15, 8))\n",
    "sns.distplot(t_dur_, bins=range(0, 240, 10), kde=False)\n",
    "sns.distplot(c_dur_, bins=range(0, 240, 10), kde=False)\n",
    "ax.set_title('Distribution of Hours between First Interaction and Acceptance')\n",
    "ax.set_xlabel('Number of Hours')\n",
    "ax.set_ylabel('Number of Bookings')\n",
    ";"
   ]
  },
  {
   "cell_type": "code",
   "execution_count": 59,
   "metadata": {
    "scrolled": false
   },
   "outputs": [
    {
     "data": {
      "text/plain": [
       "''"
      ]
     },
     "execution_count": 59,
     "metadata": {},
     "output_type": "execute_result"
    },
    {
     "data": {
      "image/png": "[encoded data removed]",
      "text/plain": [
       "<Figure size 1080x576 with 1 Axes>"
      ]
     },
     "metadata": {},
     "output_type": "display_data"
    }
   ],
   "source": [
    "fig, ax = plt.subplots(1, 1, figsize=(15, 8))\n",
    "sns.distplot(t_dur_, bins=range(0, 120, 10), kde=False)\n",
    "sns.distplot(c_dur_, bins=range(0, 120, 10), kde=False)\n",
    "ax.set_title('Distribution of Hours between First Interaction and Acceptance')\n",
    "ax.set_xlabel('Number of Hours')\n",
    "ax.set_ylabel('Number of Bookings')\n",
    ";"
   ]
  },
  {
   "cell_type": "markdown",
   "metadata": {},
   "source": [
    "The distributions of days interval of the two groups are about the same."
   ]
  },
  {
   "cell_type": "markdown",
   "metadata": {},
   "source": [
    "### 2.5 T-test on the days interval between first interaction and acceptance"
   ]
  },
  {
   "cell_type": "code",
   "execution_count": 73,
   "metadata": {},
   "outputs": [
    {
     "name": "stdout",
     "output_type": "stream",
     "text": [
      "T-score is 1.6617352099545128\n"
     ]
    }
   ],
   "source": [
    "from scipy import stats\n",
    "t_score = stats.ttest_ind(c_dur,t_dur)\n",
    "print('T-score is {}'.format(t_score[0]))"
   ]
  },
  {
   "cell_type": "code",
   "execution_count": 76,
   "metadata": {},
   "outputs": [
    {
     "name": "stdout",
     "output_type": "stream",
     "text": [
      "T-score is 1.6528387547256516\n"
     ]
    }
   ],
   "source": [
    "t_score = stats.ttest_ind(c_dur_,t_dur_)\n",
    "print('T-score is {}'.format(t_score[0]))"
   ]
  },
  {
   "cell_type": "markdown",
   "metadata": {},
   "source": [
    "The difference between the durations of each group are insignificant."
   ]
  },
  {
   "cell_type": "markdown",
   "metadata": {},
   "source": [
    "### 2.6 Compare duration by booking channel"
   ]
  },
  {
   "cell_type": "code",
   "execution_count": 62,
   "metadata": {
    "scrolled": true
   },
   "outputs": [
    {
     "data": {
      "text/html": [
       "<div>\n",
       "<style scoped>\n",
       "    .dataframe tbody tr th:only-of-type {\n",
       "        vertical-align: middle;\n",
       "    }\n",
       "\n",
       "    .dataframe tbody tr th {\n",
       "        vertical-align: top;\n",
       "    }\n",
       "\n",
       "    .dataframe thead tr th {\n",
       "        text-align: left;\n",
       "    }\n",
       "\n",
       "    .dataframe thead tr:last-of-type th {\n",
       "        text-align: right;\n",
       "    }\n",
       "</style>\n",
       "<table border=\"1\" class=\"dataframe\">\n",
       "  <thead>\n",
       "    <tr>\n",
       "      <th></th>\n",
       "      <th></th>\n",
       "      <th colspan=\"2\" halign=\"left\">min</th>\n",
       "      <th colspan=\"2\" halign=\"left\">max</th>\n",
       "      <th colspan=\"2\" halign=\"left\">mean</th>\n",
       "      <th colspan=\"2\" halign=\"left\">median</th>\n",
       "      <th colspan=\"2\" halign=\"left\">std</th>\n",
       "    </tr>\n",
       "    <tr>\n",
       "      <th></th>\n",
       "      <th></th>\n",
       "      <th>days</th>\n",
       "      <th>hours</th>\n",
       "      <th>days</th>\n",
       "      <th>hours</th>\n",
       "      <th>days</th>\n",
       "      <th>hours</th>\n",
       "      <th>days</th>\n",
       "      <th>hours</th>\n",
       "      <th>days</th>\n",
       "      <th>hours</th>\n",
       "    </tr>\n",
       "    <tr>\n",
       "      <th>ab</th>\n",
       "      <th>dim_contact_channel</th>\n",
       "      <th></th>\n",
       "      <th></th>\n",
       "      <th></th>\n",
       "      <th></th>\n",
       "      <th></th>\n",
       "      <th></th>\n",
       "      <th></th>\n",
       "      <th></th>\n",
       "      <th></th>\n",
       "      <th></th>\n",
       "    </tr>\n",
       "  </thead>\n",
       "  <tbody>\n",
       "    <tr>\n",
       "      <th rowspan=\"3\" valign=\"top\">control</th>\n",
       "      <th>book_it</th>\n",
       "      <td>0.0</td>\n",
       "      <td>0.0</td>\n",
       "      <td>104.0</td>\n",
       "      <td>2492.0</td>\n",
       "      <td>0.488327</td>\n",
       "      <td>12.727626</td>\n",
       "      <td>0.0</td>\n",
       "      <td>2.0</td>\n",
       "      <td>4.637845</td>\n",
       "      <td>110.960944</td>\n",
       "    </tr>\n",
       "    <tr>\n",
       "      <th>contact_me</th>\n",
       "      <td>0.0</td>\n",
       "      <td>0.0</td>\n",
       "      <td>671.0</td>\n",
       "      <td>16102.0</td>\n",
       "      <td>1.983947</td>\n",
       "      <td>48.930123</td>\n",
       "      <td>0.0</td>\n",
       "      <td>4.0</td>\n",
       "      <td>22.085175</td>\n",
       "      <td>529.827518</td>\n",
       "    </tr>\n",
       "    <tr>\n",
       "      <th>instant_booked</th>\n",
       "      <td>0.0</td>\n",
       "      <td>0.0</td>\n",
       "      <td>0.0</td>\n",
       "      <td>0.0</td>\n",
       "      <td>0.000000</td>\n",
       "      <td>0.000000</td>\n",
       "      <td>0.0</td>\n",
       "      <td>0.0</td>\n",
       "      <td>0.000000</td>\n",
       "      <td>0.000000</td>\n",
       "    </tr>\n",
       "    <tr>\n",
       "      <th rowspan=\"3\" valign=\"top\">treatment</th>\n",
       "      <th>book_it</th>\n",
       "      <td>0.0</td>\n",
       "      <td>0.0</td>\n",
       "      <td>12.0</td>\n",
       "      <td>283.0</td>\n",
       "      <td>0.295775</td>\n",
       "      <td>8.265594</td>\n",
       "      <td>0.0</td>\n",
       "      <td>2.0</td>\n",
       "      <td>0.943485</td>\n",
       "      <td>21.796203</td>\n",
       "    </tr>\n",
       "    <tr>\n",
       "      <th>contact_me</th>\n",
       "      <td>0.0</td>\n",
       "      <td>0.0</td>\n",
       "      <td>69.0</td>\n",
       "      <td>1665.0</td>\n",
       "      <td>0.906910</td>\n",
       "      <td>23.166987</td>\n",
       "      <td>0.0</td>\n",
       "      <td>4.0</td>\n",
       "      <td>3.508186</td>\n",
       "      <td>84.082452</td>\n",
       "    </tr>\n",
       "    <tr>\n",
       "      <th>instant_booked</th>\n",
       "      <td>0.0</td>\n",
       "      <td>0.0</td>\n",
       "      <td>0.0</td>\n",
       "      <td>0.0</td>\n",
       "      <td>0.000000</td>\n",
       "      <td>0.000000</td>\n",
       "      <td>0.0</td>\n",
       "      <td>0.0</td>\n",
       "      <td>0.000000</td>\n",
       "      <td>0.000000</td>\n",
       "    </tr>\n",
       "  </tbody>\n",
       "</table>\n",
       "</div>"
      ],
      "text/plain": [
       "                               min          max               mean             \\\n",
       "                              days hours   days    hours      days      hours   \n",
       "ab        dim_contact_channel                                                   \n",
       "control   book_it              0.0   0.0  104.0   2492.0  0.488327  12.727626   \n",
       "          contact_me           0.0   0.0  671.0  16102.0  1.983947  48.930123   \n",
       "          instant_booked       0.0   0.0    0.0      0.0  0.000000   0.000000   \n",
       "treatment book_it              0.0   0.0   12.0    283.0  0.295775   8.265594   \n",
       "          contact_me           0.0   0.0   69.0   1665.0  0.906910  23.166987   \n",
       "          instant_booked       0.0   0.0    0.0      0.0  0.000000   0.000000   \n",
       "\n",
       "                              median              std              \n",
       "                                days hours       days       hours  \n",
       "ab        dim_contact_channel                                      \n",
       "control   book_it                0.0   2.0   4.637845  110.960944  \n",
       "          contact_me             0.0   4.0  22.085175  529.827518  \n",
       "          instant_booked         0.0   0.0   0.000000    0.000000  \n",
       "treatment book_it                0.0   2.0   0.943485   21.796203  \n",
       "          contact_me             0.0   4.0   3.508186   84.082452  \n",
       "          instant_booked         0.0   0.0   0.000000    0.000000  "
      ]
     },
     "execution_count": 62,
     "metadata": {},
     "output_type": "execute_result"
    }
   ],
   "source": [
    "channel_dur = df_c_f_dur.pivot_table(index=['ab','dim_contact_channel'], values=['days','hours'],\n",
    "                                     aggfunc=['min', 'max', 'mean', 'median', 'std'])\n",
    "channel_dur"
   ]
  },
  {
   "cell_type": "code",
   "execution_count": 63,
   "metadata": {},
   "outputs": [],
   "source": [
    "channels = df_c_f['dim_contact_channel'].unique()"
   ]
  },
  {
   "cell_type": "code",
   "execution_count": 64,
   "metadata": {
    "scrolled": true
   },
   "outputs": [
    {
     "name": "stdout",
     "output_type": "stream",
     "text": [
      "T-score is 1.5550228853086603\n",
      "T-score is 0.9075778763680811\n",
      "T-score is nan\n"
     ]
    },
    {
     "name": "stderr",
     "output_type": "stream",
     "text": [
      "C:\\anaconda3\\lib\\site-packages\\scipy\\stats\\_distn_infrastructure.py:903: RuntimeWarning: invalid value encountered in greater\n",
      "  return (a < x) & (x < b)\n",
      "C:\\anaconda3\\lib\\site-packages\\scipy\\stats\\_distn_infrastructure.py:903: RuntimeWarning: invalid value encountered in less\n",
      "  return (a < x) & (x < b)\n",
      "C:\\anaconda3\\lib\\site-packages\\scipy\\stats\\_distn_infrastructure.py:1912: RuntimeWarning: invalid value encountered in less_equal\n",
      "  cond2 = cond0 & (x <= _a)\n"
     ]
    }
   ],
   "source": [
    "for c in channels:\n",
    "    c_dur_ = df_c_f_dur.loc[(df_c_f_dur['ab']=='control')&(df_c_f_dur['dim_contact_channel']==c),'days']\n",
    "    t_dur_ = df_c_f_dur.loc[(df_c_f_dur['ab']=='treatment')&(df_c_f_dur['dim_contact_channel']==c),'days']\n",
    "    t_score_ = stats.ttest_ind(c_dur_,t_dur_)\n",
    "    print('T-score is {}'.format(t_score_[0]))"
   ]
  },
  {
   "cell_type": "code",
   "execution_count": 65,
   "metadata": {
    "scrolled": true
   },
   "outputs": [
    {
     "name": "stdout",
     "output_type": "stream",
     "text": [
      "T-score is 1.550533059197084\n",
      "T-score is 0.8801974977104148\n",
      "T-score is nan\n"
     ]
    }
   ],
   "source": [
    "for c in channels:\n",
    "    c_dur_ = df_c_f_dur.loc[(df_c_f_dur['ab']=='control')&(df_c_f_dur['dim_contact_channel']==c),'hours']\n",
    "    t_dur_ = df_c_f_dur.loc[(df_c_f_dur['ab']=='treatment')&(df_c_f_dur['dim_contact_channel']==c),'hours']\n",
    "    t_score_ = stats.ttest_ind(c_dur_,t_dur_)\n",
    "    print('T-score is {}'.format(t_score_[0]))"
   ]
  },
  {
   "cell_type": "markdown",
   "metadata": {},
   "source": [
    "Similarly, the difference between the durations of each group separated by channels are insignificant."
   ]
  },
  {
   "cell_type": "markdown",
   "metadata": {},
   "source": [
    "## 3. Exploration"
   ]
  },
  {
   "cell_type": "markdown",
   "metadata": {},
   "source": [
    "### 3.1 Remove the users in treatment group whose message is below 140 characters"
   ]
  },
  {
   "cell_type": "code",
   "execution_count": 79,
   "metadata": {
    "scrolled": false
   },
   "outputs": [
    {
     "data": {
      "text/html": [
       "<div>\n",
       "<style scoped>\n",
       "    .dataframe tbody tr th:only-of-type {\n",
       "        vertical-align: middle;\n",
       "    }\n",
       "\n",
       "    .dataframe tbody tr th {\n",
       "        vertical-align: top;\n",
       "    }\n",
       "\n",
       "    .dataframe thead th {\n",
       "        text-align: right;\n",
       "    }\n",
       "</style>\n",
       "<table border=\"1\" class=\"dataframe\">\n",
       "  <thead>\n",
       "    <tr style=\"text-align: right;\">\n",
       "      <th></th>\n",
       "      <th>ts_accepted_at_first</th>\n",
       "      <th>ts_booking_at</th>\n",
       "      <th>ts_interaction_first</th>\n",
       "      <th>ts_reply_at_first</th>\n",
       "    </tr>\n",
       "    <tr>\n",
       "      <th>ab</th>\n",
       "      <th></th>\n",
       "      <th></th>\n",
       "      <th></th>\n",
       "      <th></th>\n",
       "    </tr>\n",
       "  </thead>\n",
       "  <tbody>\n",
       "    <tr>\n",
       "      <th>control</th>\n",
       "      <td>1595</td>\n",
       "      <td>1039</td>\n",
       "      <td>4550</td>\n",
       "      <td>3906</td>\n",
       "    </tr>\n",
       "    <tr>\n",
       "      <th>treatment</th>\n",
       "      <td>1315</td>\n",
       "      <td>864</td>\n",
       "      <td>3883</td>\n",
       "      <td>3362</td>\n",
       "    </tr>\n",
       "  </tbody>\n",
       "</table>\n",
       "</div>"
      ],
      "text/plain": [
       "           ts_accepted_at_first  ts_booking_at  ts_interaction_first  \\\n",
       "ab                                                                     \n",
       "control                    1595           1039                  4550   \n",
       "treatment                  1315            864                  3883   \n",
       "\n",
       "           ts_reply_at_first  \n",
       "ab                            \n",
       "control                 3906  \n",
       "treatment               3362  "
      ]
     },
     "execution_count": 79,
     "metadata": {},
     "output_type": "execute_result"
    }
   ],
   "source": [
    "df_c_f.loc[~((df_c_f['ab']=='treatment')&\n",
    "           (df_c_f['m_first_message_length']<140))].pivot_table(index='ab', values=date_cols, aggfunc='count')"
   ]
  },
  {
   "cell_type": "code",
   "execution_count": 80,
   "metadata": {},
   "outputs": [
    {
     "data": {
      "text/plain": [
       "-1.1451596438311609"
      ]
     },
     "execution_count": 80,
     "metadata": {},
     "output_type": "execute_result"
    }
   ],
   "source": [
    "z_test(1315, 1595, 3883, 4550)"
   ]
  },
  {
   "cell_type": "markdown",
   "metadata": {},
   "source": [
    "The z score shows that the treatment group is not significantly different."
   ]
  },
  {
   "cell_type": "markdown",
   "metadata": {},
   "source": [
    "### 3.2 The duration between first inquiry and reply"
   ]
  },
  {
   "cell_type": "code",
   "execution_count": 86,
   "metadata": {
    "scrolled": true
   },
   "outputs": [
    {
     "name": "stderr",
     "output_type": "stream",
     "text": [
      "C:\\anaconda3\\lib\\site-packages\\ipykernel_launcher.py:4: SettingWithCopyWarning: \n",
      "A value is trying to be set on a copy of a slice from a DataFrame.\n",
      "Try using .loc[row_indexer,col_indexer] = value instead\n",
      "\n",
      "See the caveats in the documentation: https://pandas.pydata.org/pandas-docs/stable/user_guide/indexing.html#returning-a-view-versus-a-copy\n",
      "  after removing the cwd from sys.path.\n",
      "C:\\anaconda3\\lib\\site-packages\\ipykernel_launcher.py:7: SettingWithCopyWarning: \n",
      "A value is trying to be set on a copy of a slice from a DataFrame.\n",
      "Try using .loc[row_indexer,col_indexer] = value instead\n",
      "\n",
      "See the caveats in the documentation: https://pandas.pydata.org/pandas-docs/stable/user_guide/indexing.html#returning-a-view-versus-a-copy\n",
      "  import sys\n",
      "C:\\anaconda3\\lib\\site-packages\\ipykernel_launcher.py:8: SettingWithCopyWarning: \n",
      "A value is trying to be set on a copy of a slice from a DataFrame.\n",
      "Try using .loc[row_indexer,col_indexer] = value instead\n",
      "\n",
      "See the caveats in the documentation: https://pandas.pydata.org/pandas-docs/stable/user_guide/indexing.html#returning-a-view-versus-a-copy\n",
      "  \n",
      "C:\\anaconda3\\lib\\site-packages\\ipykernel_launcher.py:10: SettingWithCopyWarning: \n",
      "A value is trying to be set on a copy of a slice from a DataFrame.\n",
      "Try using .loc[row_indexer,col_indexer] = value instead\n",
      "\n",
      "See the caveats in the documentation: https://pandas.pydata.org/pandas-docs/stable/user_guide/indexing.html#returning-a-view-versus-a-copy\n",
      "  # Remove the CWD from sys.path while we load stuff.\n",
      "C:\\anaconda3\\lib\\site-packages\\ipykernel_launcher.py:11: SettingWithCopyWarning: \n",
      "A value is trying to be set on a copy of a slice from a DataFrame.\n",
      "Try using .loc[row_indexer,col_indexer] = value instead\n",
      "\n",
      "See the caveats in the documentation: https://pandas.pydata.org/pandas-docs/stable/user_guide/indexing.html#returning-a-view-versus-a-copy\n",
      "  # This is added back by InteractiveShellApp.init_path()\n"
     ]
    }
   ],
   "source": [
    "df_c_f_rep = df_c_f.loc[df_c_f['ts_reply_at_first'].notnull()]\n",
    "\n",
    "# Calculate time spent from acceptance to first interaction\n",
    "df_c_f_rep['duration'] = (df_c_f_rep['ts_reply_at_first'] - df_c_f_rep['ts_interaction_first'])\n",
    "\n",
    "# Calculate the number of days from acceptance to first interaction\n",
    "df_c_f_rep['hours'] = round((df_c_f_rep['duration'].dt.total_seconds() / 3600))\n",
    "df_c_f_rep['hours'] = df_c_f_rep['hours'].apply(lambda x: 0.0 if x == -0.0 else x)\n",
    "\n",
    "df_c_f_rep['days'] = round(df_c_f_rep['hours'] / 24)\n",
    "df_c_f_rep['days'] = df_c_f_rep['days'].apply(lambda x: 0.0 if x == -0.0 else x)"
   ]
  },
  {
   "cell_type": "code",
   "execution_count": 87,
   "metadata": {
    "scrolled": false
   },
   "outputs": [
    {
     "data": {
      "text/html": [
       "<div>\n",
       "<style scoped>\n",
       "    .dataframe tbody tr th:only-of-type {\n",
       "        vertical-align: middle;\n",
       "    }\n",
       "\n",
       "    .dataframe tbody tr th {\n",
       "        vertical-align: top;\n",
       "    }\n",
       "\n",
       "    .dataframe thead th {\n",
       "        text-align: right;\n",
       "    }\n",
       "</style>\n",
       "<table border=\"1\" class=\"dataframe\">\n",
       "  <thead>\n",
       "    <tr style=\"text-align: right;\">\n",
       "      <th></th>\n",
       "      <th>id_user</th>\n",
       "      <th>ab</th>\n",
       "      <th>id_guest</th>\n",
       "      <th>id_host</th>\n",
       "      <th>id_listing</th>\n",
       "      <th>ts_interaction_first</th>\n",
       "      <th>ts_reply_at_first</th>\n",
       "      <th>ts_accepted_at_first</th>\n",
       "      <th>ts_booking_at</th>\n",
       "      <th>dim_contact_channel</th>\n",
       "      <th>m_first_message_length</th>\n",
       "      <th>duration</th>\n",
       "      <th>hours</th>\n",
       "      <th>days</th>\n",
       "    </tr>\n",
       "  </thead>\n",
       "  <tbody>\n",
       "    <tr>\n",
       "      <th>0</th>\n",
       "      <td>f966752c-8533-48b2-af6f-8c6797d2b247</td>\n",
       "      <td>treatment</td>\n",
       "      <td>f966752c-8533-48b2-af6f-8c6797d2b247</td>\n",
       "      <td>4405ab66-1c68-449b-abd9-1ad1892a6c4d</td>\n",
       "      <td>fe07e0c4-c317-44bc-a82d-5b599a248049</td>\n",
       "      <td>2013-01-01 23:04:35</td>\n",
       "      <td>2013-01-03 23:15:23</td>\n",
       "      <td>NaT</td>\n",
       "      <td>NaT</td>\n",
       "      <td>contact_me</td>\n",
       "      <td>230.0</td>\n",
       "      <td>2 days 00:10:48</td>\n",
       "      <td>48.0</td>\n",
       "      <td>2.0</td>\n",
       "    </tr>\n",
       "    <tr>\n",
       "      <th>1</th>\n",
       "      <td>873f93fb-234c-4cfb-83c7-27ff0e582a8e</td>\n",
       "      <td>treatment</td>\n",
       "      <td>873f93fb-234c-4cfb-83c7-27ff0e582a8e</td>\n",
       "      <td>aa41b57b-e29f-4c95-bf27-48f27519e419</td>\n",
       "      <td>d47717da-315a-42c2-8888-9b7d4bea8829</td>\n",
       "      <td>2013-01-02 00:21:26</td>\n",
       "      <td>2013-01-07 23:38:31</td>\n",
       "      <td>NaT</td>\n",
       "      <td>NaT</td>\n",
       "      <td>contact_me</td>\n",
       "      <td>98.0</td>\n",
       "      <td>5 days 23:17:05</td>\n",
       "      <td>143.0</td>\n",
       "      <td>6.0</td>\n",
       "    </tr>\n",
       "    <tr>\n",
       "      <th>2</th>\n",
       "      <td>7308791e-04c3-416a-be2d-4188816decc2</td>\n",
       "      <td>control</td>\n",
       "      <td>7308791e-04c3-416a-be2d-4188816decc2</td>\n",
       "      <td>8b118ba1-b439-493e-88c7-2c89a81cec1b</td>\n",
       "      <td>ac231804-951c-4fcb-a0e6-1a4aecbfb6ce</td>\n",
       "      <td>2013-01-02 02:30:19</td>\n",
       "      <td>2013-01-02 18:06:10</td>\n",
       "      <td>2013-01-02 18:06:10</td>\n",
       "      <td>NaT</td>\n",
       "      <td>contact_me</td>\n",
       "      <td>278.0</td>\n",
       "      <td>0 days 15:35:51</td>\n",
       "      <td>16.0</td>\n",
       "      <td>1.0</td>\n",
       "    </tr>\n",
       "    <tr>\n",
       "      <th>3</th>\n",
       "      <td>097c48a4-f4b6-4870-bf29-370e33de868e</td>\n",
       "      <td>control</td>\n",
       "      <td>097c48a4-f4b6-4870-bf29-370e33de868e</td>\n",
       "      <td>140b0847-549d-4c77-bb8c-7cea16914871</td>\n",
       "      <td>727357bd-8031-4e59-b812-22cfa617e031</td>\n",
       "      <td>2013-01-02 03:24:06</td>\n",
       "      <td>2013-01-02 17:49:08</td>\n",
       "      <td>NaT</td>\n",
       "      <td>NaT</td>\n",
       "      <td>contact_me</td>\n",
       "      <td>785.0</td>\n",
       "      <td>0 days 14:25:02</td>\n",
       "      <td>14.0</td>\n",
       "      <td>1.0</td>\n",
       "    </tr>\n",
       "    <tr>\n",
       "      <th>4</th>\n",
       "      <td>ff3d6a6a-7748-41f8-8a3f-fdc26ca21650</td>\n",
       "      <td>control</td>\n",
       "      <td>ff3d6a6a-7748-41f8-8a3f-fdc26ca21650</td>\n",
       "      <td>82bc1dd7-e146-4c03-93ef-1edd143e4612</td>\n",
       "      <td>aed82e29-205e-4827-a7ac-c5963c8a6895</td>\n",
       "      <td>2013-01-02 13:29:21</td>\n",
       "      <td>2013-01-22 20:19:54</td>\n",
       "      <td>NaT</td>\n",
       "      <td>NaT</td>\n",
       "      <td>contact_me</td>\n",
       "      <td>623.0</td>\n",
       "      <td>20 days 06:50:33</td>\n",
       "      <td>487.0</td>\n",
       "      <td>20.0</td>\n",
       "    </tr>\n",
       "  </tbody>\n",
       "</table>\n",
       "</div>"
      ],
      "text/plain": [
       "                                id_user         ab  \\\n",
       "0  f966752c-8533-48b2-af6f-8c6797d2b247  treatment   \n",
       "1  873f93fb-234c-4cfb-83c7-27ff0e582a8e  treatment   \n",
       "2  7308791e-04c3-416a-be2d-4188816decc2    control   \n",
       "3  097c48a4-f4b6-4870-bf29-370e33de868e    control   \n",
       "4  ff3d6a6a-7748-41f8-8a3f-fdc26ca21650    control   \n",
       "\n",
       "                               id_guest                               id_host  \\\n",
       "0  f966752c-8533-48b2-af6f-8c6797d2b247  4405ab66-1c68-449b-abd9-1ad1892a6c4d   \n",
       "1  873f93fb-234c-4cfb-83c7-27ff0e582a8e  aa41b57b-e29f-4c95-bf27-48f27519e419   \n",
       "2  7308791e-04c3-416a-be2d-4188816decc2  8b118ba1-b439-493e-88c7-2c89a81cec1b   \n",
       "3  097c48a4-f4b6-4870-bf29-370e33de868e  140b0847-549d-4c77-bb8c-7cea16914871   \n",
       "4  ff3d6a6a-7748-41f8-8a3f-fdc26ca21650  82bc1dd7-e146-4c03-93ef-1edd143e4612   \n",
       "\n",
       "                             id_listing ts_interaction_first  \\\n",
       "0  fe07e0c4-c317-44bc-a82d-5b599a248049  2013-01-01 23:04:35   \n",
       "1  d47717da-315a-42c2-8888-9b7d4bea8829  2013-01-02 00:21:26   \n",
       "2  ac231804-951c-4fcb-a0e6-1a4aecbfb6ce  2013-01-02 02:30:19   \n",
       "3  727357bd-8031-4e59-b812-22cfa617e031  2013-01-02 03:24:06   \n",
       "4  aed82e29-205e-4827-a7ac-c5963c8a6895  2013-01-02 13:29:21   \n",
       "\n",
       "    ts_reply_at_first ts_accepted_at_first ts_booking_at dim_contact_channel  \\\n",
       "0 2013-01-03 23:15:23                  NaT           NaT          contact_me   \n",
       "1 2013-01-07 23:38:31                  NaT           NaT          contact_me   \n",
       "2 2013-01-02 18:06:10  2013-01-02 18:06:10           NaT          contact_me   \n",
       "3 2013-01-02 17:49:08                  NaT           NaT          contact_me   \n",
       "4 2013-01-22 20:19:54                  NaT           NaT          contact_me   \n",
       "\n",
       "   m_first_message_length         duration  hours  days  \n",
       "0                   230.0  2 days 00:10:48   48.0   2.0  \n",
       "1                    98.0  5 days 23:17:05  143.0   6.0  \n",
       "2                   278.0  0 days 15:35:51   16.0   1.0  \n",
       "3                   785.0  0 days 14:25:02   14.0   1.0  \n",
       "4                   623.0 20 days 06:50:33  487.0  20.0  "
      ]
     },
     "execution_count": 87,
     "metadata": {},
     "output_type": "execute_result"
    }
   ],
   "source": [
    "df_c_f_rep.head()"
   ]
  },
  {
   "cell_type": "code",
   "execution_count": 89,
   "metadata": {},
   "outputs": [],
   "source": [
    "t_rep = df_c_f_rep.loc[df_c_f_rep['ab']=='treatment', 'days']\n",
    "c_rep = df_c_f_rep.loc[df_c_f_rep['ab']=='control', 'days']"
   ]
  },
  {
   "cell_type": "code",
   "execution_count": 106,
   "metadata": {},
   "outputs": [
    {
     "name": "stdout",
     "output_type": "stream",
     "text": [
      "T-score is -0.1912345741068278\n"
     ]
    }
   ],
   "source": [
    "t_score = stats.ttest_ind(c_rep,t_rep)\n",
    "print('T-score is {}'.format(t_score[0]))"
   ]
  },
  {
   "cell_type": "code",
   "execution_count": 148,
   "metadata": {
    "scrolled": false
   },
   "outputs": [
    {
     "data": {
      "text/plain": [
       "''"
      ]
     },
     "execution_count": 148,
     "metadata": {},
     "output_type": "execute_result"
    },
    {
     "data": {
      "image/png": "[encoded data removed]",
      "text/plain": [
       "<Figure size 1080x576 with 1 Axes>"
      ]
     },
     "metadata": {},
     "output_type": "display_data"
    }
   ],
   "source": [
    "fig, ax = plt.subplots(1, 1, figsize=(15, 8))\n",
    "sns.distplot(c_rep, bins=range(0, 11), kde=False, label='control')\n",
    "sns.distplot(t_rep, bins=range(0, 11), kde=False, label='treatment')\n",
    "ax.set_title('Distribution of Days between First Interaction and Reply')\n",
    "ax.set_xlabel('Number of Days')\n",
    "ax.set_ylabel('Number of Bookings')\n",
    "ax.legend()\n",
    ";"
   ]
  },
  {
   "cell_type": "code",
   "execution_count": 149,
   "metadata": {},
   "outputs": [],
   "source": [
    "t_rep_ = df_c_f_rep.loc[df_c_f_rep['ab']=='treatment', 'hours']\n",
    "c_rep_ = df_c_f_rep.loc[df_c_f_rep['ab']=='control', 'hours']"
   ]
  },
  {
   "cell_type": "code",
   "execution_count": 150,
   "metadata": {},
   "outputs": [
    {
     "name": "stdout",
     "output_type": "stream",
     "text": [
      "T-score is -0.18960846489481803\n"
     ]
    }
   ],
   "source": [
    "t_score = stats.ttest_ind(c_rep_,t_rep_)\n",
    "print('T-score is {}'.format(t_score[0]))"
   ]
  },
  {
   "cell_type": "code",
   "execution_count": 154,
   "metadata": {
    "scrolled": false
   },
   "outputs": [
    {
     "data": {
      "text/plain": [
       "''"
      ]
     },
     "execution_count": 154,
     "metadata": {},
     "output_type": "execute_result"
    },
    {
     "data": {
      "image/png": "[encoded data removed]",
      "text/plain": [
       "<Figure size 1080x576 with 1 Axes>"
      ]
     },
     "metadata": {},
     "output_type": "display_data"
    }
   ],
   "source": [
    "fig, ax = plt.subplots(1, 1, figsize=(15, 8))\n",
    "sns.distplot(c_rep_, bins=range(0, 240, 10), kde=False, label='control')\n",
    "sns.distplot(t_rep_, bins=range(0, 240, 10), kde=False, label='treatment')\n",
    "ax.set_title('Distribution of Hours between First Interaction and Reply')\n",
    "ax.set_xlabel('Number of Hours')\n",
    "ax.set_ylabel('Number of Bookings')\n",
    "ax.legend()\n",
    ";"
   ]
  },
  {
   "cell_type": "code",
   "execution_count": 99,
   "metadata": {},
   "outputs": [
    {
     "name": "stderr",
     "output_type": "stream",
     "text": [
      "C:\\anaconda3\\lib\\site-packages\\ipykernel_launcher.py:1: SettingWithCopyWarning: \n",
      "A value is trying to be set on a copy of a slice from a DataFrame.\n",
      "Try using .loc[row_indexer,col_indexer] = value instead\n",
      "\n",
      "See the caveats in the documentation: https://pandas.pydata.org/pandas-docs/stable/user_guide/indexing.html#returning-a-view-versus-a-copy\n",
      "  \"\"\"Entry point for launching an IPython kernel.\n"
     ]
    }
   ],
   "source": [
    "df_c_f_rep['accept'] = df_c_f_rep['ts_accepted_at_first'].fillna(0).apply(lambda x: 1 if x != 0 else x)"
   ]
  },
  {
   "cell_type": "code",
   "execution_count": 104,
   "metadata": {
    "scrolled": true
   },
   "outputs": [
    {
     "data": {
      "text/html": [
       "<div>\n",
       "<style scoped>\n",
       "    .dataframe tbody tr th:only-of-type {\n",
       "        vertical-align: middle;\n",
       "    }\n",
       "\n",
       "    .dataframe tbody tr th {\n",
       "        vertical-align: top;\n",
       "    }\n",
       "\n",
       "    .dataframe thead tr th {\n",
       "        text-align: left;\n",
       "    }\n",
       "\n",
       "    .dataframe thead tr:last-of-type th {\n",
       "        text-align: right;\n",
       "    }\n",
       "</style>\n",
       "<table border=\"1\" class=\"dataframe\">\n",
       "  <thead>\n",
       "    <tr>\n",
       "      <th></th>\n",
       "      <th colspan=\"2\" halign=\"left\">min</th>\n",
       "      <th colspan=\"2\" halign=\"left\">max</th>\n",
       "      <th colspan=\"2\" halign=\"left\">mean</th>\n",
       "      <th colspan=\"2\" halign=\"left\">median</th>\n",
       "      <th colspan=\"2\" halign=\"left\">std</th>\n",
       "    </tr>\n",
       "    <tr>\n",
       "      <th></th>\n",
       "      <th>days</th>\n",
       "      <th>hours</th>\n",
       "      <th>days</th>\n",
       "      <th>hours</th>\n",
       "      <th>days</th>\n",
       "      <th>hours</th>\n",
       "      <th>days</th>\n",
       "      <th>hours</th>\n",
       "      <th>days</th>\n",
       "      <th>hours</th>\n",
       "    </tr>\n",
       "    <tr>\n",
       "      <th>accept</th>\n",
       "      <th></th>\n",
       "      <th></th>\n",
       "      <th></th>\n",
       "      <th></th>\n",
       "      <th></th>\n",
       "      <th></th>\n",
       "      <th></th>\n",
       "      <th></th>\n",
       "      <th></th>\n",
       "      <th></th>\n",
       "    </tr>\n",
       "  </thead>\n",
       "  <tbody>\n",
       "    <tr>\n",
       "      <th>0</th>\n",
       "      <td>0.0</td>\n",
       "      <td>0.0</td>\n",
       "      <td>584.0</td>\n",
       "      <td>14027.0</td>\n",
       "      <td>3.015362</td>\n",
       "      <td>73.557926</td>\n",
       "      <td>0.0</td>\n",
       "      <td>7.0</td>\n",
       "      <td>22.628610</td>\n",
       "      <td>543.091749</td>\n",
       "    </tr>\n",
       "    <tr>\n",
       "      <th>1</th>\n",
       "      <td>0.0</td>\n",
       "      <td>0.0</td>\n",
       "      <td>104.0</td>\n",
       "      <td>2491.0</td>\n",
       "      <td>0.309131</td>\n",
       "      <td>8.762524</td>\n",
       "      <td>0.0</td>\n",
       "      <td>1.0</td>\n",
       "      <td>2.282158</td>\n",
       "      <td>54.293651</td>\n",
       "    </tr>\n",
       "  </tbody>\n",
       "</table>\n",
       "</div>"
      ],
      "text/plain": [
       "        min          max               mean            median        \\\n",
       "       days hours   days    hours      days      hours   days hours   \n",
       "accept                                                                \n",
       "0       0.0   0.0  584.0  14027.0  3.015362  73.557926    0.0   7.0   \n",
       "1       0.0   0.0  104.0   2491.0  0.309131   8.762524    0.0   1.0   \n",
       "\n",
       "              std              \n",
       "             days       hours  \n",
       "accept                         \n",
       "0       22.628610  543.091749  \n",
       "1        2.282158   54.293651  "
      ]
     },
     "execution_count": 104,
     "metadata": {},
     "output_type": "execute_result"
    }
   ],
   "source": [
    "df_c_f_rep.pivot_table(index='accept', values=['days','hours'], aggfunc=['min', 'max', 'mean', 'median', 'std'])"
   ]
  },
  {
   "cell_type": "code",
   "execution_count": 105,
   "metadata": {},
   "outputs": [],
   "source": [
    "r_rep = df_c_f_rep.loc[df_c_f_rep['accept']==0, 'hours']\n",
    "a_rep = df_c_f_rep.loc[df_c_f_rep['accept']==1, 'hours']"
   ]
  },
  {
   "cell_type": "code",
   "execution_count": 108,
   "metadata": {},
   "outputs": [
    {
     "name": "stdout",
     "output_type": "stream",
     "text": [
      "T-score is 6.677861497687482\n"
     ]
    }
   ],
   "source": [
    "t_score = stats.ttest_ind(r_rep,a_rep)\n",
    "print('T-score is {}'.format(t_score[0]))"
   ]
  },
  {
   "cell_type": "code",
   "execution_count": 111,
   "metadata": {},
   "outputs": [
    {
     "data": {
      "text/html": [
       "<div>\n",
       "<style scoped>\n",
       "    .dataframe tbody tr th:only-of-type {\n",
       "        vertical-align: middle;\n",
       "    }\n",
       "\n",
       "    .dataframe tbody tr th {\n",
       "        vertical-align: top;\n",
       "    }\n",
       "\n",
       "    .dataframe thead tr th {\n",
       "        text-align: left;\n",
       "    }\n",
       "\n",
       "    .dataframe thead tr:last-of-type th {\n",
       "        text-align: right;\n",
       "    }\n",
       "</style>\n",
       "<table border=\"1\" class=\"dataframe\">\n",
       "  <thead>\n",
       "    <tr>\n",
       "      <th></th>\n",
       "      <th colspan=\"2\" halign=\"left\">min</th>\n",
       "      <th colspan=\"2\" halign=\"left\">max</th>\n",
       "      <th colspan=\"2\" halign=\"left\">mean</th>\n",
       "      <th colspan=\"2\" halign=\"left\">median</th>\n",
       "      <th colspan=\"2\" halign=\"left\">std</th>\n",
       "    </tr>\n",
       "    <tr>\n",
       "      <th></th>\n",
       "      <th>days</th>\n",
       "      <th>hours</th>\n",
       "      <th>days</th>\n",
       "      <th>hours</th>\n",
       "      <th>days</th>\n",
       "      <th>hours</th>\n",
       "      <th>days</th>\n",
       "      <th>hours</th>\n",
       "      <th>days</th>\n",
       "      <th>hours</th>\n",
       "    </tr>\n",
       "    <tr>\n",
       "      <th>accept</th>\n",
       "      <th></th>\n",
       "      <th></th>\n",
       "      <th></th>\n",
       "      <th></th>\n",
       "      <th></th>\n",
       "      <th></th>\n",
       "      <th></th>\n",
       "      <th></th>\n",
       "      <th></th>\n",
       "      <th></th>\n",
       "    </tr>\n",
       "  </thead>\n",
       "  <tbody>\n",
       "    <tr>\n",
       "      <th>0</th>\n",
       "      <td>0.0</td>\n",
       "      <td>0.0</td>\n",
       "      <td>9.0</td>\n",
       "      <td>227.0</td>\n",
       "      <td>0.792645</td>\n",
       "      <td>20.259194</td>\n",
       "      <td>0.0</td>\n",
       "      <td>6.0</td>\n",
       "      <td>1.512480</td>\n",
       "      <td>35.193016</td>\n",
       "    </tr>\n",
       "    <tr>\n",
       "      <th>1</th>\n",
       "      <td>0.0</td>\n",
       "      <td>0.0</td>\n",
       "      <td>9.0</td>\n",
       "      <td>209.0</td>\n",
       "      <td>0.228372</td>\n",
       "      <td>6.833015</td>\n",
       "      <td>0.0</td>\n",
       "      <td>1.0</td>\n",
       "      <td>0.720596</td>\n",
       "      <td>16.302612</td>\n",
       "    </tr>\n",
       "  </tbody>\n",
       "</table>\n",
       "</div>"
      ],
      "text/plain": [
       "        min        max             mean            median             std  \\\n",
       "       days hours days  hours      days      hours   days hours      days   \n",
       "accept                                                                      \n",
       "0       0.0   0.0  9.0  227.0  0.792645  20.259194    0.0   6.0  1.512480   \n",
       "1       0.0   0.0  9.0  209.0  0.228372   6.833015    0.0   1.0  0.720596   \n",
       "\n",
       "                   \n",
       "            hours  \n",
       "accept             \n",
       "0       35.193016  \n",
       "1       16.302612  "
      ]
     },
     "execution_count": 111,
     "metadata": {},
     "output_type": "execute_result"
    }
   ],
   "source": [
    "df_c_f_rep.loc[df_c_f_rep['days']<10].pivot_table(index='accept',\n",
    "                                                  values=['days','hours'],\n",
    "                                                  aggfunc=['min', 'max', 'mean', 'median', 'std'])"
   ]
  },
  {
   "cell_type": "code",
   "execution_count": 112,
   "metadata": {},
   "outputs": [],
   "source": [
    "r_rep_ = df_c_f_rep.loc[df_c_f_rep['days']<10].loc[df_c_f_rep['accept']==0, 'hours']\n",
    "a_rep_ = df_c_f_rep.loc[df_c_f_rep['days']<10].loc[df_c_f_rep['accept']==1, 'hours']"
   ]
  },
  {
   "cell_type": "code",
   "execution_count": 113,
   "metadata": {},
   "outputs": [
    {
     "name": "stdout",
     "output_type": "stream",
     "text": [
      "T-score is 19.951913377875186\n"
     ]
    }
   ],
   "source": [
    "t_score = stats.ttest_ind(r_rep_, a_rep_)\n",
    "print('T-score is {}'.format(t_score[0]))"
   ]
  },
  {
   "cell_type": "markdown",
   "metadata": {},
   "source": [
    "### 3.3 Number of times a listing is inquired"
   ]
  },
  {
   "cell_type": "code",
   "execution_count": 114,
   "metadata": {
    "collapsed": true
   },
   "outputs": [
    {
     "data": {
      "text/html": [
       "<div>\n",
       "<style scoped>\n",
       "    .dataframe tbody tr th:only-of-type {\n",
       "        vertical-align: middle;\n",
       "    }\n",
       "\n",
       "    .dataframe tbody tr th {\n",
       "        vertical-align: top;\n",
       "    }\n",
       "\n",
       "    .dataframe thead th {\n",
       "        text-align: right;\n",
       "    }\n",
       "</style>\n",
       "<table border=\"1\" class=\"dataframe\">\n",
       "  <thead>\n",
       "    <tr style=\"text-align: right;\">\n",
       "      <th></th>\n",
       "      <th>id_user</th>\n",
       "      <th>ab</th>\n",
       "      <th>id_guest</th>\n",
       "      <th>id_host</th>\n",
       "      <th>id_listing</th>\n",
       "      <th>ts_interaction_first</th>\n",
       "      <th>ts_reply_at_first</th>\n",
       "      <th>ts_accepted_at_first</th>\n",
       "      <th>ts_booking_at</th>\n",
       "      <th>dim_contact_channel</th>\n",
       "      <th>m_first_message_length</th>\n",
       "    </tr>\n",
       "  </thead>\n",
       "  <tbody>\n",
       "    <tr>\n",
       "      <th>0</th>\n",
       "      <td>f966752c-8533-48b2-af6f-8c6797d2b247</td>\n",
       "      <td>treatment</td>\n",
       "      <td>f966752c-8533-48b2-af6f-8c6797d2b247</td>\n",
       "      <td>4405ab66-1c68-449b-abd9-1ad1892a6c4d</td>\n",
       "      <td>fe07e0c4-c317-44bc-a82d-5b599a248049</td>\n",
       "      <td>2013-01-01 23:04:35</td>\n",
       "      <td>2013-01-03 23:15:23</td>\n",
       "      <td>NaT</td>\n",
       "      <td>NaT</td>\n",
       "      <td>contact_me</td>\n",
       "      <td>230.0</td>\n",
       "    </tr>\n",
       "    <tr>\n",
       "      <th>1</th>\n",
       "      <td>873f93fb-234c-4cfb-83c7-27ff0e582a8e</td>\n",
       "      <td>treatment</td>\n",
       "      <td>873f93fb-234c-4cfb-83c7-27ff0e582a8e</td>\n",
       "      <td>aa41b57b-e29f-4c95-bf27-48f27519e419</td>\n",
       "      <td>d47717da-315a-42c2-8888-9b7d4bea8829</td>\n",
       "      <td>2013-01-02 00:21:26</td>\n",
       "      <td>2013-01-07 23:38:31</td>\n",
       "      <td>NaT</td>\n",
       "      <td>NaT</td>\n",
       "      <td>contact_me</td>\n",
       "      <td>98.0</td>\n",
       "    </tr>\n",
       "    <tr>\n",
       "      <th>2</th>\n",
       "      <td>7308791e-04c3-416a-be2d-4188816decc2</td>\n",
       "      <td>control</td>\n",
       "      <td>7308791e-04c3-416a-be2d-4188816decc2</td>\n",
       "      <td>8b118ba1-b439-493e-88c7-2c89a81cec1b</td>\n",
       "      <td>ac231804-951c-4fcb-a0e6-1a4aecbfb6ce</td>\n",
       "      <td>2013-01-02 02:30:19</td>\n",
       "      <td>2013-01-02 18:06:10</td>\n",
       "      <td>2013-01-02 18:06:10</td>\n",
       "      <td>NaT</td>\n",
       "      <td>contact_me</td>\n",
       "      <td>278.0</td>\n",
       "    </tr>\n",
       "    <tr>\n",
       "      <th>3</th>\n",
       "      <td>097c48a4-f4b6-4870-bf29-370e33de868e</td>\n",
       "      <td>control</td>\n",
       "      <td>097c48a4-f4b6-4870-bf29-370e33de868e</td>\n",
       "      <td>140b0847-549d-4c77-bb8c-7cea16914871</td>\n",
       "      <td>727357bd-8031-4e59-b812-22cfa617e031</td>\n",
       "      <td>2013-01-02 03:24:06</td>\n",
       "      <td>2013-01-02 17:49:08</td>\n",
       "      <td>NaT</td>\n",
       "      <td>NaT</td>\n",
       "      <td>contact_me</td>\n",
       "      <td>785.0</td>\n",
       "    </tr>\n",
       "    <tr>\n",
       "      <th>4</th>\n",
       "      <td>ff3d6a6a-7748-41f8-8a3f-fdc26ca21650</td>\n",
       "      <td>control</td>\n",
       "      <td>ff3d6a6a-7748-41f8-8a3f-fdc26ca21650</td>\n",
       "      <td>82bc1dd7-e146-4c03-93ef-1edd143e4612</td>\n",
       "      <td>aed82e29-205e-4827-a7ac-c5963c8a6895</td>\n",
       "      <td>2013-01-02 13:29:21</td>\n",
       "      <td>2013-01-22 20:19:54</td>\n",
       "      <td>NaT</td>\n",
       "      <td>NaT</td>\n",
       "      <td>contact_me</td>\n",
       "      <td>623.0</td>\n",
       "    </tr>\n",
       "    <tr>\n",
       "      <th>...</th>\n",
       "      <td>...</td>\n",
       "      <td>...</td>\n",
       "      <td>...</td>\n",
       "      <td>...</td>\n",
       "      <td>...</td>\n",
       "      <td>...</td>\n",
       "      <td>...</td>\n",
       "      <td>...</td>\n",
       "      <td>...</td>\n",
       "      <td>...</td>\n",
       "      <td>...</td>\n",
       "    </tr>\n",
       "    <tr>\n",
       "      <th>9099</th>\n",
       "      <td>6a72582e-c0c4-4f37-a824-186bde0b3d47</td>\n",
       "      <td>treatment</td>\n",
       "      <td>6a72582e-c0c4-4f37-a824-186bde0b3d47</td>\n",
       "      <td>7af1bb56-a2aa-4c2e-8793-be2d4b736599</td>\n",
       "      <td>82c15b61-f426-4d1a-a413-14f36d6a9b07</td>\n",
       "      <td>2013-06-06 05:57:33</td>\n",
       "      <td>2013-06-06 06:06:37</td>\n",
       "      <td>NaT</td>\n",
       "      <td>NaT</td>\n",
       "      <td>contact_me</td>\n",
       "      <td>227.0</td>\n",
       "    </tr>\n",
       "    <tr>\n",
       "      <th>9100</th>\n",
       "      <td>d838c86d-fdbf-4a36-a57c-2d518c60ce92</td>\n",
       "      <td>treatment</td>\n",
       "      <td>d838c86d-fdbf-4a36-a57c-2d518c60ce92</td>\n",
       "      <td>5059ad3c-c378-4875-b558-0d20ea30bebc</td>\n",
       "      <td>26b9a8e8-7010-4694-85d7-b6af24346040</td>\n",
       "      <td>2013-06-06 13:00:25</td>\n",
       "      <td>2013-06-07 21:43:02</td>\n",
       "      <td>NaT</td>\n",
       "      <td>NaT</td>\n",
       "      <td>contact_me</td>\n",
       "      <td>195.0</td>\n",
       "    </tr>\n",
       "    <tr>\n",
       "      <th>9101</th>\n",
       "      <td>15da69de-49dd-4ba8-97d6-0919fdaf3834</td>\n",
       "      <td>control</td>\n",
       "      <td>15da69de-49dd-4ba8-97d6-0919fdaf3834</td>\n",
       "      <td>ec1a2c76-adfb-4f2c-9f1d-1688a6a1bfeb</td>\n",
       "      <td>c6fe66cf-d0be-48c0-80d0-0f6422eb676a</td>\n",
       "      <td>2013-06-06 13:57:41</td>\n",
       "      <td>NaT</td>\n",
       "      <td>NaT</td>\n",
       "      <td>NaT</td>\n",
       "      <td>contact_me</td>\n",
       "      <td>481.0</td>\n",
       "    </tr>\n",
       "    <tr>\n",
       "      <th>9102</th>\n",
       "      <td>e6c5dd5d-5fef-4b16-a7e6-37fa8cee3b43</td>\n",
       "      <td>control</td>\n",
       "      <td>e6c5dd5d-5fef-4b16-a7e6-37fa8cee3b43</td>\n",
       "      <td>dbf6e36b-b34c-4cee-853f-2abea68bf958</td>\n",
       "      <td>0b3b6077-3748-4538-8812-da021dd4c83b</td>\n",
       "      <td>2013-06-06 15:28:21</td>\n",
       "      <td>NaT</td>\n",
       "      <td>NaT</td>\n",
       "      <td>NaT</td>\n",
       "      <td>contact_me</td>\n",
       "      <td>271.0</td>\n",
       "    </tr>\n",
       "    <tr>\n",
       "      <th>9103</th>\n",
       "      <td>62a2e3da-05a1-400f-853f-394ada92ea1b</td>\n",
       "      <td>control</td>\n",
       "      <td>62a2e3da-05a1-400f-853f-394ada92ea1b</td>\n",
       "      <td>90b3f6ed-b97b-4ad6-9d0d-30fede4dddd4</td>\n",
       "      <td>75f17435-6631-4f7d-8e0c-a872445c926e</td>\n",
       "      <td>2013-06-06 15:34:57</td>\n",
       "      <td>NaT</td>\n",
       "      <td>NaT</td>\n",
       "      <td>NaT</td>\n",
       "      <td>contact_me</td>\n",
       "      <td>252.0</td>\n",
       "    </tr>\n",
       "  </tbody>\n",
       "</table>\n",
       "<p>9104 rows × 11 columns</p>\n",
       "</div>"
      ],
      "text/plain": [
       "                                   id_user         ab  \\\n",
       "0     f966752c-8533-48b2-af6f-8c6797d2b247  treatment   \n",
       "1     873f93fb-234c-4cfb-83c7-27ff0e582a8e  treatment   \n",
       "2     7308791e-04c3-416a-be2d-4188816decc2    control   \n",
       "3     097c48a4-f4b6-4870-bf29-370e33de868e    control   \n",
       "4     ff3d6a6a-7748-41f8-8a3f-fdc26ca21650    control   \n",
       "...                                    ...        ...   \n",
       "9099  6a72582e-c0c4-4f37-a824-186bde0b3d47  treatment   \n",
       "9100  d838c86d-fdbf-4a36-a57c-2d518c60ce92  treatment   \n",
       "9101  15da69de-49dd-4ba8-97d6-0919fdaf3834    control   \n",
       "9102  e6c5dd5d-5fef-4b16-a7e6-37fa8cee3b43    control   \n",
       "9103  62a2e3da-05a1-400f-853f-394ada92ea1b    control   \n",
       "\n",
       "                                  id_guest  \\\n",
       "0     f966752c-8533-48b2-af6f-8c6797d2b247   \n",
       "1     873f93fb-234c-4cfb-83c7-27ff0e582a8e   \n",
       "2     7308791e-04c3-416a-be2d-4188816decc2   \n",
       "3     097c48a4-f4b6-4870-bf29-370e33de868e   \n",
       "4     ff3d6a6a-7748-41f8-8a3f-fdc26ca21650   \n",
       "...                                    ...   \n",
       "9099  6a72582e-c0c4-4f37-a824-186bde0b3d47   \n",
       "9100  d838c86d-fdbf-4a36-a57c-2d518c60ce92   \n",
       "9101  15da69de-49dd-4ba8-97d6-0919fdaf3834   \n",
       "9102  e6c5dd5d-5fef-4b16-a7e6-37fa8cee3b43   \n",
       "9103  62a2e3da-05a1-400f-853f-394ada92ea1b   \n",
       "\n",
       "                                   id_host  \\\n",
       "0     4405ab66-1c68-449b-abd9-1ad1892a6c4d   \n",
       "1     aa41b57b-e29f-4c95-bf27-48f27519e419   \n",
       "2     8b118ba1-b439-493e-88c7-2c89a81cec1b   \n",
       "3     140b0847-549d-4c77-bb8c-7cea16914871   \n",
       "4     82bc1dd7-e146-4c03-93ef-1edd143e4612   \n",
       "...                                    ...   \n",
       "9099  7af1bb56-a2aa-4c2e-8793-be2d4b736599   \n",
       "9100  5059ad3c-c378-4875-b558-0d20ea30bebc   \n",
       "9101  ec1a2c76-adfb-4f2c-9f1d-1688a6a1bfeb   \n",
       "9102  dbf6e36b-b34c-4cee-853f-2abea68bf958   \n",
       "9103  90b3f6ed-b97b-4ad6-9d0d-30fede4dddd4   \n",
       "\n",
       "                                id_listing ts_interaction_first  \\\n",
       "0     fe07e0c4-c317-44bc-a82d-5b599a248049  2013-01-01 23:04:35   \n",
       "1     d47717da-315a-42c2-8888-9b7d4bea8829  2013-01-02 00:21:26   \n",
       "2     ac231804-951c-4fcb-a0e6-1a4aecbfb6ce  2013-01-02 02:30:19   \n",
       "3     727357bd-8031-4e59-b812-22cfa617e031  2013-01-02 03:24:06   \n",
       "4     aed82e29-205e-4827-a7ac-c5963c8a6895  2013-01-02 13:29:21   \n",
       "...                                    ...                  ...   \n",
       "9099  82c15b61-f426-4d1a-a413-14f36d6a9b07  2013-06-06 05:57:33   \n",
       "9100  26b9a8e8-7010-4694-85d7-b6af24346040  2013-06-06 13:00:25   \n",
       "9101  c6fe66cf-d0be-48c0-80d0-0f6422eb676a  2013-06-06 13:57:41   \n",
       "9102  0b3b6077-3748-4538-8812-da021dd4c83b  2013-06-06 15:28:21   \n",
       "9103  75f17435-6631-4f7d-8e0c-a872445c926e  2013-06-06 15:34:57   \n",
       "\n",
       "       ts_reply_at_first ts_accepted_at_first ts_booking_at  \\\n",
       "0    2013-01-03 23:15:23                  NaT           NaT   \n",
       "1    2013-01-07 23:38:31                  NaT           NaT   \n",
       "2    2013-01-02 18:06:10  2013-01-02 18:06:10           NaT   \n",
       "3    2013-01-02 17:49:08                  NaT           NaT   \n",
       "4    2013-01-22 20:19:54                  NaT           NaT   \n",
       "...                  ...                  ...           ...   \n",
       "9099 2013-06-06 06:06:37                  NaT           NaT   \n",
       "9100 2013-06-07 21:43:02                  NaT           NaT   \n",
       "9101                 NaT                  NaT           NaT   \n",
       "9102                 NaT                  NaT           NaT   \n",
       "9103                 NaT                  NaT           NaT   \n",
       "\n",
       "     dim_contact_channel  m_first_message_length  \n",
       "0             contact_me                   230.0  \n",
       "1             contact_me                    98.0  \n",
       "2             contact_me                   278.0  \n",
       "3             contact_me                   785.0  \n",
       "4             contact_me                   623.0  \n",
       "...                  ...                     ...  \n",
       "9099          contact_me                   227.0  \n",
       "9100          contact_me                   195.0  \n",
       "9101          contact_me                   481.0  \n",
       "9102          contact_me                   271.0  \n",
       "9103          contact_me                   252.0  \n",
       "\n",
       "[9104 rows x 11 columns]"
      ]
     },
     "execution_count": 114,
     "metadata": {},
     "output_type": "execute_result"
    }
   ],
   "source": [
    "df_c_f"
   ]
  },
  {
   "cell_type": "code",
   "execution_count": 117,
   "metadata": {},
   "outputs": [],
   "source": [
    "listing_req = df_c_f.pivot_table(index='id_listing', values='id_user', aggfunc='count')"
   ]
  },
  {
   "cell_type": "code",
   "execution_count": 136,
   "metadata": {},
   "outputs": [
    {
     "data": {
      "text/plain": [
       "''"
      ]
     },
     "execution_count": 136,
     "metadata": {},
     "output_type": "execute_result"
    },
    {
     "data": {
      "image/png": "[encoded data removed]",
      "text/plain": [
       "<Figure size 1080x576 with 1 Axes>"
      ]
     },
     "metadata": {},
     "output_type": "display_data"
    }
   ],
   "source": [
    "fig, ax = plt.subplots(1, 1, figsize=(15, 8))\n",
    "sns.distplot(listing_req['id_user'], bins=range(0, 30, 2), kde=False)\n",
    "ax.set_title('Distribution of Times a Listing is Inquired about')\n",
    "ax.set_xlabel('Number of Inquiries')\n",
    "ax.set_ylabel('Number of Listings')\n",
    ";"
   ]
  }
 ],
 "metadata": {
  "kernelspec": {
   "display_name": "Python 3",
   "language": "python",
   "name": "python3"
  },
  "language_info": {
   "codemirror_mode": {
    "name": "ipython",
    "version": 3
   },
   "file_extension": ".py",
   "mimetype": "text/x-python",
   "name": "python",
   "nbconvert_exporter": "python",
   "pygments_lexer": "ipython3",
   "version": "3.7.6"
  }
 },
 "nbformat": 4,
 "nbformat_minor": 4
}
