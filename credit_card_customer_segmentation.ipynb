{
 "cells": [
  {
   "cell_type": "markdown",
   "metadata": {},
   "source": [
    "<h1><center>Cluster Segmentation of Credit Card Customers</center></h1>"
   ]
  },
  {
   "cell_type": "markdown",
   "metadata": {},
   "source": [
    "<h2>Part1. Data Preparation</h2>"
   ]
  },
  {
   "cell_type": "markdown",
   "metadata": {},
   "source": [
    "<h3>1.1 Import Libraries</h3><br>\n",
    "<b>Data Analysis</b>\n",
    "<ul>\n",
    "    <li>numpy</li>\n",
    "    <li>pandas</li>\n",
    "    <li>matplotlib</li>\n",
    "    <li>seaborn</li>\n",
    "</ul>\n",
    "<b>K-Means</b>\n",
    "<ul>\n",
    "    <li>KMeans</li>\n",
    "    <li>StandardScaler</li>\n",
    "</ul>"
   ]
  },
  {
   "cell_type": "code",
   "execution_count": 1,
   "metadata": {},
   "outputs": [],
   "source": [
    "#Data Analysis\n",
    "import numpy as np\n",
    "import pandas as pd\n",
    "import matplotlib.pyplot as plt\n",
    "import seaborn as sns\n",
    "\n",
    "#K-Means\n",
    "from sklearn.cluster import KMeans\n",
    "from sklearn.preprocessing import StandardScaler"
   ]
  },
  {
   "cell_type": "markdown",
   "metadata": {},
   "source": [
    "<h3>1.2 Load & Check Data</h3><br>"
   ]
  },
  {
   "cell_type": "markdown",
   "metadata": {},
   "source": [
    "<h4>Load Data</h4>"
   ]
  },
  {
   "cell_type": "code",
   "execution_count": 19,
   "metadata": {},
   "outputs": [
    {
     "data": {
      "text/html": [
       "<div>\n",
       "<style scoped>\n",
       "    .dataframe tbody tr th:only-of-type {\n",
       "        vertical-align: middle;\n",
       "    }\n",
       "\n",
       "    .dataframe tbody tr th {\n",
       "        vertical-align: top;\n",
       "    }\n",
       "\n",
       "    .dataframe thead th {\n",
       "        text-align: right;\n",
       "    }\n",
       "</style>\n",
       "<table border=\"1\" class=\"dataframe\">\n",
       "  <thead>\n",
       "    <tr style=\"text-align: right;\">\n",
       "      <th></th>\n",
       "      <th>CUST_ID</th>\n",
       "      <th>BALANCE</th>\n",
       "      <th>BALANCE_FREQUENCY</th>\n",
       "      <th>PURCHASES</th>\n",
       "      <th>ONEOFF_PURCHASES</th>\n",
       "      <th>INSTALLMENTS_PURCHASES</th>\n",
       "      <th>CASH_ADVANCE</th>\n",
       "      <th>PURCHASES_FREQUENCY</th>\n",
       "      <th>ONEOFF_PURCHASES_FREQUENCY</th>\n",
       "      <th>PURCHASES_INSTALLMENTS_FREQUENCY</th>\n",
       "      <th>CASH_ADVANCE_FREQUENCY</th>\n",
       "      <th>CASH_ADVANCE_TRX</th>\n",
       "      <th>PURCHASES_TRX</th>\n",
       "      <th>CREDIT_LIMIT</th>\n",
       "      <th>PAYMENTS</th>\n",
       "      <th>MINIMUM_PAYMENTS</th>\n",
       "      <th>PRC_FULL_PAYMENT</th>\n",
       "      <th>TENURE</th>\n",
       "    </tr>\n",
       "  </thead>\n",
       "  <tbody>\n",
       "    <tr>\n",
       "      <th>0</th>\n",
       "      <td>C10001</td>\n",
       "      <td>40.900749</td>\n",
       "      <td>0.818182</td>\n",
       "      <td>95.40</td>\n",
       "      <td>0.00</td>\n",
       "      <td>95.4</td>\n",
       "      <td>0.000000</td>\n",
       "      <td>0.166667</td>\n",
       "      <td>0.000000</td>\n",
       "      <td>0.083333</td>\n",
       "      <td>0.000000</td>\n",
       "      <td>0</td>\n",
       "      <td>2</td>\n",
       "      <td>1000.0</td>\n",
       "      <td>201.802084</td>\n",
       "      <td>139.509787</td>\n",
       "      <td>0.000000</td>\n",
       "      <td>12</td>\n",
       "    </tr>\n",
       "    <tr>\n",
       "      <th>1</th>\n",
       "      <td>C10002</td>\n",
       "      <td>3202.467416</td>\n",
       "      <td>0.909091</td>\n",
       "      <td>0.00</td>\n",
       "      <td>0.00</td>\n",
       "      <td>0.0</td>\n",
       "      <td>6442.945483</td>\n",
       "      <td>0.000000</td>\n",
       "      <td>0.000000</td>\n",
       "      <td>0.000000</td>\n",
       "      <td>0.250000</td>\n",
       "      <td>4</td>\n",
       "      <td>0</td>\n",
       "      <td>7000.0</td>\n",
       "      <td>4103.032597</td>\n",
       "      <td>1072.340217</td>\n",
       "      <td>0.222222</td>\n",
       "      <td>12</td>\n",
       "    </tr>\n",
       "    <tr>\n",
       "      <th>2</th>\n",
       "      <td>C10003</td>\n",
       "      <td>2495.148862</td>\n",
       "      <td>1.000000</td>\n",
       "      <td>773.17</td>\n",
       "      <td>773.17</td>\n",
       "      <td>0.0</td>\n",
       "      <td>0.000000</td>\n",
       "      <td>1.000000</td>\n",
       "      <td>1.000000</td>\n",
       "      <td>0.000000</td>\n",
       "      <td>0.000000</td>\n",
       "      <td>0</td>\n",
       "      <td>12</td>\n",
       "      <td>7500.0</td>\n",
       "      <td>622.066742</td>\n",
       "      <td>627.284787</td>\n",
       "      <td>0.000000</td>\n",
       "      <td>12</td>\n",
       "    </tr>\n",
       "    <tr>\n",
       "      <th>3</th>\n",
       "      <td>C10004</td>\n",
       "      <td>1666.670542</td>\n",
       "      <td>0.636364</td>\n",
       "      <td>1499.00</td>\n",
       "      <td>1499.00</td>\n",
       "      <td>0.0</td>\n",
       "      <td>205.788017</td>\n",
       "      <td>0.083333</td>\n",
       "      <td>0.083333</td>\n",
       "      <td>0.000000</td>\n",
       "      <td>0.083333</td>\n",
       "      <td>1</td>\n",
       "      <td>1</td>\n",
       "      <td>7500.0</td>\n",
       "      <td>0.000000</td>\n",
       "      <td>NaN</td>\n",
       "      <td>0.000000</td>\n",
       "      <td>12</td>\n",
       "    </tr>\n",
       "    <tr>\n",
       "      <th>4</th>\n",
       "      <td>C10005</td>\n",
       "      <td>817.714335</td>\n",
       "      <td>1.000000</td>\n",
       "      <td>16.00</td>\n",
       "      <td>16.00</td>\n",
       "      <td>0.0</td>\n",
       "      <td>0.000000</td>\n",
       "      <td>0.083333</td>\n",
       "      <td>0.083333</td>\n",
       "      <td>0.000000</td>\n",
       "      <td>0.000000</td>\n",
       "      <td>0</td>\n",
       "      <td>1</td>\n",
       "      <td>1200.0</td>\n",
       "      <td>678.334763</td>\n",
       "      <td>244.791237</td>\n",
       "      <td>0.000000</td>\n",
       "      <td>12</td>\n",
       "    </tr>\n",
       "  </tbody>\n",
       "</table>\n",
       "</div>"
      ],
      "text/plain": [
       "  CUST_ID      BALANCE  BALANCE_FREQUENCY  PURCHASES  ONEOFF_PURCHASES  \\\n",
       "0  C10001    40.900749           0.818182      95.40              0.00   \n",
       "1  C10002  3202.467416           0.909091       0.00              0.00   \n",
       "2  C10003  2495.148862           1.000000     773.17            773.17   \n",
       "3  C10004  1666.670542           0.636364    1499.00           1499.00   \n",
       "4  C10005   817.714335           1.000000      16.00             16.00   \n",
       "\n",
       "   INSTALLMENTS_PURCHASES  CASH_ADVANCE  PURCHASES_FREQUENCY  \\\n",
       "0                    95.4      0.000000             0.166667   \n",
       "1                     0.0   6442.945483             0.000000   \n",
       "2                     0.0      0.000000             1.000000   \n",
       "3                     0.0    205.788017             0.083333   \n",
       "4                     0.0      0.000000             0.083333   \n",
       "\n",
       "   ONEOFF_PURCHASES_FREQUENCY  PURCHASES_INSTALLMENTS_FREQUENCY  \\\n",
       "0                    0.000000                          0.083333   \n",
       "1                    0.000000                          0.000000   \n",
       "2                    1.000000                          0.000000   \n",
       "3                    0.083333                          0.000000   \n",
       "4                    0.083333                          0.000000   \n",
       "\n",
       "   CASH_ADVANCE_FREQUENCY  CASH_ADVANCE_TRX  PURCHASES_TRX  CREDIT_LIMIT  \\\n",
       "0                0.000000                 0              2        1000.0   \n",
       "1                0.250000                 4              0        7000.0   \n",
       "2                0.000000                 0             12        7500.0   \n",
       "3                0.083333                 1              1        7500.0   \n",
       "4                0.000000                 0              1        1200.0   \n",
       "\n",
       "      PAYMENTS  MINIMUM_PAYMENTS  PRC_FULL_PAYMENT  TENURE  \n",
       "0   201.802084        139.509787          0.000000      12  \n",
       "1  4103.032597       1072.340217          0.222222      12  \n",
       "2   622.066742        627.284787          0.000000      12  \n",
       "3     0.000000               NaN          0.000000      12  \n",
       "4   678.334763        244.791237          0.000000      12  "
      ]
     },
     "execution_count": 19,
     "metadata": {},
     "output_type": "execute_result"
    }
   ],
   "source": [
    "df_raw = pd.read_csv('data.csv')\n",
    "df_raw.head()"
   ]
  },
  {
   "cell_type": "markdown",
   "metadata": {},
   "source": [
    "<h4>Check Basic Dataset Information</h4>"
   ]
  },
  {
   "cell_type": "code",
   "execution_count": 6,
   "metadata": {},
   "outputs": [
    {
     "data": {
      "text/plain": [
       "(8950, 18)"
      ]
     },
     "execution_count": 6,
     "metadata": {},
     "output_type": "execute_result"
    }
   ],
   "source": [
    "n_col = df_raw.shape[0]\n",
    "df_raw.shape"
   ]
  },
  {
   "cell_type": "code",
   "execution_count": 4,
   "metadata": {},
   "outputs": [
    {
     "name": "stdout",
     "output_type": "stream",
     "text": [
      "<class 'pandas.core.frame.DataFrame'>\n",
      "RangeIndex: 8950 entries, 0 to 8949\n",
      "Data columns (total 18 columns):\n",
      " #   Column                            Non-Null Count  Dtype  \n",
      "---  ------                            --------------  -----  \n",
      " 0   CUST_ID                           8950 non-null   object \n",
      " 1   BALANCE                           8950 non-null   float64\n",
      " 2   BALANCE_FREQUENCY                 8950 non-null   float64\n",
      " 3   PURCHASES                         8950 non-null   float64\n",
      " 4   ONEOFF_PURCHASES                  8950 non-null   float64\n",
      " 5   INSTALLMENTS_PURCHASES            8950 non-null   float64\n",
      " 6   CASH_ADVANCE                      8950 non-null   float64\n",
      " 7   PURCHASES_FREQUENCY               8950 non-null   float64\n",
      " 8   ONEOFF_PURCHASES_FREQUENCY        8950 non-null   float64\n",
      " 9   PURCHASES_INSTALLMENTS_FREQUENCY  8950 non-null   float64\n",
      " 10  CASH_ADVANCE_FREQUENCY            8950 non-null   float64\n",
      " 11  CASH_ADVANCE_TRX                  8950 non-null   int64  \n",
      " 12  PURCHASES_TRX                     8950 non-null   int64  \n",
      " 13  CREDIT_LIMIT                      8949 non-null   float64\n",
      " 14  PAYMENTS                          8950 non-null   float64\n",
      " 15  MINIMUM_PAYMENTS                  8637 non-null   float64\n",
      " 16  PRC_FULL_PAYMENT                  8950 non-null   float64\n",
      " 17  TENURE                            8950 non-null   int64  \n",
      "dtypes: float64(14), int64(3), object(1)\n",
      "memory usage: 1.2+ MB\n"
     ]
    }
   ],
   "source": [
    "df_raw.info()"
   ]
  },
  {
   "cell_type": "code",
   "execution_count": 11,
   "metadata": {},
   "outputs": [
    {
     "data": {
      "text/html": [
       "<div>\n",
       "<style scoped>\n",
       "    .dataframe tbody tr th:only-of-type {\n",
       "        vertical-align: middle;\n",
       "    }\n",
       "\n",
       "    .dataframe tbody tr th {\n",
       "        vertical-align: top;\n",
       "    }\n",
       "\n",
       "    .dataframe thead th {\n",
       "        text-align: right;\n",
       "    }\n",
       "</style>\n",
       "<table border=\"1\" class=\"dataframe\">\n",
       "  <thead>\n",
       "    <tr style=\"text-align: right;\">\n",
       "      <th></th>\n",
       "      <th>BALANCE</th>\n",
       "      <th>BALANCE_FREQUENCY</th>\n",
       "      <th>PURCHASES</th>\n",
       "      <th>ONEOFF_PURCHASES</th>\n",
       "      <th>INSTALLMENTS_PURCHASES</th>\n",
       "      <th>CASH_ADVANCE</th>\n",
       "    </tr>\n",
       "  </thead>\n",
       "  <tbody>\n",
       "    <tr>\n",
       "      <th>count</th>\n",
       "      <td>8950.000000</td>\n",
       "      <td>8950.000000</td>\n",
       "      <td>8950.000000</td>\n",
       "      <td>8950.000000</td>\n",
       "      <td>8950.000000</td>\n",
       "      <td>8950.000000</td>\n",
       "    </tr>\n",
       "    <tr>\n",
       "      <th>mean</th>\n",
       "      <td>1564.474828</td>\n",
       "      <td>0.877271</td>\n",
       "      <td>1003.204834</td>\n",
       "      <td>592.437371</td>\n",
       "      <td>411.067645</td>\n",
       "      <td>978.871112</td>\n",
       "    </tr>\n",
       "    <tr>\n",
       "      <th>std</th>\n",
       "      <td>2081.531879</td>\n",
       "      <td>0.236904</td>\n",
       "      <td>2136.634782</td>\n",
       "      <td>1659.887917</td>\n",
       "      <td>904.338115</td>\n",
       "      <td>2097.163877</td>\n",
       "    </tr>\n",
       "    <tr>\n",
       "      <th>min</th>\n",
       "      <td>0.000000</td>\n",
       "      <td>0.000000</td>\n",
       "      <td>0.000000</td>\n",
       "      <td>0.000000</td>\n",
       "      <td>0.000000</td>\n",
       "      <td>0.000000</td>\n",
       "    </tr>\n",
       "    <tr>\n",
       "      <th>25%</th>\n",
       "      <td>128.281915</td>\n",
       "      <td>0.888889</td>\n",
       "      <td>39.635000</td>\n",
       "      <td>0.000000</td>\n",
       "      <td>0.000000</td>\n",
       "      <td>0.000000</td>\n",
       "    </tr>\n",
       "    <tr>\n",
       "      <th>50%</th>\n",
       "      <td>873.385231</td>\n",
       "      <td>1.000000</td>\n",
       "      <td>361.280000</td>\n",
       "      <td>38.000000</td>\n",
       "      <td>89.000000</td>\n",
       "      <td>0.000000</td>\n",
       "    </tr>\n",
       "    <tr>\n",
       "      <th>75%</th>\n",
       "      <td>2054.140036</td>\n",
       "      <td>1.000000</td>\n",
       "      <td>1110.130000</td>\n",
       "      <td>577.405000</td>\n",
       "      <td>468.637500</td>\n",
       "      <td>1113.821139</td>\n",
       "    </tr>\n",
       "    <tr>\n",
       "      <th>max</th>\n",
       "      <td>19043.138560</td>\n",
       "      <td>1.000000</td>\n",
       "      <td>49039.570000</td>\n",
       "      <td>40761.250000</td>\n",
       "      <td>22500.000000</td>\n",
       "      <td>47137.211760</td>\n",
       "    </tr>\n",
       "  </tbody>\n",
       "</table>\n",
       "</div>"
      ],
      "text/plain": [
       "            BALANCE  BALANCE_FREQUENCY     PURCHASES  ONEOFF_PURCHASES  \\\n",
       "count   8950.000000        8950.000000   8950.000000       8950.000000   \n",
       "mean    1564.474828           0.877271   1003.204834        592.437371   \n",
       "std     2081.531879           0.236904   2136.634782       1659.887917   \n",
       "min        0.000000           0.000000      0.000000          0.000000   \n",
       "25%      128.281915           0.888889     39.635000          0.000000   \n",
       "50%      873.385231           1.000000    361.280000         38.000000   \n",
       "75%     2054.140036           1.000000   1110.130000        577.405000   \n",
       "max    19043.138560           1.000000  49039.570000      40761.250000   \n",
       "\n",
       "       INSTALLMENTS_PURCHASES  CASH_ADVANCE  \n",
       "count             8950.000000   8950.000000  \n",
       "mean               411.067645    978.871112  \n",
       "std                904.338115   2097.163877  \n",
       "min                  0.000000      0.000000  \n",
       "25%                  0.000000      0.000000  \n",
       "50%                 89.000000      0.000000  \n",
       "75%                468.637500   1113.821139  \n",
       "max              22500.000000  47137.211760  "
      ]
     },
     "metadata": {},
     "output_type": "display_data"
    },
    {
     "data": {
      "text/html": [
       "<div>\n",
       "<style scoped>\n",
       "    .dataframe tbody tr th:only-of-type {\n",
       "        vertical-align: middle;\n",
       "    }\n",
       "\n",
       "    .dataframe tbody tr th {\n",
       "        vertical-align: top;\n",
       "    }\n",
       "\n",
       "    .dataframe thead th {\n",
       "        text-align: right;\n",
       "    }\n",
       "</style>\n",
       "<table border=\"1\" class=\"dataframe\">\n",
       "  <thead>\n",
       "    <tr style=\"text-align: right;\">\n",
       "      <th></th>\n",
       "      <th>ONEOFF_PURCHASES_FREQUENCY</th>\n",
       "      <th>PURCHASES_INSTALLMENTS_FREQUENCY</th>\n",
       "      <th>CASH_ADVANCE_FREQUENCY</th>\n",
       "      <th>CASH_ADVANCE_TRX</th>\n",
       "    </tr>\n",
       "  </thead>\n",
       "  <tbody>\n",
       "    <tr>\n",
       "      <th>count</th>\n",
       "      <td>8950.000000</td>\n",
       "      <td>8950.000000</td>\n",
       "      <td>8950.000000</td>\n",
       "      <td>8950.000000</td>\n",
       "    </tr>\n",
       "    <tr>\n",
       "      <th>mean</th>\n",
       "      <td>0.202458</td>\n",
       "      <td>0.364437</td>\n",
       "      <td>0.135144</td>\n",
       "      <td>3.248827</td>\n",
       "    </tr>\n",
       "    <tr>\n",
       "      <th>std</th>\n",
       "      <td>0.298336</td>\n",
       "      <td>0.397448</td>\n",
       "      <td>0.200121</td>\n",
       "      <td>6.824647</td>\n",
       "    </tr>\n",
       "    <tr>\n",
       "      <th>min</th>\n",
       "      <td>0.000000</td>\n",
       "      <td>0.000000</td>\n",
       "      <td>0.000000</td>\n",
       "      <td>0.000000</td>\n",
       "    </tr>\n",
       "    <tr>\n",
       "      <th>25%</th>\n",
       "      <td>0.000000</td>\n",
       "      <td>0.000000</td>\n",
       "      <td>0.000000</td>\n",
       "      <td>0.000000</td>\n",
       "    </tr>\n",
       "    <tr>\n",
       "      <th>50%</th>\n",
       "      <td>0.083333</td>\n",
       "      <td>0.166667</td>\n",
       "      <td>0.000000</td>\n",
       "      <td>0.000000</td>\n",
       "    </tr>\n",
       "    <tr>\n",
       "      <th>75%</th>\n",
       "      <td>0.300000</td>\n",
       "      <td>0.750000</td>\n",
       "      <td>0.222222</td>\n",
       "      <td>4.000000</td>\n",
       "    </tr>\n",
       "    <tr>\n",
       "      <th>max</th>\n",
       "      <td>1.000000</td>\n",
       "      <td>1.000000</td>\n",
       "      <td>1.500000</td>\n",
       "      <td>123.000000</td>\n",
       "    </tr>\n",
       "  </tbody>\n",
       "</table>\n",
       "</div>"
      ],
      "text/plain": [
       "       ONEOFF_PURCHASES_FREQUENCY  PURCHASES_INSTALLMENTS_FREQUENCY  \\\n",
       "count                 8950.000000                       8950.000000   \n",
       "mean                     0.202458                          0.364437   \n",
       "std                      0.298336                          0.397448   \n",
       "min                      0.000000                          0.000000   \n",
       "25%                      0.000000                          0.000000   \n",
       "50%                      0.083333                          0.166667   \n",
       "75%                      0.300000                          0.750000   \n",
       "max                      1.000000                          1.000000   \n",
       "\n",
       "       CASH_ADVANCE_FREQUENCY  CASH_ADVANCE_TRX  \n",
       "count             8950.000000       8950.000000  \n",
       "mean                 0.135144          3.248827  \n",
       "std                  0.200121          6.824647  \n",
       "min                  0.000000          0.000000  \n",
       "25%                  0.000000          0.000000  \n",
       "50%                  0.000000          0.000000  \n",
       "75%                  0.222222          4.000000  \n",
       "max                  1.500000        123.000000  "
      ]
     },
     "metadata": {},
     "output_type": "display_data"
    },
    {
     "data": {
      "text/html": [
       "<div>\n",
       "<style scoped>\n",
       "    .dataframe tbody tr th:only-of-type {\n",
       "        vertical-align: middle;\n",
       "    }\n",
       "\n",
       "    .dataframe tbody tr th {\n",
       "        vertical-align: top;\n",
       "    }\n",
       "\n",
       "    .dataframe thead th {\n",
       "        text-align: right;\n",
       "    }\n",
       "</style>\n",
       "<table border=\"1\" class=\"dataframe\">\n",
       "  <thead>\n",
       "    <tr style=\"text-align: right;\">\n",
       "      <th></th>\n",
       "      <th>CREDIT_LIMIT</th>\n",
       "      <th>PAYMENTS</th>\n",
       "      <th>MINIMUM_PAYMENTS</th>\n",
       "      <th>PRC_FULL_PAYMENT</th>\n",
       "      <th>TENURE</th>\n",
       "    </tr>\n",
       "  </thead>\n",
       "  <tbody>\n",
       "    <tr>\n",
       "      <th>count</th>\n",
       "      <td>8949.000000</td>\n",
       "      <td>8950.000000</td>\n",
       "      <td>8637.000000</td>\n",
       "      <td>8950.000000</td>\n",
       "      <td>8950.000000</td>\n",
       "    </tr>\n",
       "    <tr>\n",
       "      <th>mean</th>\n",
       "      <td>4494.449450</td>\n",
       "      <td>1733.143852</td>\n",
       "      <td>864.206542</td>\n",
       "      <td>0.153715</td>\n",
       "      <td>11.517318</td>\n",
       "    </tr>\n",
       "    <tr>\n",
       "      <th>std</th>\n",
       "      <td>3638.815725</td>\n",
       "      <td>2895.063757</td>\n",
       "      <td>2372.446607</td>\n",
       "      <td>0.292499</td>\n",
       "      <td>1.338331</td>\n",
       "    </tr>\n",
       "    <tr>\n",
       "      <th>min</th>\n",
       "      <td>50.000000</td>\n",
       "      <td>0.000000</td>\n",
       "      <td>0.019163</td>\n",
       "      <td>0.000000</td>\n",
       "      <td>6.000000</td>\n",
       "    </tr>\n",
       "    <tr>\n",
       "      <th>25%</th>\n",
       "      <td>1600.000000</td>\n",
       "      <td>383.276166</td>\n",
       "      <td>169.123707</td>\n",
       "      <td>0.000000</td>\n",
       "      <td>12.000000</td>\n",
       "    </tr>\n",
       "    <tr>\n",
       "      <th>50%</th>\n",
       "      <td>3000.000000</td>\n",
       "      <td>856.901546</td>\n",
       "      <td>312.343947</td>\n",
       "      <td>0.000000</td>\n",
       "      <td>12.000000</td>\n",
       "    </tr>\n",
       "    <tr>\n",
       "      <th>75%</th>\n",
       "      <td>6500.000000</td>\n",
       "      <td>1901.134317</td>\n",
       "      <td>825.485459</td>\n",
       "      <td>0.142857</td>\n",
       "      <td>12.000000</td>\n",
       "    </tr>\n",
       "    <tr>\n",
       "      <th>max</th>\n",
       "      <td>30000.000000</td>\n",
       "      <td>50721.483360</td>\n",
       "      <td>76406.207520</td>\n",
       "      <td>1.000000</td>\n",
       "      <td>12.000000</td>\n",
       "    </tr>\n",
       "  </tbody>\n",
       "</table>\n",
       "</div>"
      ],
      "text/plain": [
       "       CREDIT_LIMIT      PAYMENTS  MINIMUM_PAYMENTS  PRC_FULL_PAYMENT  \\\n",
       "count   8949.000000   8950.000000       8637.000000       8950.000000   \n",
       "mean    4494.449450   1733.143852        864.206542          0.153715   \n",
       "std     3638.815725   2895.063757       2372.446607          0.292499   \n",
       "min       50.000000      0.000000          0.019163          0.000000   \n",
       "25%     1600.000000    383.276166        169.123707          0.000000   \n",
       "50%     3000.000000    856.901546        312.343947          0.000000   \n",
       "75%     6500.000000   1901.134317        825.485459          0.142857   \n",
       "max    30000.000000  50721.483360      76406.207520          1.000000   \n",
       "\n",
       "            TENURE  \n",
       "count  8950.000000  \n",
       "mean     11.517318  \n",
       "std       1.338331  \n",
       "min       6.000000  \n",
       "25%      12.000000  \n",
       "50%      12.000000  \n",
       "75%      12.000000  \n",
       "max      12.000000  "
      ]
     },
     "metadata": {},
     "output_type": "display_data"
    }
   ],
   "source": [
    "display(df_raw.describe().iloc[:,:6])\n",
    "display(df_raw.describe().iloc[:,7:11])\n",
    "display(df_raw.describe().iloc[:,12:18])"
   ]
  },
  {
   "cell_type": "markdown",
   "metadata": {},
   "source": [
    "<h3>1.3 Data Dictionary</h3>\n",
    "<ul>\n",
    "    <li><b>CUSTID</b> : Identification of Credit Card holder (Categorical)</li>\n",
    "    <li><b>BALANCE</b> : Balance amount left in their account to make purchases</li>\n",
    "    <li><b>BALANCE_FREQUENCY</b> : How frequently the Balance is updated, score between 0 and 1 (1 = frequently updated, 0 = not frequently updated)</li>\n",
    "    <li><b>PURCHASES</b> : Amount of purchases made from account</li>\n",
    "    <li><b>ONEOFF_PURCHASES</b> : Maximum purchase amount done in one-go</li>\n",
    "    <li><b>INSTALLMENTS_PURCHASES</b> : Amount of purchase done in installment</li>\n",
    "    <li><b>CASH_ADVANCE</b> : Cash in advance given by the user</li>\n",
    "    <li><b>PURCHASES_FREQUENCY</b> : How frequently the Purchases are being made, score between 0 and 1 (1 = frequently purchased, 0 = not frequently purchased)</li>\n",
    "    <li><b>ONEOFF_PURCHASES_FREQUENCY</b> : How frequently Purchases are happening in one-go (1 = frequently purchased, 0 = not frequently purchased)</li>\n",
    "    <li><b>PURCHASES_INSTALLMENTS_FREQUENCY</b> : How frequently purchases in installments are being done (1 = frequently done, 0 = not frequently done)</li>\n",
    "    <li><b>CASH_ADVANCE_FREQUENCY</b> : How frequently the cash in advance being paid</li>\n",
    "    <li><b>CASH_ADVANCE_TRX</b> : Number of Transactions made with \"Cash in Advanced\"</li>\n",
    "    <li><b>PURCHASES_TRX</b> : Numbe of purchase transactions made</li>\n",
    "    <li><b>CREDIT_LIMIT</b> : Limit of Credit Card for user</li>\n",
    "    <li><b>PAYMENTS</b> : Amount of Payment done by user</li>\n",
    "    <li><b>MINIMUM_PAYMENTS</b> : Minimum amount of payments made by user</li>\n",
    "    <li><b>PRC_FULL_PAYMENT</b> : Percent of full payment paid by user</li>\n",
    "    <li><b>TENURE</b> : Tenure of credit card service for user</li>\n",
    "</ul>\n"
   ]
  },
  {
   "cell_type": "markdown",
   "metadata": {},
   "source": [
    "<h3>1.4 Data Selection</h3>\n",
    "<br>\n",
    "The following columns are selected for K-Means cluster analysis.<br><br>\n",
    "<b>Balance</b>\n",
    "<ul>\n",
    "    <li>BALANCE</li>\n",
    "    <li>BALANCE_FREQUENCY: related to purchase frequency</li>\n",
    "</ul>\n",
    "<b>Purchase</b>\n",
    "<ul>\n",
    "    <li>ONEOFF_PURCHASES</li>\n",
    "    <li>INSTALLMENTS_PURCHASES</li>\n",
    "    <li>ONEOFF_PURCHASES_FREQUENCY</li>\n",
    "    <li>PURCHASES_INSTALLMENTS_FREQUENCY</li>\n",
    "    <li>CASH_ADVANCE</li>\n",
    "    <li>CASH_ADVANCE_FREQUENCY</li>\n",
    "    <li>CASH_ADVANCE_TRX</li>\n",
    "    <li>PURCHASES_TRX</li>\n",
    "</ul>\n",
    "\n",
    "<b>Credit</b>\n",
    "<ul>\n",
    "    <li>CREDIT_LIMIT</li>\n",
    "    <li>PAYMENTS</li>\n",
    "    <li>MINIMUM_PAYMENTS</li>\n",
    "    <li>PRC_FULL_PAYMENT: related to the customer's ability to pay all balance</li>\n",
    "</ul>\n",
    "<b>Customer Related</b>\n",
    "<ul>\n",
    "    <li>TENURE</li>\n",
    "</ul>"
   ]
  },
  {
   "cell_type": "markdown",
   "metadata": {},
   "source": [
    "<b>Notes:</b>"
   ]
  },
  {
   "cell_type": "code",
   "execution_count": 35,
   "metadata": {},
   "outputs": [
    {
     "name": "stdout",
     "output_type": "stream",
     "text": [
      "There are 94.5% rows in which PURCHASE is equal to the sum of ONEOFF_PURCHASES and INSTALLMENTS_PURCHASES.\n"
     ]
    }
   ],
   "source": [
    "check_purchase = df_raw.PURCHASES == df_raw.ONEOFF_PURCHASES + df_raw.INSTALLMENTS_PURCHASES\n",
    "print('There are ',round((check_purchase.sum()/n_col * 100),2),\\\n",
    "      '% rows in which PURCHASE is equal to the sum of ONEOFF_PURCHASES and INSTALLMENTS_PURCHASES.',sep='')"
   ]
  },
  {
   "cell_type": "markdown",
   "metadata": {},
   "source": [
    "Thereore, PURCHASES can be roughly represented by ONEOFF_PURCHASES and INSTALLMENTS_PURCHASES.<br>\n",
    "Therefore, this column can be omitted."
   ]
  },
  {
   "cell_type": "code",
   "execution_count": 41,
   "metadata": {},
   "outputs": [
    {
     "name": "stdout",
     "output_type": "stream",
     "text": [
      "There are 74.03% rows in which PURCHASE_FREQUENCY is either equal to ONEOFF_PURCHASES_FREQUENCY or equal to PURCHASES_INSTALLMENTS_FREQUENCY.\n"
     ]
    }
   ],
   "source": [
    "check_purchase_freq = np.logical_or((df_raw.PURCHASES_FREQUENCY == df_raw.ONEOFF_PURCHASES_FREQUENCY),\\\n",
    "                                    (df_raw.PURCHASES_FREQUENCY == df_raw.PURCHASES_INSTALLMENTS_FREQUENCY))\n",
    "print('There are ',round((check_purchase_freq.sum()/n_col * 100),2),\\\n",
    "      '% rows in which PURCHASE_FREQUENCY is either equal to ONEOFF_PURCHASES_FREQUENCY or equal to PURCHASES_INSTALLMENTS_FREQUENCY.'\\\n",
    "      ,sep='')"
   ]
  },
  {
   "cell_type": "markdown",
   "metadata": {},
   "source": [
    "Similarly, PURCHASES_FREQUENCY can be roughly represented by ONEOFF_PURCHASES_FREQUENCY and PURCHASES_INSTALLMENTS_FREQUENCY.<br>\n",
    "Therefore, PURCHASES_FREQUENCY can be omitted as well."
   ]
  },
  {
   "cell_type": "markdown",
   "metadata": {},
   "source": [
    "<b>Notes:</b>"
   ]
  },
  {
   "cell_type": "code",
   "execution_count": 13,
   "metadata": {},
   "outputs": [],
   "source": [
    "cols = ['BALANCE','BALANCE_FREQUENCY',\n",
    "        'ONEOFF_PURCHASES','INSTALLMENTS_PURCHASES',\n",
    "        'ONEOFF_PURCHASES_FREQUENCY','PURCHASES_INSTALLMENTS_FREQUENCY','PURCHASES_TRX',\n",
    "        'CASH_ADVANCE','CASH_ADVANCE_FREQUENCY','CASH_ADVANCE_TRX',\n",
    "        'CREDIT_LIMIT','PAYMENTS','MINIMUM_PAYMENTS','PRC_FULL_PAYMENT',\n",
    "        'TENURE']"
   ]
  },
  {
   "cell_type": "code",
   "execution_count": 14,
   "metadata": {},
   "outputs": [],
   "source": [
    "df = df_raw[cols]"
   ]
  },
  {
   "cell_type": "markdown",
   "metadata": {},
   "source": [
    "<h3>1.5 Data Quality Check</h3><br>\n",
    "Check for:\n",
    "<ol>\n",
    "    <li>Percent of missing values</li>\n",
    "    <li>Percent of unique values</li>\n",
    "    <li>Data types</li>\n",
    "    <li>Numeric distribution skewness</li>\n",
    "</ol>"
   ]
  },
  {
   "cell_type": "markdown",
   "metadata": {},
   "source": [
    "<h4>Check Missing Values</h4>"
   ]
  },
  {
   "cell_type": "code",
   "execution_count": 16,
   "metadata": {
    "scrolled": false
   },
   "outputs": [
    {
     "name": "stdout",
     "output_type": "stream",
     "text": [
      "The column BALANCE is 0.0% null.\n",
      "The column BALANCE_FREQUENCY is 0.0% null.\n",
      "The column ONEOFF_PURCHASES is 0.0% null.\n",
      "The column INSTALLMENTS_PURCHASES is 0.0% null.\n",
      "The column ONEOFF_PURCHASES_FREQUENCY is 0.0% null.\n",
      "The column PURCHASES_INSTALLMENTS_FREQUENCY is 0.0% null.\n",
      "The column PURCHASES_TRX is 0.0% null.\n",
      "The column CASH_ADVANCE is 0.0% null.\n",
      "The column CASH_ADVANCE_FREQUENCY is 0.0% null.\n",
      "The column CASH_ADVANCE_TRX is 0.0% null.\n",
      "The column CREDIT_LIMIT is 0.0% null.\n",
      "The column PAYMENTS is 0.0% null.\n",
      "The column MINIMUM_PAYMENTS is 3.5% null.\n",
      "The column PRC_FULL_PAYMENT is 0.0% null.\n",
      "The column TENURE is 0.0% null.\n",
      "--------------------------------------------------\n",
      "BALANCE                               0\n",
      "BALANCE_FREQUENCY                     0\n",
      "ONEOFF_PURCHASES                      0\n",
      "INSTALLMENTS_PURCHASES                0\n",
      "ONEOFF_PURCHASES_FREQUENCY            0\n",
      "PURCHASES_INSTALLMENTS_FREQUENCY      0\n",
      "PURCHASES_TRX                         0\n",
      "CASH_ADVANCE                          0\n",
      "CASH_ADVANCE_FREQUENCY                0\n",
      "CASH_ADVANCE_TRX                      0\n",
      "CREDIT_LIMIT                          1\n",
      "PAYMENTS                              0\n",
      "MINIMUM_PAYMENTS                    313\n",
      "PRC_FULL_PAYMENT                      0\n",
      "TENURE                                0\n",
      "dtype: int64\n"
     ]
    }
   ],
   "source": [
    "for col in df.columns:\n",
    "    null_p = df[col].isnull().sum()/n_col*100\n",
    "    print('The column ',col,' is ',round(null_p,1),'% null.',sep='')\n",
    "print('-'*50)\n",
    "print(df.isnull().sum())"
   ]
  },
  {
   "cell_type": "markdown",
   "metadata": {},
   "source": [
    "Only the column MINIMUM_PAYMENTS has a noticable amount of missing values."
   ]
  },
  {
   "cell_type": "markdown",
   "metadata": {},
   "source": [
    "Printing out the number of null entries in each column verifies this."
   ]
  },
  {
   "cell_type": "markdown",
   "metadata": {},
   "source": [
    "<h4>Check Number of Unique Values</h4>"
   ]
  },
  {
   "cell_type": "markdown",
   "metadata": {},
   "source": [
    "check duplicates for primary key(s)"
   ]
  },
  {
   "cell_type": "code",
   "execution_count": 98,
   "metadata": {
    "scrolled": true
   },
   "outputs": [
    {
     "name": "stdout",
     "output_type": "stream",
     "text": [
      "The column BALANCE is 99.1% unique.\n",
      "The column BALANCE_FREQUENCY is 0.5% unique.\n",
      "The column ONEOFF_PURCHASES is 44.8% unique.\n",
      "The column INSTALLMENTS_PURCHASES is 49.7% unique.\n",
      "The column ONEOFF_PURCHASES_FREQUENCY is 0.5% unique.\n",
      "The column PURCHASES_INSTALLMENTS_FREQUENCY is 0.5% unique.\n",
      "The column PURCHASES_TRX is 1.9% unique.\n",
      "The column CASH_ADVANCE is 48.3% unique.\n",
      "The column CASH_ADVANCE_FREQUENCY is 0.6% unique.\n",
      "The column CASH_ADVANCE_TRX is 0.7% unique.\n",
      "The column CREDIT_LIMIT is 2.3% unique.\n",
      "The column PAYMENTS is 97.3% unique.\n",
      "The column MINIMUM_PAYMENTS is 96.5% unique.\n",
      "The column PRC_FULL_PAYMENT is 0.5% unique.\n",
      "The column TENURE is 0.1% unique.\n"
     ]
    }
   ],
   "source": [
    "n_col = df.shape[0]\n",
    "for col in df.columns:\n",
    "    unique_p = df[col].nunique()/n_col*100\n",
    "    print('The column ',col,' is ',round(unique_p,1),'% unique.',sep='')"
   ]
  },
  {
   "cell_type": "markdown",
   "metadata": {},
   "source": [
    "As expected, the columns that have monetary values are mostly unique."
   ]
  },
  {
   "cell_type": "markdown",
   "metadata": {},
   "source": [
    "<h4>Check Data Type</h4>"
   ]
  },
  {
   "cell_type": "code",
   "execution_count": 99,
   "metadata": {
    "scrolled": false
   },
   "outputs": [
    {
     "name": "stdout",
     "output_type": "stream",
     "text": [
      "<class 'pandas.core.frame.DataFrame'>\n",
      "RangeIndex: 8950 entries, 0 to 8949\n",
      "Data columns (total 15 columns):\n",
      " #   Column                            Non-Null Count  Dtype  \n",
      "---  ------                            --------------  -----  \n",
      " 0   BALANCE                           8950 non-null   float64\n",
      " 1   BALANCE_FREQUENCY                 8950 non-null   float64\n",
      " 2   ONEOFF_PURCHASES                  8950 non-null   float64\n",
      " 3   INSTALLMENTS_PURCHASES            8950 non-null   float64\n",
      " 4   ONEOFF_PURCHASES_FREQUENCY        8950 non-null   float64\n",
      " 5   PURCHASES_INSTALLMENTS_FREQUENCY  8950 non-null   float64\n",
      " 6   PURCHASES_TRX                     8950 non-null   int64  \n",
      " 7   CASH_ADVANCE                      8950 non-null   float64\n",
      " 8   CASH_ADVANCE_FREQUENCY            8950 non-null   float64\n",
      " 9   CASH_ADVANCE_TRX                  8950 non-null   int64  \n",
      " 10  CREDIT_LIMIT                      8949 non-null   float64\n",
      " 11  PAYMENTS                          8950 non-null   float64\n",
      " 12  MINIMUM_PAYMENTS                  8637 non-null   float64\n",
      " 13  PRC_FULL_PAYMENT                  8950 non-null   float64\n",
      " 14  TENURE                            8950 non-null   int64  \n",
      "dtypes: float64(12), int64(3)\n",
      "memory usage: 1.0 MB\n",
      "None\n"
     ]
    },
    {
     "data": {
      "text/html": [
       "<div>\n",
       "<style scoped>\n",
       "    .dataframe tbody tr th:only-of-type {\n",
       "        vertical-align: middle;\n",
       "    }\n",
       "\n",
       "    .dataframe tbody tr th {\n",
       "        vertical-align: top;\n",
       "    }\n",
       "\n",
       "    .dataframe thead th {\n",
       "        text-align: right;\n",
       "    }\n",
       "</style>\n",
       "<table border=\"1\" class=\"dataframe\">\n",
       "  <thead>\n",
       "    <tr style=\"text-align: right;\">\n",
       "      <th></th>\n",
       "      <th>BALANCE</th>\n",
       "      <th>BALANCE_FREQUENCY</th>\n",
       "      <th>ONEOFF_PURCHASES</th>\n",
       "      <th>INSTALLMENTS_PURCHASES</th>\n",
       "      <th>ONEOFF_PURCHASES_FREQUENCY</th>\n",
       "      <th>PURCHASES_INSTALLMENTS_FREQUENCY</th>\n",
       "      <th>PURCHASES_TRX</th>\n",
       "      <th>CASH_ADVANCE</th>\n",
       "      <th>CASH_ADVANCE_FREQUENCY</th>\n",
       "      <th>CASH_ADVANCE_TRX</th>\n",
       "      <th>CREDIT_LIMIT</th>\n",
       "      <th>PAYMENTS</th>\n",
       "      <th>MINIMUM_PAYMENTS</th>\n",
       "      <th>PRC_FULL_PAYMENT</th>\n",
       "      <th>TENURE</th>\n",
       "    </tr>\n",
       "  </thead>\n",
       "  <tbody>\n",
       "    <tr>\n",
       "      <th>0</th>\n",
       "      <td>40.900749</td>\n",
       "      <td>0.818182</td>\n",
       "      <td>0.00</td>\n",
       "      <td>95.4</td>\n",
       "      <td>0.000000</td>\n",
       "      <td>0.083333</td>\n",
       "      <td>2</td>\n",
       "      <td>0.000000</td>\n",
       "      <td>0.000000</td>\n",
       "      <td>0</td>\n",
       "      <td>1000.0</td>\n",
       "      <td>201.802084</td>\n",
       "      <td>139.509787</td>\n",
       "      <td>0.000000</td>\n",
       "      <td>12</td>\n",
       "    </tr>\n",
       "    <tr>\n",
       "      <th>1</th>\n",
       "      <td>3202.467416</td>\n",
       "      <td>0.909091</td>\n",
       "      <td>0.00</td>\n",
       "      <td>0.0</td>\n",
       "      <td>0.000000</td>\n",
       "      <td>0.000000</td>\n",
       "      <td>0</td>\n",
       "      <td>6442.945483</td>\n",
       "      <td>0.250000</td>\n",
       "      <td>4</td>\n",
       "      <td>7000.0</td>\n",
       "      <td>4103.032597</td>\n",
       "      <td>1072.340217</td>\n",
       "      <td>0.222222</td>\n",
       "      <td>12</td>\n",
       "    </tr>\n",
       "    <tr>\n",
       "      <th>2</th>\n",
       "      <td>2495.148862</td>\n",
       "      <td>1.000000</td>\n",
       "      <td>773.17</td>\n",
       "      <td>0.0</td>\n",
       "      <td>1.000000</td>\n",
       "      <td>0.000000</td>\n",
       "      <td>12</td>\n",
       "      <td>0.000000</td>\n",
       "      <td>0.000000</td>\n",
       "      <td>0</td>\n",
       "      <td>7500.0</td>\n",
       "      <td>622.066742</td>\n",
       "      <td>627.284787</td>\n",
       "      <td>0.000000</td>\n",
       "      <td>12</td>\n",
       "    </tr>\n",
       "    <tr>\n",
       "      <th>3</th>\n",
       "      <td>1666.670542</td>\n",
       "      <td>0.636364</td>\n",
       "      <td>1499.00</td>\n",
       "      <td>0.0</td>\n",
       "      <td>0.083333</td>\n",
       "      <td>0.000000</td>\n",
       "      <td>1</td>\n",
       "      <td>205.788017</td>\n",
       "      <td>0.083333</td>\n",
       "      <td>1</td>\n",
       "      <td>7500.0</td>\n",
       "      <td>0.000000</td>\n",
       "      <td>NaN</td>\n",
       "      <td>0.000000</td>\n",
       "      <td>12</td>\n",
       "    </tr>\n",
       "    <tr>\n",
       "      <th>4</th>\n",
       "      <td>817.714335</td>\n",
       "      <td>1.000000</td>\n",
       "      <td>16.00</td>\n",
       "      <td>0.0</td>\n",
       "      <td>0.083333</td>\n",
       "      <td>0.000000</td>\n",
       "      <td>1</td>\n",
       "      <td>0.000000</td>\n",
       "      <td>0.000000</td>\n",
       "      <td>0</td>\n",
       "      <td>1200.0</td>\n",
       "      <td>678.334763</td>\n",
       "      <td>244.791237</td>\n",
       "      <td>0.000000</td>\n",
       "      <td>12</td>\n",
       "    </tr>\n",
       "  </tbody>\n",
       "</table>\n",
       "</div>"
      ],
      "text/plain": [
       "       BALANCE  BALANCE_FREQUENCY  ONEOFF_PURCHASES  INSTALLMENTS_PURCHASES  \\\n",
       "0    40.900749           0.818182              0.00                    95.4   \n",
       "1  3202.467416           0.909091              0.00                     0.0   \n",
       "2  2495.148862           1.000000            773.17                     0.0   \n",
       "3  1666.670542           0.636364           1499.00                     0.0   \n",
       "4   817.714335           1.000000             16.00                     0.0   \n",
       "\n",
       "   ONEOFF_PURCHASES_FREQUENCY  PURCHASES_INSTALLMENTS_FREQUENCY  \\\n",
       "0                    0.000000                          0.083333   \n",
       "1                    0.000000                          0.000000   \n",
       "2                    1.000000                          0.000000   \n",
       "3                    0.083333                          0.000000   \n",
       "4                    0.083333                          0.000000   \n",
       "\n",
       "   PURCHASES_TRX  CASH_ADVANCE  CASH_ADVANCE_FREQUENCY  CASH_ADVANCE_TRX  \\\n",
       "0              2      0.000000                0.000000                 0   \n",
       "1              0   6442.945483                0.250000                 4   \n",
       "2             12      0.000000                0.000000                 0   \n",
       "3              1    205.788017                0.083333                 1   \n",
       "4              1      0.000000                0.000000                 0   \n",
       "\n",
       "   CREDIT_LIMIT     PAYMENTS  MINIMUM_PAYMENTS  PRC_FULL_PAYMENT  TENURE  \n",
       "0        1000.0   201.802084        139.509787          0.000000      12  \n",
       "1        7000.0  4103.032597       1072.340217          0.222222      12  \n",
       "2        7500.0   622.066742        627.284787          0.000000      12  \n",
       "3        7500.0     0.000000               NaN          0.000000      12  \n",
       "4        1200.0   678.334763        244.791237          0.000000      12  "
      ]
     },
     "execution_count": 99,
     "metadata": {},
     "output_type": "execute_result"
    }
   ],
   "source": [
    "print(df.info())\n",
    "df.head()"
   ]
  },
  {
   "cell_type": "markdown",
   "metadata": {},
   "source": [
    "All columns have the correct data type."
   ]
  },
  {
   "cell_type": "code",
   "execution_count": 100,
   "metadata": {
    "scrolled": false
   },
   "outputs": [
    {
     "data": {
      "text/plain": [
       "BALANCE                              2.393386\n",
       "BALANCE_FREQUENCY                   -2.023266\n",
       "ONEOFF_PURCHASES                    10.045083\n",
       "INSTALLMENTS_PURCHASES               7.299120\n",
       "ONEOFF_PURCHASES_FREQUENCY           1.535613\n",
       "PURCHASES_INSTALLMENTS_FREQUENCY     0.509201\n",
       "PURCHASES_TRX                        4.630655\n",
       "CASH_ADVANCE                         5.166609\n",
       "CASH_ADVANCE_FREQUENCY               1.828686\n",
       "CASH_ADVANCE_TRX                     5.721298\n",
       "CREDIT_LIMIT                         1.522464\n",
       "PAYMENTS                             5.907620\n",
       "MINIMUM_PAYMENTS                    13.622797\n",
       "PRC_FULL_PAYMENT                     1.942820\n",
       "TENURE                              -2.943017\n",
       "dtype: float64"
      ]
     },
     "execution_count": 100,
     "metadata": {},
     "output_type": "execute_result"
    }
   ],
   "source": [
    "df.skew(axis=0, skipna=True)"
   ]
  },
  {
   "cell_type": "markdown",
   "metadata": {},
   "source": [
    "The columns ONEOFF_PURCHASES, INSTALLMENTS_PURCHASES and MINIMUM_PAYMENTS have very skewed distributions.<br>\n",
    "It seems like that the customers have very different purchasing and paying power."
   ]
  },
  {
   "cell_type": "code",
   "execution_count": 101,
   "metadata": {},
   "outputs": [
    {
     "data": {
      "text/plain": [
       "<Figure size 432x288 with 0 Axes>"
      ]
     },
     "metadata": {},
     "output_type": "display_data"
    },
    {
     "data": {
      "image/png": "[encoded data removed]",
      "text/plain": [
       "<Figure size 720x72 with 1 Axes>"
      ]
     },
     "metadata": {
      "needs_background": "light"
     },
     "output_type": "display_data"
    },
    {
     "data": {
      "image/png": "[encoded data removed]",
      "text/plain": [
       "<Figure size 720x72 with 1 Axes>"
      ]
     },
     "metadata": {
      "needs_background": "light"
     },
     "output_type": "display_data"
    },
    {
     "data": {
      "image/png": "[encoded data removed]",
      "text/plain": [
       "<Figure size 720x72 with 1 Axes>"
      ]
     },
     "metadata": {
      "needs_background": "light"
     },
     "output_type": "display_data"
    },
    {
     "data": {
      "image/png": "[encoded data removed]",
      "text/plain": [
       "<Figure size 720x72 with 1 Axes>"
      ]
     },
     "metadata": {
      "needs_background": "light"
     },
     "output_type": "display_data"
    },
    {
     "data": {
      "image/png": "[encoded data removed]",
      "text/plain": [
       "<Figure size 720x72 with 1 Axes>"
      ]
     },
     "metadata": {
      "needs_background": "light"
     },
     "output_type": "display_data"
    },
    {
     "data": {
      "image/png": "[encoded data removed]",
      "text/plain": [
       "<Figure size 720x72 with 1 Axes>"
      ]
     },
     "metadata": {
      "needs_background": "light"
     },
     "output_type": "display_data"
    },
    {
     "data": {
      "image/png": "[encoded data removed]",
      "text/plain": [
       "<Figure size 720x72 with 1 Axes>"
      ]
     },
     "metadata": {
      "needs_background": "light"
     },
     "output_type": "display_data"
    },
    {
     "data": {
      "image/png": "[encoded data removed]",
      "text/plain": [
       "<Figure size 720x72 with 1 Axes>"
      ]
     },
     "metadata": {
      "needs_background": "light"
     },
     "output_type": "display_data"
    },
    {
     "data": {
      "image/png": "[encoded data removed]",
      "text/plain": [
       "<Figure size 720x72 with 1 Axes>"
      ]
     },
     "metadata": {
      "needs_background": "light"
     },
     "output_type": "display_data"
    },
    {
     "data": {
      "image/png": "[encoded data removed]",
      "text/plain": [
       "<Figure size 720x72 with 1 Axes>"
      ]
     },
     "metadata": {
      "needs_background": "light"
     },
     "output_type": "display_data"
    },
    {
     "data": {
      "image/png": "[encoded data removed]",
      "text/plain": [
       "<Figure size 720x72 with 1 Axes>"
      ]
     },
     "metadata": {
      "needs_background": "light"
     },
     "output_type": "display_data"
    },
    {
     "data": {
      "image/png": "[encoded data removed]",
      "text/plain": [
       "<Figure size 720x72 with 1 Axes>"
      ]
     },
     "metadata": {
      "needs_background": "light"
     },
     "output_type": "display_data"
    },
    {
     "data": {
      "image/png": "[encoded data removed]",
      "text/plain": [
       "<Figure size 720x72 with 1 Axes>"
      ]
     },
     "metadata": {
      "needs_background": "light"
     },
     "output_type": "display_data"
    },
    {
     "data": {
      "image/png": "[encoded data removed]",
      "text/plain": [
       "<Figure size 720x72 with 1 Axes>"
      ]
     },
     "metadata": {
      "needs_background": "light"
     },
     "output_type": "display_data"
    },
    {
     "data": {
      "image/png": "[encoded data removed]",
      "text/plain": [
       "<Figure size 720x72 with 1 Axes>"
      ]
     },
     "metadata": {
      "needs_background": "light"
     },
     "output_type": "display_data"
    }
   ],
   "source": [
    "for i, col in enumerate(cols):\n",
    "    plt.figure(i)\n",
    "    plt.figure(figsize=(10,1))\n",
    "    ax = sns.boxplot(x=df[col],orient=\"h\")"
   ]
  },
  {
   "cell_type": "markdown",
   "metadata": {},
   "source": [
    "Plotting the bar charts of each column confirms that the columns ONEOFF_PURCHASES, INSTALLMENTS_PURCHASES and MINIMUM_PAYMENTS have very skewed distributions.<br>\n",
    "The bar chart of TENURE shows that it has only 6 values and is like a categorical variable. Moreover, most customers have a tenure of 12 months."
   ]
  },
  {
   "cell_type": "markdown",
   "metadata": {},
   "source": [
    "<h3>1.5 Fill Null Values</h3><br>\n",
    "<Ul>\n",
    "    <li>Since the column CREDIT_LIMIT has only one null value, filling it with the mean value of CREDIT_LIMIT will not affect this column much</li>\n",
    "    <li>Similarly, fill the column MINIMUM_PAYMENTS with the mean value of MINIMUM_PAYMENTS.</li>\n",
    "</Ul>"
   ]
  },
  {
   "cell_type": "code",
   "execution_count": 102,
   "metadata": {},
   "outputs": [],
   "source": [
    "df_filled = df.copy()\n",
    "df_filled.CREDIT_LIMIT = df_filled.CREDIT_LIMIT.fillna(value=df.CREDIT_LIMIT.mean())\n",
    "df_filled.MINIMUM_PAYMENTS = df_filled.MINIMUM_PAYMENTS.fillna(value=df.MINIMUM_PAYMENTS.mean())"
   ]
  },
  {
   "cell_type": "markdown",
   "metadata": {},
   "source": [
    "<br>\n",
    "<br>\n",
    "<h2>Part2. Preparation for K-Means Cluster Analysis</h2>"
   ]
  },
  {
   "cell_type": "markdown",
   "metadata": {},
   "source": [
    "<br>\n",
    "<h3>2.1 Check Correlation of the Columns</h3><br>"
   ]
  },
  {
   "cell_type": "code",
   "execution_count": 103,
   "metadata": {},
   "outputs": [
    {
     "data": {
      "text/plain": [
       "<matplotlib.axes._subplots.AxesSubplot at 0x124ece4bd08>"
      ]
     },
     "execution_count": 103,
     "metadata": {},
     "output_type": "execute_result"
    },
    {
     "data": {
      "image/png": "[encoded data removed]",
      "text/plain": [
       "<Figure size 1152x720 with 2 Axes>"
      ]
     },
     "metadata": {
      "needs_background": "light"
     },
     "output_type": "display_data"
    }
   ],
   "source": [
    "cmap = sns.diverging_palette(600, 10, as_cmap=True)\n",
    "plt.figure(figsize=(16,10))\n",
    "sns.heatmap(df_filled.corr(), cmap=cmap, square=True, linewidths=0.5, annot=True)"
   ]
  },
  {
   "cell_type": "markdown",
   "metadata": {},
   "source": [
    "The columns INSTALLMENTS_PURCHASES and PURCHASES_TRX have the highest correlation. However, this might be a false correlationas the amount of purchase is not necessarily related to the number of purchases.<br>\n",
    "However, CASH_ADVANCE_TRX has a high correlation with CASH_ADVANCE_FREQUENCY. One of them can be dropped.<br>\n",
    "Here, CASH_ADVANCE_TRX is dropped since CASH_ADVANCE_FREQUENCY is an already normalized column."
   ]
  },
  {
   "cell_type": "code",
   "execution_count": 104,
   "metadata": {},
   "outputs": [],
   "source": [
    "cols = cols.remove('CASH_ADVANCE_TRX')\n",
    "df_filled = df_filled.drop('CASH_ADVANCE_TRX',axis=1)"
   ]
  },
  {
   "cell_type": "markdown",
   "metadata": {},
   "source": [
    "<br>\n",
    "<h3>2.2 Trial 1: K-Means Cluster Analysis without Normalizing</h3><br>"
   ]
  },
  {
   "cell_type": "markdown",
   "metadata": {},
   "source": [
    "this can be deleted"
   ]
  },
  {
   "cell_type": "markdown",
   "metadata": {},
   "source": [
    "1 or 2 outliers: drop\n",
    "more outliers: normalize"
   ]
  },
  {
   "cell_type": "markdown",
   "metadata": {},
   "source": [
    "<h4>Minimize Cluster Inertia</h4>"
   ]
  },
  {
   "cell_type": "code",
   "execution_count": 105,
   "metadata": {
    "scrolled": false
   },
   "outputs": [
    {
     "data": {
      "text/plain": [
       "[<matplotlib.lines.Line2D at 0x124ed7f43c8>]"
      ]
     },
     "execution_count": 105,
     "metadata": {},
     "output_type": "execute_result"
    },
    {
     "data": {
      "image/png": "[encoded data removed]",
      "text/plain": [
       "<Figure size 1080x576 with 1 Axes>"
      ]
     },
     "metadata": {
      "needs_background": "light"
     },
     "output_type": "display_data"
    }
   ],
   "source": [
    "kmeans_inertia = []\n",
    "for i in range(5,16):\n",
    "    kmeans = KMeans(n_clusters=i,random_state=50)\n",
    "    kmeans.fit(df_filled)\n",
    "    kmeans_inertia.append(kmeans.inertia_)\n",
    "plt.figure(figsize=(15,8))\n",
    "plt.plot(range(5,16), kmeans_inertia, marker='o', linestyle='--')"
   ]
  },
  {
   "cell_type": "markdown",
   "metadata": {},
   "source": [
    "10 clusters seems to be a good number for the unnormalized dataset."
   ]
  },
  {
   "cell_type": "markdown",
   "metadata": {},
   "source": [
    "<h4>K-Means Cluster Analysis</h4>"
   ]
  },
  {
   "cell_type": "code",
   "execution_count": 150,
   "metadata": {},
   "outputs": [
    {
     "data": {
      "text/plain": [
       "KMeans(algorithm='auto', copy_x=True, init='k-means++', max_iter=300,\n",
       "       n_clusters=10, n_init=10, n_jobs=None, precompute_distances='auto',\n",
       "       random_state=50, tol=0.0001, verbose=0)"
      ]
     },
     "execution_count": 150,
     "metadata": {},
     "output_type": "execute_result"
    }
   ],
   "source": [
    "kmeans = KMeans(n_clusters=10,random_state=50)\n",
    "kmeans.fit(df_filled)"
   ]
  },
  {
   "cell_type": "markdown",
   "metadata": {},
   "source": [
    "<h4>Apply the Predicted Labels from K-Means</h4>"
   ]
  },
  {
   "cell_type": "code",
   "execution_count": 151,
   "metadata": {},
   "outputs": [],
   "source": [
    "df_filled['Segment'] = kmeans.predict(df_filled)"
   ]
  },
  {
   "cell_type": "markdown",
   "metadata": {},
   "source": [
    "<h4>Calculate the Mean of Each Column for Each Segment</h4>"
   ]
  },
  {
   "cell_type": "code",
   "execution_count": 157,
   "metadata": {},
   "outputs": [
    {
     "data": {
      "text/html": [
       "<style  type=\"text/css\" >\n",
       "    #T_7f7cae28_d6e7_11ea_8ed3_f06e0be3d7d1row0_col3 {\n",
       "            : ;\n",
       "            background-color:  #f5beb5;\n",
       "        }    #T_7f7cae28_d6e7_11ea_8ed3_f06e0be3d7d1row0_col4 {\n",
       "            background-color:  #b5f5bf;\n",
       "            : ;\n",
       "        }    #T_7f7cae28_d6e7_11ea_8ed3_f06e0be3d7d1row1_col3 {\n",
       "            : ;\n",
       "            background-color:  #f5beb5;\n",
       "        }    #T_7f7cae28_d6e7_11ea_8ed3_f06e0be3d7d1row1_col6 {\n",
       "            background-color:  #b5f5bf;\n",
       "            : ;\n",
       "        }    #T_7f7cae28_d6e7_11ea_8ed3_f06e0be3d7d1row2_col2 {\n",
       "            background-color:  #b5f5bf;\n",
       "            : ;\n",
       "        }    #T_7f7cae28_d6e7_11ea_8ed3_f06e0be3d7d1row2_col9 {\n",
       "            : ;\n",
       "            background-color:  #f5beb5;\n",
       "        }    #T_7f7cae28_d6e7_11ea_8ed3_f06e0be3d7d1row3_col2 {\n",
       "            background-color:  #b5f5bf;\n",
       "            : ;\n",
       "        }    #T_7f7cae28_d6e7_11ea_8ed3_f06e0be3d7d1row3_col9 {\n",
       "            : ;\n",
       "            background-color:  #f5beb5;\n",
       "        }    #T_7f7cae28_d6e7_11ea_8ed3_f06e0be3d7d1row4_col3 {\n",
       "            : ;\n",
       "            background-color:  #f5beb5;\n",
       "        }    #T_7f7cae28_d6e7_11ea_8ed3_f06e0be3d7d1row4_col5 {\n",
       "            background-color:  #b5f5bf;\n",
       "            : ;\n",
       "        }    #T_7f7cae28_d6e7_11ea_8ed3_f06e0be3d7d1row5_col5 {\n",
       "            background-color:  #b5f5bf;\n",
       "            : ;\n",
       "        }    #T_7f7cae28_d6e7_11ea_8ed3_f06e0be3d7d1row5_col7 {\n",
       "            : ;\n",
       "            background-color:  #f5beb5;\n",
       "        }    #T_7f7cae28_d6e7_11ea_8ed3_f06e0be3d7d1row6_col6 {\n",
       "            background-color:  #b5f5bf;\n",
       "            : ;\n",
       "        }    #T_7f7cae28_d6e7_11ea_8ed3_f06e0be3d7d1row6_col9 {\n",
       "            : ;\n",
       "            background-color:  #f5beb5;\n",
       "        }    #T_7f7cae28_d6e7_11ea_8ed3_f06e0be3d7d1row7_col5 {\n",
       "            background-color:  #b5f5bf;\n",
       "            : ;\n",
       "        }    #T_7f7cae28_d6e7_11ea_8ed3_f06e0be3d7d1row7_col6 {\n",
       "            : ;\n",
       "            background-color:  #f5beb5;\n",
       "        }    #T_7f7cae28_d6e7_11ea_8ed3_f06e0be3d7d1row8_col5 {\n",
       "            background-color:  #b5f5bf;\n",
       "            : ;\n",
       "        }    #T_7f7cae28_d6e7_11ea_8ed3_f06e0be3d7d1row8_col6 {\n",
       "            : ;\n",
       "            background-color:  #f5beb5;\n",
       "        }    #T_7f7cae28_d6e7_11ea_8ed3_f06e0be3d7d1row9_col3 {\n",
       "            : ;\n",
       "            background-color:  #f5beb5;\n",
       "        }    #T_7f7cae28_d6e7_11ea_8ed3_f06e0be3d7d1row9_col5 {\n",
       "            background-color:  #b5f5bf;\n",
       "            : ;\n",
       "        }    #T_7f7cae28_d6e7_11ea_8ed3_f06e0be3d7d1row10_col4 {\n",
       "            : ;\n",
       "            background-color:  #f5beb5;\n",
       "        }    #T_7f7cae28_d6e7_11ea_8ed3_f06e0be3d7d1row10_col5 {\n",
       "            background-color:  #b5f5bf;\n",
       "            : ;\n",
       "        }    #T_7f7cae28_d6e7_11ea_8ed3_f06e0be3d7d1row10_col6 {\n",
       "            : ;\n",
       "            background-color:  #f5beb5;\n",
       "        }    #T_7f7cae28_d6e7_11ea_8ed3_f06e0be3d7d1row10_col8 {\n",
       "            : ;\n",
       "            background-color:  #f5beb5;\n",
       "        }    #T_7f7cae28_d6e7_11ea_8ed3_f06e0be3d7d1row11_col5 {\n",
       "            background-color:  #b5f5bf;\n",
       "            : ;\n",
       "        }    #T_7f7cae28_d6e7_11ea_8ed3_f06e0be3d7d1row11_col7 {\n",
       "            : ;\n",
       "            background-color:  #f5beb5;\n",
       "        }    #T_7f7cae28_d6e7_11ea_8ed3_f06e0be3d7d1row12_col3 {\n",
       "            : ;\n",
       "            background-color:  #f5beb5;\n",
       "        }    #T_7f7cae28_d6e7_11ea_8ed3_f06e0be3d7d1row12_col5 {\n",
       "            background-color:  #b5f5bf;\n",
       "            : ;\n",
       "        }    #T_7f7cae28_d6e7_11ea_8ed3_f06e0be3d7d1row13_col3 {\n",
       "            : ;\n",
       "            background-color:  #f5beb5;\n",
       "        }    #T_7f7cae28_d6e7_11ea_8ed3_f06e0be3d7d1row13_col6 {\n",
       "            background-color:  #b5f5bf;\n",
       "            : ;\n",
       "        }    #T_7f7cae28_d6e7_11ea_8ed3_f06e0be3d7d1row14_col3 {\n",
       "            background-color:  #b5f5bf;\n",
       "            : ;\n",
       "        }    #T_7f7cae28_d6e7_11ea_8ed3_f06e0be3d7d1row14_col6 {\n",
       "            : ;\n",
       "            background-color:  #f5beb5;\n",
       "        }</style><table id=\"T_7f7cae28_d6e7_11ea_8ed3_f06e0be3d7d1\" ><thead>    <tr>        <th class=\"index_name level0\" >Segment</th>        <th class=\"col_heading level0 col0\" >0</th>        <th class=\"col_heading level0 col1\" >1</th>        <th class=\"col_heading level0 col2\" >2</th>        <th class=\"col_heading level0 col3\" >3</th>        <th class=\"col_heading level0 col4\" >4</th>        <th class=\"col_heading level0 col5\" >5</th>        <th class=\"col_heading level0 col6\" >6</th>        <th class=\"col_heading level0 col7\" >7</th>        <th class=\"col_heading level0 col8\" >8</th>        <th class=\"col_heading level0 col9\" >9</th>    </tr></thead><tbody>\n",
       "                <tr>\n",
       "                        <th id=\"T_7f7cae28_d6e7_11ea_8ed3_f06e0be3d7d1level0_row0\" class=\"row_heading level0 row0\" >BALANCE</th>\n",
       "                        <td id=\"T_7f7cae28_d6e7_11ea_8ed3_f06e0be3d7d1row0_col0\" class=\"data row0 col0\" >2082.62</td>\n",
       "                        <td id=\"T_7f7cae28_d6e7_11ea_8ed3_f06e0be3d7d1row0_col1\" class=\"data row0 col1\" >1546.32</td>\n",
       "                        <td id=\"T_7f7cae28_d6e7_11ea_8ed3_f06e0be3d7d1row0_col2\" class=\"data row0 col2\" >5241.89</td>\n",
       "                        <td id=\"T_7f7cae28_d6e7_11ea_8ed3_f06e0be3d7d1row0_col3\" class=\"data row0 col3\" >760.41</td>\n",
       "                        <td id=\"T_7f7cae28_d6e7_11ea_8ed3_f06e0be3d7d1row0_col4\" class=\"data row0 col4\" >8360.92</td>\n",
       "                        <td id=\"T_7f7cae28_d6e7_11ea_8ed3_f06e0be3d7d1row0_col5\" class=\"data row0 col5\" >5989.39</td>\n",
       "                        <td id=\"T_7f7cae28_d6e7_11ea_8ed3_f06e0be3d7d1row0_col6\" class=\"data row0 col6\" >6674.08</td>\n",
       "                        <td id=\"T_7f7cae28_d6e7_11ea_8ed3_f06e0be3d7d1row0_col7\" class=\"data row0 col7\" >3924.89</td>\n",
       "                        <td id=\"T_7f7cae28_d6e7_11ea_8ed3_f06e0be3d7d1row0_col8\" class=\"data row0 col8\" >3308.57</td>\n",
       "                        <td id=\"T_7f7cae28_d6e7_11ea_8ed3_f06e0be3d7d1row0_col9\" class=\"data row0 col9\" >807.63</td>\n",
       "            </tr>\n",
       "            <tr>\n",
       "                        <th id=\"T_7f7cae28_d6e7_11ea_8ed3_f06e0be3d7d1level0_row1\" class=\"row_heading level0 row1\" >BALANCE_FREQUENCY</th>\n",
       "                        <td id=\"T_7f7cae28_d6e7_11ea_8ed3_f06e0be3d7d1row1_col0\" class=\"data row1 col0\" >0.92</td>\n",
       "                        <td id=\"T_7f7cae28_d6e7_11ea_8ed3_f06e0be3d7d1row1_col1\" class=\"data row1 col1\" >0.88</td>\n",
       "                        <td id=\"T_7f7cae28_d6e7_11ea_8ed3_f06e0be3d7d1row1_col2\" class=\"data row1 col2\" >0.89</td>\n",
       "                        <td id=\"T_7f7cae28_d6e7_11ea_8ed3_f06e0be3d7d1row1_col3\" class=\"data row1 col3\" >0.85</td>\n",
       "                        <td id=\"T_7f7cae28_d6e7_11ea_8ed3_f06e0be3d7d1row1_col4\" class=\"data row1 col4\" >0.99</td>\n",
       "                        <td id=\"T_7f7cae28_d6e7_11ea_8ed3_f06e0be3d7d1row1_col5\" class=\"data row1 col5\" >0.96</td>\n",
       "                        <td id=\"T_7f7cae28_d6e7_11ea_8ed3_f06e0be3d7d1row1_col6\" class=\"data row1 col6\" >1.00</td>\n",
       "                        <td id=\"T_7f7cae28_d6e7_11ea_8ed3_f06e0be3d7d1row1_col7\" class=\"data row1 col7\" >0.97</td>\n",
       "                        <td id=\"T_7f7cae28_d6e7_11ea_8ed3_f06e0be3d7d1row1_col8\" class=\"data row1 col8\" >0.99</td>\n",
       "                        <td id=\"T_7f7cae28_d6e7_11ea_8ed3_f06e0be3d7d1row1_col9\" class=\"data row1 col9\" >0.87</td>\n",
       "            </tr>\n",
       "            <tr>\n",
       "                        <th id=\"T_7f7cae28_d6e7_11ea_8ed3_f06e0be3d7d1level0_row2\" class=\"row_heading level0 row2\" >CASH_ADVANCE</th>\n",
       "                        <td id=\"T_7f7cae28_d6e7_11ea_8ed3_f06e0be3d7d1row2_col0\" class=\"data row2 col0\" >1504.68</td>\n",
       "                        <td id=\"T_7f7cae28_d6e7_11ea_8ed3_f06e0be3d7d1row2_col1\" class=\"data row2 col1\" >401.46</td>\n",
       "                        <td id=\"T_7f7cae28_d6e7_11ea_8ed3_f06e0be3d7d1row2_col2\" class=\"data row2 col2\" >11292.90</td>\n",
       "                        <td id=\"T_7f7cae28_d6e7_11ea_8ed3_f06e0be3d7d1row2_col3\" class=\"data row2 col3\" >431.30</td>\n",
       "                        <td id=\"T_7f7cae28_d6e7_11ea_8ed3_f06e0be3d7d1row2_col4\" class=\"data row2 col4\" >3851.40</td>\n",
       "                        <td id=\"T_7f7cae28_d6e7_11ea_8ed3_f06e0be3d7d1row2_col5\" class=\"data row2 col5\" >1567.81</td>\n",
       "                        <td id=\"T_7f7cae28_d6e7_11ea_8ed3_f06e0be3d7d1row2_col6\" class=\"data row2 col6\" >1008.55</td>\n",
       "                        <td id=\"T_7f7cae28_d6e7_11ea_8ed3_f06e0be3d7d1row2_col7\" class=\"data row2 col7\" >3094.77</td>\n",
       "                        <td id=\"T_7f7cae28_d6e7_11ea_8ed3_f06e0be3d7d1row2_col8\" class=\"data row2 col8\" >874.25</td>\n",
       "                        <td id=\"T_7f7cae28_d6e7_11ea_8ed3_f06e0be3d7d1row2_col9\" class=\"data row2 col9\" >188.58</td>\n",
       "            </tr>\n",
       "            <tr>\n",
       "                        <th id=\"T_7f7cae28_d6e7_11ea_8ed3_f06e0be3d7d1level0_row3\" class=\"row_heading level0 row3\" >CASH_ADVANCE_FREQUENCY</th>\n",
       "                        <td id=\"T_7f7cae28_d6e7_11ea_8ed3_f06e0be3d7d1row3_col0\" class=\"data row3 col0\" >0.15</td>\n",
       "                        <td id=\"T_7f7cae28_d6e7_11ea_8ed3_f06e0be3d7d1row3_col1\" class=\"data row3 col1\" >0.06</td>\n",
       "                        <td id=\"T_7f7cae28_d6e7_11ea_8ed3_f06e0be3d7d1row3_col2\" class=\"data row3 col2\" >0.51</td>\n",
       "                        <td id=\"T_7f7cae28_d6e7_11ea_8ed3_f06e0be3d7d1row3_col3\" class=\"data row3 col3\" >0.11</td>\n",
       "                        <td id=\"T_7f7cae28_d6e7_11ea_8ed3_f06e0be3d7d1row3_col4\" class=\"data row3 col4\" >0.35</td>\n",
       "                        <td id=\"T_7f7cae28_d6e7_11ea_8ed3_f06e0be3d7d1row3_col5\" class=\"data row3 col5\" >0.07</td>\n",
       "                        <td id=\"T_7f7cae28_d6e7_11ea_8ed3_f06e0be3d7d1row3_col6\" class=\"data row3 col6\" >0.06</td>\n",
       "                        <td id=\"T_7f7cae28_d6e7_11ea_8ed3_f06e0be3d7d1row3_col7\" class=\"data row3 col7\" >0.35</td>\n",
       "                        <td id=\"T_7f7cae28_d6e7_11ea_8ed3_f06e0be3d7d1row3_col8\" class=\"data row3 col8\" >0.11</td>\n",
       "                        <td id=\"T_7f7cae28_d6e7_11ea_8ed3_f06e0be3d7d1row3_col9\" class=\"data row3 col9\" >0.05</td>\n",
       "            </tr>\n",
       "            <tr>\n",
       "                        <th id=\"T_7f7cae28_d6e7_11ea_8ed3_f06e0be3d7d1level0_row4\" class=\"row_heading level0 row4\" >CREDIT_LIMIT</th>\n",
       "                        <td id=\"T_7f7cae28_d6e7_11ea_8ed3_f06e0be3d7d1row4_col0\" class=\"data row4 col0\" >7168.84</td>\n",
       "                        <td id=\"T_7f7cae28_d6e7_11ea_8ed3_f06e0be3d7d1row4_col1\" class=\"data row4 col1\" >12470.61</td>\n",
       "                        <td id=\"T_7f7cae28_d6e7_11ea_8ed3_f06e0be3d7d1row4_col2\" class=\"data row4 col2\" >10621.03</td>\n",
       "                        <td id=\"T_7f7cae28_d6e7_11ea_8ed3_f06e0be3d7d1row4_col3\" class=\"data row4 col3\" >2048.54</td>\n",
       "                        <td id=\"T_7f7cae28_d6e7_11ea_8ed3_f06e0be3d7d1row4_col4\" class=\"data row4 col4\" >12370.63</td>\n",
       "                        <td id=\"T_7f7cae28_d6e7_11ea_8ed3_f06e0be3d7d1row4_col5\" class=\"data row4 col5\" >16460.00</td>\n",
       "                        <td id=\"T_7f7cae28_d6e7_11ea_8ed3_f06e0be3d7d1row4_col6\" class=\"data row4 col6\" >6457.14</td>\n",
       "                        <td id=\"T_7f7cae28_d6e7_11ea_8ed3_f06e0be3d7d1row4_col7\" class=\"data row4 col7\" >6085.52</td>\n",
       "                        <td id=\"T_7f7cae28_d6e7_11ea_8ed3_f06e0be3d7d1row4_col8\" class=\"data row4 col8\" >3504.79</td>\n",
       "                        <td id=\"T_7f7cae28_d6e7_11ea_8ed3_f06e0be3d7d1row4_col9\" class=\"data row4 col9\" >6264.28</td>\n",
       "            </tr>\n",
       "            <tr>\n",
       "                        <th id=\"T_7f7cae28_d6e7_11ea_8ed3_f06e0be3d7d1level0_row5\" class=\"row_heading level0 row5\" >INSTALLMENTS_PURCHASES</th>\n",
       "                        <td id=\"T_7f7cae28_d6e7_11ea_8ed3_f06e0be3d7d1row5_col0\" class=\"data row5 col0\" >1368.45</td>\n",
       "                        <td id=\"T_7f7cae28_d6e7_11ea_8ed3_f06e0be3d7d1row5_col1\" class=\"data row5 col1\" >697.98</td>\n",
       "                        <td id=\"T_7f7cae28_d6e7_11ea_8ed3_f06e0be3d7d1row5_col2\" class=\"data row5 col2\" >679.49</td>\n",
       "                        <td id=\"T_7f7cae28_d6e7_11ea_8ed3_f06e0be3d7d1row5_col3\" class=\"data row5 col3\" >257.78</td>\n",
       "                        <td id=\"T_7f7cae28_d6e7_11ea_8ed3_f06e0be3d7d1row5_col4\" class=\"data row5 col4\" >702.44</td>\n",
       "                        <td id=\"T_7f7cae28_d6e7_11ea_8ed3_f06e0be3d7d1row5_col5\" class=\"data row5 col5\" >5064.02</td>\n",
       "                        <td id=\"T_7f7cae28_d6e7_11ea_8ed3_f06e0be3d7d1row5_col6\" class=\"data row5 col6\" >1714.50</td>\n",
       "                        <td id=\"T_7f7cae28_d6e7_11ea_8ed3_f06e0be3d7d1row5_col7\" class=\"data row5 col7\" >238.44</td>\n",
       "                        <td id=\"T_7f7cae28_d6e7_11ea_8ed3_f06e0be3d7d1row5_col8\" class=\"data row5 col8\" >772.49</td>\n",
       "                        <td id=\"T_7f7cae28_d6e7_11ea_8ed3_f06e0be3d7d1row5_col9\" class=\"data row5 col9\" >520.66</td>\n",
       "            </tr>\n",
       "            <tr>\n",
       "                        <th id=\"T_7f7cae28_d6e7_11ea_8ed3_f06e0be3d7d1level0_row6\" class=\"row_heading level0 row6\" >MINIMUM_PAYMENTS</th>\n",
       "                        <td id=\"T_7f7cae28_d6e7_11ea_8ed3_f06e0be3d7d1row6_col0\" class=\"data row6 col0\" >917.75</td>\n",
       "                        <td id=\"T_7f7cae28_d6e7_11ea_8ed3_f06e0be3d7d1row6_col1\" class=\"data row6 col1\" >502.41</td>\n",
       "                        <td id=\"T_7f7cae28_d6e7_11ea_8ed3_f06e0be3d7d1row6_col2\" class=\"data row6 col2\" >2205.37</td>\n",
       "                        <td id=\"T_7f7cae28_d6e7_11ea_8ed3_f06e0be3d7d1row6_col3\" class=\"data row6 col3\" >492.94</td>\n",
       "                        <td id=\"T_7f7cae28_d6e7_11ea_8ed3_f06e0be3d7d1row6_col4\" class=\"data row6 col4\" >2865.17</td>\n",
       "                        <td id=\"T_7f7cae28_d6e7_11ea_8ed3_f06e0be3d7d1row6_col5\" class=\"data row6 col5\" >3327.14</td>\n",
       "                        <td id=\"T_7f7cae28_d6e7_11ea_8ed3_f06e0be3d7d1row6_col6\" class=\"data row6 col6\" >52620.43</td>\n",
       "                        <td id=\"T_7f7cae28_d6e7_11ea_8ed3_f06e0be3d7d1row6_col7\" class=\"data row6 col7\" >1447.89</td>\n",
       "                        <td id=\"T_7f7cae28_d6e7_11ea_8ed3_f06e0be3d7d1row6_col8\" class=\"data row6 col8\" >15746.50</td>\n",
       "                        <td id=\"T_7f7cae28_d6e7_11ea_8ed3_f06e0be3d7d1row6_col9\" class=\"data row6 col9\" >343.41</td>\n",
       "            </tr>\n",
       "            <tr>\n",
       "                        <th id=\"T_7f7cae28_d6e7_11ea_8ed3_f06e0be3d7d1level0_row7\" class=\"row_heading level0 row7\" >ONEOFF_PURCHASES</th>\n",
       "                        <td id=\"T_7f7cae28_d6e7_11ea_8ed3_f06e0be3d7d1row7_col0\" class=\"data row7 col0\" >3121.29</td>\n",
       "                        <td id=\"T_7f7cae28_d6e7_11ea_8ed3_f06e0be3d7d1row7_col1\" class=\"data row7 col1\" >1183.57</td>\n",
       "                        <td id=\"T_7f7cae28_d6e7_11ea_8ed3_f06e0be3d7d1row7_col2\" class=\"data row7 col2\" >761.07</td>\n",
       "                        <td id=\"T_7f7cae28_d6e7_11ea_8ed3_f06e0be3d7d1row7_col3\" class=\"data row7 col3\" >240.74</td>\n",
       "                        <td id=\"T_7f7cae28_d6e7_11ea_8ed3_f06e0be3d7d1row7_col4\" class=\"data row7 col4\" >1055.68</td>\n",
       "                        <td id=\"T_7f7cae28_d6e7_11ea_8ed3_f06e0be3d7d1row7_col5\" class=\"data row7 col5\" >20749.78</td>\n",
       "                        <td id=\"T_7f7cae28_d6e7_11ea_8ed3_f06e0be3d7d1row7_col6\" class=\"data row7 col6\" >0.00</td>\n",
       "                        <td id=\"T_7f7cae28_d6e7_11ea_8ed3_f06e0be3d7d1row7_col7\" class=\"data row7 col7\" >332.06</td>\n",
       "                        <td id=\"T_7f7cae28_d6e7_11ea_8ed3_f06e0be3d7d1row7_col8\" class=\"data row7 col8\" >151.03</td>\n",
       "                        <td id=\"T_7f7cae28_d6e7_11ea_8ed3_f06e0be3d7d1row7_col9\" class=\"data row7 col9\" >691.81</td>\n",
       "            </tr>\n",
       "            <tr>\n",
       "                        <th id=\"T_7f7cae28_d6e7_11ea_8ed3_f06e0be3d7d1level0_row8\" class=\"row_heading level0 row8\" >ONEOFF_PURCHASES_FREQUENCY</th>\n",
       "                        <td id=\"T_7f7cae28_d6e7_11ea_8ed3_f06e0be3d7d1row8_col0\" class=\"data row8 col0\" >0.52</td>\n",
       "                        <td id=\"T_7f7cae28_d6e7_11ea_8ed3_f06e0be3d7d1row8_col1\" class=\"data row8 col1\" >0.42</td>\n",
       "                        <td id=\"T_7f7cae28_d6e7_11ea_8ed3_f06e0be3d7d1row8_col2\" class=\"data row8 col2\" >0.19</td>\n",
       "                        <td id=\"T_7f7cae28_d6e7_11ea_8ed3_f06e0be3d7d1row8_col3\" class=\"data row8 col3\" >0.13</td>\n",
       "                        <td id=\"T_7f7cae28_d6e7_11ea_8ed3_f06e0be3d7d1row8_col4\" class=\"data row8 col4\" >0.26</td>\n",
       "                        <td id=\"T_7f7cae28_d6e7_11ea_8ed3_f06e0be3d7d1row8_col5\" class=\"data row8 col5\" >0.80</td>\n",
       "                        <td id=\"T_7f7cae28_d6e7_11ea_8ed3_f06e0be3d7d1row8_col6\" class=\"data row8 col6\" >0.00</td>\n",
       "                        <td id=\"T_7f7cae28_d6e7_11ea_8ed3_f06e0be3d7d1row8_col7\" class=\"data row8 col7\" >0.15</td>\n",
       "                        <td id=\"T_7f7cae28_d6e7_11ea_8ed3_f06e0be3d7d1row8_col8\" class=\"data row8 col8\" >0.04</td>\n",
       "                        <td id=\"T_7f7cae28_d6e7_11ea_8ed3_f06e0be3d7d1row8_col9\" class=\"data row8 col9\" >0.32</td>\n",
       "            </tr>\n",
       "            <tr>\n",
       "                        <th id=\"T_7f7cae28_d6e7_11ea_8ed3_f06e0be3d7d1level0_row9\" class=\"row_heading level0 row9\" >PAYMENTS</th>\n",
       "                        <td id=\"T_7f7cae28_d6e7_11ea_8ed3_f06e0be3d7d1row9_col0\" class=\"data row9 col0\" >7464.59</td>\n",
       "                        <td id=\"T_7f7cae28_d6e7_11ea_8ed3_f06e0be3d7d1row9_col1\" class=\"data row9 col1\" >2054.32</td>\n",
       "                        <td id=\"T_7f7cae28_d6e7_11ea_8ed3_f06e0be3d7d1row9_col2\" class=\"data row9 col2\" >15128.66</td>\n",
       "                        <td id=\"T_7f7cae28_d6e7_11ea_8ed3_f06e0be3d7d1row9_col3\" class=\"data row9 col3\" >847.55</td>\n",
       "                        <td id=\"T_7f7cae28_d6e7_11ea_8ed3_f06e0be3d7d1row9_col4\" class=\"data row9 col4\" >2998.30</td>\n",
       "                        <td id=\"T_7f7cae28_d6e7_11ea_8ed3_f06e0be3d7d1row9_col5\" class=\"data row9 col5\" >28721.46</td>\n",
       "                        <td id=\"T_7f7cae28_d6e7_11ea_8ed3_f06e0be3d7d1row9_col6\" class=\"data row9 col6\" >2169.65</td>\n",
       "                        <td id=\"T_7f7cae28_d6e7_11ea_8ed3_f06e0be3d7d1row9_col7\" class=\"data row9 col7\" >1979.25</td>\n",
       "                        <td id=\"T_7f7cae28_d6e7_11ea_8ed3_f06e0be3d7d1row9_col8\" class=\"data row9 col8\" >1326.34</td>\n",
       "                        <td id=\"T_7f7cae28_d6e7_11ea_8ed3_f06e0be3d7d1row9_col9\" class=\"data row9 col9\" >1350.61</td>\n",
       "            </tr>\n",
       "            <tr>\n",
       "                        <th id=\"T_7f7cae28_d6e7_11ea_8ed3_f06e0be3d7d1level0_row10\" class=\"row_heading level0 row10\" >PRC_FULL_PAYMENT</th>\n",
       "                        <td id=\"T_7f7cae28_d6e7_11ea_8ed3_f06e0be3d7d1row10_col0\" class=\"data row10 col0\" >0.29</td>\n",
       "                        <td id=\"T_7f7cae28_d6e7_11ea_8ed3_f06e0be3d7d1row10_col1\" class=\"data row10 col1\" >0.28</td>\n",
       "                        <td id=\"T_7f7cae28_d6e7_11ea_8ed3_f06e0be3d7d1row10_col2\" class=\"data row10 col2\" >0.14</td>\n",
       "                        <td id=\"T_7f7cae28_d6e7_11ea_8ed3_f06e0be3d7d1row10_col3\" class=\"data row10 col3\" >0.14</td>\n",
       "                        <td id=\"T_7f7cae28_d6e7_11ea_8ed3_f06e0be3d7d1row10_col4\" class=\"data row10 col4\" >0.00</td>\n",
       "                        <td id=\"T_7f7cae28_d6e7_11ea_8ed3_f06e0be3d7d1row10_col5\" class=\"data row10 col5\" >0.46</td>\n",
       "                        <td id=\"T_7f7cae28_d6e7_11ea_8ed3_f06e0be3d7d1row10_col6\" class=\"data row10 col6\" >0.00</td>\n",
       "                        <td id=\"T_7f7cae28_d6e7_11ea_8ed3_f06e0be3d7d1row10_col7\" class=\"data row10 col7\" >0.01</td>\n",
       "                        <td id=\"T_7f7cae28_d6e7_11ea_8ed3_f06e0be3d7d1row10_col8\" class=\"data row10 col8\" >0.00</td>\n",
       "                        <td id=\"T_7f7cae28_d6e7_11ea_8ed3_f06e0be3d7d1row10_col9\" class=\"data row10 col9\" >0.23</td>\n",
       "            </tr>\n",
       "            <tr>\n",
       "                        <th id=\"T_7f7cae28_d6e7_11ea_8ed3_f06e0be3d7d1level0_row11\" class=\"row_heading level0 row11\" >PURCHASES_INSTALLMENTS_FREQUENCY</th>\n",
       "                        <td id=\"T_7f7cae28_d6e7_11ea_8ed3_f06e0be3d7d1row11_col0\" class=\"data row11 col0\" >0.54</td>\n",
       "                        <td id=\"T_7f7cae28_d6e7_11ea_8ed3_f06e0be3d7d1row11_col1\" class=\"data row11 col1\" >0.45</td>\n",
       "                        <td id=\"T_7f7cae28_d6e7_11ea_8ed3_f06e0be3d7d1row11_col2\" class=\"data row11 col2\" >0.25</td>\n",
       "                        <td id=\"T_7f7cae28_d6e7_11ea_8ed3_f06e0be3d7d1row11_col3\" class=\"data row11 col3\" >0.35</td>\n",
       "                        <td id=\"T_7f7cae28_d6e7_11ea_8ed3_f06e0be3d7d1row11_col4\" class=\"data row11 col4\" >0.36</td>\n",
       "                        <td id=\"T_7f7cae28_d6e7_11ea_8ed3_f06e0be3d7d1row11_col5\" class=\"data row11 col5\" >0.73</td>\n",
       "                        <td id=\"T_7f7cae28_d6e7_11ea_8ed3_f06e0be3d7d1row11_col6\" class=\"data row11 col6\" >0.57</td>\n",
       "                        <td id=\"T_7f7cae28_d6e7_11ea_8ed3_f06e0be3d7d1row11_col7\" class=\"data row11 col7\" >0.22</td>\n",
       "                        <td id=\"T_7f7cae28_d6e7_11ea_8ed3_f06e0be3d7d1row11_col8\" class=\"data row11 col8\" >0.44</td>\n",
       "                        <td id=\"T_7f7cae28_d6e7_11ea_8ed3_f06e0be3d7d1row11_col9\" class=\"data row11 col9\" >0.44</td>\n",
       "            </tr>\n",
       "            <tr>\n",
       "                        <th id=\"T_7f7cae28_d6e7_11ea_8ed3_f06e0be3d7d1level0_row12\" class=\"row_heading level0 row12\" >PURCHASES_TRX</th>\n",
       "                        <td id=\"T_7f7cae28_d6e7_11ea_8ed3_f06e0be3d7d1row12_col0\" class=\"data row12 col0\" >50.81</td>\n",
       "                        <td id=\"T_7f7cae28_d6e7_11ea_8ed3_f06e0be3d7d1row12_col1\" class=\"data row12 col1\" >23.83</td>\n",
       "                        <td id=\"T_7f7cae28_d6e7_11ea_8ed3_f06e0be3d7d1row12_col2\" class=\"data row12 col2\" >19.34</td>\n",
       "                        <td id=\"T_7f7cae28_d6e7_11ea_8ed3_f06e0be3d7d1row12_col3\" class=\"data row12 col3\" >9.36</td>\n",
       "                        <td id=\"T_7f7cae28_d6e7_11ea_8ed3_f06e0be3d7d1row12_col4\" class=\"data row12 col4\" >25.45</td>\n",
       "                        <td id=\"T_7f7cae28_d6e7_11ea_8ed3_f06e0be3d7d1row12_col5\" class=\"data row12 col5\" >123.04</td>\n",
       "                        <td id=\"T_7f7cae28_d6e7_11ea_8ed3_f06e0be3d7d1row12_col6\" class=\"data row12 col6\" >34.14</td>\n",
       "                        <td id=\"T_7f7cae28_d6e7_11ea_8ed3_f06e0be3d7d1row12_col7\" class=\"data row12 col7\" >10.29</td>\n",
       "                        <td id=\"T_7f7cae28_d6e7_11ea_8ed3_f06e0be3d7d1row12_col8\" class=\"data row12 col8\" >16.05</td>\n",
       "                        <td id=\"T_7f7cae28_d6e7_11ea_8ed3_f06e0be3d7d1row12_col9\" class=\"data row12 col9\" >18.85</td>\n",
       "            </tr>\n",
       "            <tr>\n",
       "                        <th id=\"T_7f7cae28_d6e7_11ea_8ed3_f06e0be3d7d1level0_row13\" class=\"row_heading level0 row13\" >TENURE</th>\n",
       "                        <td id=\"T_7f7cae28_d6e7_11ea_8ed3_f06e0be3d7d1row13_col0\" class=\"data row13 col0\" >11.92</td>\n",
       "                        <td id=\"T_7f7cae28_d6e7_11ea_8ed3_f06e0be3d7d1row13_col1\" class=\"data row13 col1\" >11.76</td>\n",
       "                        <td id=\"T_7f7cae28_d6e7_11ea_8ed3_f06e0be3d7d1row13_col2\" class=\"data row13 col2\" >11.64</td>\n",
       "                        <td id=\"T_7f7cae28_d6e7_11ea_8ed3_f06e0be3d7d1row13_col3\" class=\"data row13 col3\" >11.35</td>\n",
       "                        <td id=\"T_7f7cae28_d6e7_11ea_8ed3_f06e0be3d7d1row13_col4\" class=\"data row13 col4\" >11.78</td>\n",
       "                        <td id=\"T_7f7cae28_d6e7_11ea_8ed3_f06e0be3d7d1row13_col5\" class=\"data row13 col5\" >11.92</td>\n",
       "                        <td id=\"T_7f7cae28_d6e7_11ea_8ed3_f06e0be3d7d1row13_col6\" class=\"data row13 col6\" >12.00</td>\n",
       "                        <td id=\"T_7f7cae28_d6e7_11ea_8ed3_f06e0be3d7d1row13_col7\" class=\"data row13 col7\" >11.44</td>\n",
       "                        <td id=\"T_7f7cae28_d6e7_11ea_8ed3_f06e0be3d7d1row13_col8\" class=\"data row13 col8\" >11.88</td>\n",
       "                        <td id=\"T_7f7cae28_d6e7_11ea_8ed3_f06e0be3d7d1row13_col9\" class=\"data row13 col9\" >11.83</td>\n",
       "            </tr>\n",
       "            <tr>\n",
       "                        <th id=\"T_7f7cae28_d6e7_11ea_8ed3_f06e0be3d7d1level0_row14\" class=\"row_heading level0 row14\" >COUNT</th>\n",
       "                        <td id=\"T_7f7cae28_d6e7_11ea_8ed3_f06e0be3d7d1row14_col0\" class=\"data row14 col0\" >385.00</td>\n",
       "                        <td id=\"T_7f7cae28_d6e7_11ea_8ed3_f06e0be3d7d1row14_col1\" class=\"data row14 col1\" >456.00</td>\n",
       "                        <td id=\"T_7f7cae28_d6e7_11ea_8ed3_f06e0be3d7d1row14_col2\" class=\"data row14 col2\" >107.00</td>\n",
       "                        <td id=\"T_7f7cae28_d6e7_11ea_8ed3_f06e0be3d7d1row14_col3\" class=\"data row14 col3\" >5032.00</td>\n",
       "                        <td id=\"T_7f7cae28_d6e7_11ea_8ed3_f06e0be3d7d1row14_col4\" class=\"data row14 col4\" >303.00</td>\n",
       "                        <td id=\"T_7f7cae28_d6e7_11ea_8ed3_f06e0be3d7d1row14_col5\" class=\"data row14 col5\" >25.00</td>\n",
       "                        <td id=\"T_7f7cae28_d6e7_11ea_8ed3_f06e0be3d7d1row14_col6\" class=\"data row14 col6\" >7.00</td>\n",
       "                        <td id=\"T_7f7cae28_d6e7_11ea_8ed3_f06e0be3d7d1row14_col7\" class=\"data row14 col7\" >984.00</td>\n",
       "                        <td id=\"T_7f7cae28_d6e7_11ea_8ed3_f06e0be3d7d1row14_col8\" class=\"data row14 col8\" >73.00</td>\n",
       "                        <td id=\"T_7f7cae28_d6e7_11ea_8ed3_f06e0be3d7d1row14_col9\" class=\"data row14 col9\" >1578.00</td>\n",
       "            </tr>\n",
       "    </tbody></table>"
      ],
      "text/plain": [
       "<pandas.io.formats.style.Styler at 0x124eefb5c08>"
      ]
     },
     "execution_count": 157,
     "metadata": {},
     "output_type": "execute_result"
    }
   ],
   "source": [
    "kmeans_mean = df_filled.pivot_table(index='Segment',values=cols,aggfunc='mean').round(2).T\n",
    "kmeans_count = df_filled.pivot_table(index='Segment',values='BALANCE',aggfunc='count').round(2).T.rename({'BALANCE':'COUNT'})\n",
    "df_kmeans = kmeans_mean.append(kmeans_count).round(2)\n",
    "df_kmeans\n",
    "df_kmeans.style\\\n",
    "    .highlight_max(axis=1,color='#b5f5bf')\\\n",
    "    .highlight_min(axis=1,color='#f5beb5')\\\n",
    "    .set_precision(2)"
   ]
  },
  {
   "cell_type": "markdown",
   "metadata": {},
   "source": [
    "<h4>Customer Segments:</h4>\n",
    "<ol>\n",
    "    <li><b>Segment 0:</b> Frequent users</li>\n",
    "        <ul>\n",
    "            <li>High balance frequency and purchase frequency</li>\n",
    "            <li>Payments higher than minimum payments</li>\n",
    "            <li>These users are able to pay their bill (not necessarily on time)</li>\n",
    "            <li>Use discounts and campaigns to encourage these users to use their cards even more</li>\n",
    "        </ul>\n",
    "    <li><b>Segment 1:</b> Similar to Segment 0</li>\n",
    "        <ul>\n",
    "            <li>These users are able to pay their bill (not necessarily on time)</li>\n",
    "            <li>Use discounts and campaigns to encourage these users to use their cards even more</li>\n",
    "        </ul>\n",
    "    <li><b>Segment 2:</b> Cash Users</li>\n",
    "        <ul>\n",
    "            <li>Highest cash advance amount and high payment amount</li>\n",
    "            <li>Use memberships or discounts to keep these customers since they spend a lot.</li>\n",
    "        </ul>\n",
    "    <li><b>Segment 3:</b> Unfrequent Users</li>\n",
    "        <ul>\n",
    "            <li>Small balance amount, lowest balance frequency</li>\n",
    "            <li>Start more campaigns to attract these users.</li>\n",
    "        </ul>\n",
    "    <li><b>Segment 4:</b> Overdrafters</li>\n",
    "        <ul>\n",
    "            <li>Frequent balance frequency, few months with full payment</li>\n",
    "            <li>Payment amount slightly larger than minimum payment</li>\n",
    "            <li>These customers frequently pay the minimum payment so that they can continue to use this credit card.</li>\n",
    "            <li>Keep these customers (campaign/discount on interest of due payments) since they will pay the interests.</li>\n",
    "        </ul>\n",
    "    <li><b>Segment 5:</b> Large Spender</li>\n",
    "        <ul>\n",
    "            <li>High credit limit</li>\n",
    "            <li>High purchase amount, frequency of both types</li>\n",
    "            <li>Use memberships or discounts to keep these customers since they spend a lot.</li>\n",
    "        </ul>\n",
    "    <li><b>Segment 6:</b> Large Installment Purchases</li>\n",
    "        <ul>\n",
    "            <li>Zero one off purchase frequency and amount</li>\n",
    "            <li>All installment purchases</li>\n",
    "            <li>High purchase frequency</li>\n",
    "            <li>No month with full payment</li>\n",
    "            <li>High minimum payments but low payments</li>\n",
    "            <li>Might be unable to pay their bill</li>\n",
    "            <li>Warning should be given to these customers.</li>\n",
    "        </ul>\n",
    "    <li><b>Segment 7:</b> Similar to Segment 4</li>\n",
    "        <ul>\n",
    "            <li>These customers frequently pay the minimum payment so that they can continue to use this credit card.</li>\n",
    "            <li>Keep these customers (campaign/discount on interest of due payments) since they will pay the interests.</li>\n",
    "        </ul>\n",
    "    <li><b>Segment 8:</b> Similar to Segment 6</li>\n",
    "        <ul>\n",
    "            <li>High minimum payments but low payments</li>\n",
    "            <li>Warning should be given to these customers.</li>\n",
    "        </ul>\n",
    "    <li><b>Segment 9:</b> Careful Spenders</li>\n",
    "        <ul>\n",
    "            <li>Small balances and purchase amounts</li>\n",
    "            <li>Lowest minimum payment amount</li>\n",
    "            <li>These customers are very careful with their purchases so that they don't by anything out of their purchasing ability</li>\n",
    "            <li>Provide discounts/campaigns to encourage these users to spend more without having to worry about paying the interest for overdue payments.</li>\n",
    "        </ul>\n",
    "</ol>\n",
    "<br>\n",
    "If the dataset is not normalized, there are many segments that are similar to each other. If the k-means cluster analysis is to be run again on this dataset, the size of the cluster should decrease to 7."
   ]
  },
  {
   "cell_type": "markdown",
   "metadata": {},
   "source": [
    "<br>\n",
    "<h3>2.3 Trial 1: K-Means Cluster Analysis with Normalizing</h3><br>\n"
   ]
  },
  {
   "cell_type": "markdown",
   "metadata": {},
   "source": [
    "<h4>Use the scaler to normalize each column of this dataset</h4>"
   ]
  },
  {
   "cell_type": "code",
   "execution_count": 158,
   "metadata": {},
   "outputs": [
    {
     "data": {
      "text/html": [
       "<div>\n",
       "<style scoped>\n",
       "    .dataframe tbody tr th:only-of-type {\n",
       "        vertical-align: middle;\n",
       "    }\n",
       "\n",
       "    .dataframe tbody tr th {\n",
       "        vertical-align: top;\n",
       "    }\n",
       "\n",
       "    .dataframe thead th {\n",
       "        text-align: right;\n",
       "    }\n",
       "</style>\n",
       "<table border=\"1\" class=\"dataframe\">\n",
       "  <thead>\n",
       "    <tr style=\"text-align: right;\">\n",
       "      <th></th>\n",
       "      <th>BALANCE</th>\n",
       "      <th>BALANCE_FREQUENCY</th>\n",
       "      <th>ONEOFF_PURCHASES</th>\n",
       "      <th>INSTALLMENTS_PURCHASES</th>\n",
       "      <th>ONEOFF_PURCHASES_FREQUENCY</th>\n",
       "      <th>PURCHASES_INSTALLMENTS_FREQUENCY</th>\n",
       "      <th>PURCHASES_TRX</th>\n",
       "      <th>CASH_ADVANCE</th>\n",
       "      <th>CASH_ADVANCE_FREQUENCY</th>\n",
       "      <th>CREDIT_LIMIT</th>\n",
       "      <th>PAYMENTS</th>\n",
       "      <th>MINIMUM_PAYMENTS</th>\n",
       "      <th>PRC_FULL_PAYMENT</th>\n",
       "      <th>TENURE</th>\n",
       "      <th>Segment</th>\n",
       "    </tr>\n",
       "  </thead>\n",
       "  <tbody>\n",
       "    <tr>\n",
       "      <th>0</th>\n",
       "      <td>-0.731989</td>\n",
       "      <td>-0.249434</td>\n",
       "      <td>-0.356934</td>\n",
       "      <td>-0.349079</td>\n",
       "      <td>-0.678661</td>\n",
       "      <td>-0.707313</td>\n",
       "      <td>-0.511333</td>\n",
       "      <td>-0.466786</td>\n",
       "      <td>-0.675349</td>\n",
       "      <td>-0.960433</td>\n",
       "      <td>-0.528979</td>\n",
       "      <td>-3.109675e-01</td>\n",
       "      <td>-0.525551</td>\n",
       "      <td>0.36068</td>\n",
       "      <td>-0.499193</td>\n",
       "    </tr>\n",
       "    <tr>\n",
       "      <th>1</th>\n",
       "      <td>0.786961</td>\n",
       "      <td>0.134325</td>\n",
       "      <td>-0.356934</td>\n",
       "      <td>-0.454576</td>\n",
       "      <td>-0.678661</td>\n",
       "      <td>-0.916995</td>\n",
       "      <td>-0.591796</td>\n",
       "      <td>2.605605</td>\n",
       "      <td>0.573963</td>\n",
       "      <td>0.688639</td>\n",
       "      <td>0.818642</td>\n",
       "      <td>8.931021e-02</td>\n",
       "      <td>0.234227</td>\n",
       "      <td>0.36068</td>\n",
       "      <td>0.993923</td>\n",
       "    </tr>\n",
       "    <tr>\n",
       "      <th>2</th>\n",
       "      <td>0.447135</td>\n",
       "      <td>0.518084</td>\n",
       "      <td>0.108889</td>\n",
       "      <td>-0.454576</td>\n",
       "      <td>2.673451</td>\n",
       "      <td>-0.916995</td>\n",
       "      <td>-0.109020</td>\n",
       "      <td>-0.466786</td>\n",
       "      <td>-0.675349</td>\n",
       "      <td>0.826062</td>\n",
       "      <td>-0.383805</td>\n",
       "      <td>-1.016632e-01</td>\n",
       "      <td>-0.525551</td>\n",
       "      <td>0.36068</td>\n",
       "      <td>1.740481</td>\n",
       "    </tr>\n",
       "    <tr>\n",
       "      <th>3</th>\n",
       "      <td>0.049099</td>\n",
       "      <td>-1.016953</td>\n",
       "      <td>0.546189</td>\n",
       "      <td>-0.454576</td>\n",
       "      <td>-0.399319</td>\n",
       "      <td>-0.916995</td>\n",
       "      <td>-0.551565</td>\n",
       "      <td>-0.368653</td>\n",
       "      <td>-0.258913</td>\n",
       "      <td>0.826062</td>\n",
       "      <td>-0.598688</td>\n",
       "      <td>-5.366135e-16</td>\n",
       "      <td>-0.525551</td>\n",
       "      <td>0.36068</td>\n",
       "      <td>1.740481</td>\n",
       "    </tr>\n",
       "    <tr>\n",
       "      <th>4</th>\n",
       "      <td>-0.358775</td>\n",
       "      <td>0.518084</td>\n",
       "      <td>-0.347294</td>\n",
       "      <td>-0.454576</td>\n",
       "      <td>-0.399319</td>\n",
       "      <td>-0.916995</td>\n",
       "      <td>-0.551565</td>\n",
       "      <td>-0.466786</td>\n",
       "      <td>-0.675349</td>\n",
       "      <td>-0.905464</td>\n",
       "      <td>-0.364368</td>\n",
       "      <td>-2.657913e-01</td>\n",
       "      <td>-0.525551</td>\n",
       "      <td>0.36068</td>\n",
       "      <td>-0.499193</td>\n",
       "    </tr>\n",
       "  </tbody>\n",
       "</table>\n",
       "</div>"
      ],
      "text/plain": [
       "    BALANCE  BALANCE_FREQUENCY  ONEOFF_PURCHASES  INSTALLMENTS_PURCHASES  \\\n",
       "0 -0.731989          -0.249434         -0.356934               -0.349079   \n",
       "1  0.786961           0.134325         -0.356934               -0.454576   \n",
       "2  0.447135           0.518084          0.108889               -0.454576   \n",
       "3  0.049099          -1.016953          0.546189               -0.454576   \n",
       "4 -0.358775           0.518084         -0.347294               -0.454576   \n",
       "\n",
       "   ONEOFF_PURCHASES_FREQUENCY  PURCHASES_INSTALLMENTS_FREQUENCY  \\\n",
       "0                   -0.678661                         -0.707313   \n",
       "1                   -0.678661                         -0.916995   \n",
       "2                    2.673451                         -0.916995   \n",
       "3                   -0.399319                         -0.916995   \n",
       "4                   -0.399319                         -0.916995   \n",
       "\n",
       "   PURCHASES_TRX  CASH_ADVANCE  CASH_ADVANCE_FREQUENCY  CREDIT_LIMIT  \\\n",
       "0      -0.511333     -0.466786               -0.675349     -0.960433   \n",
       "1      -0.591796      2.605605                0.573963      0.688639   \n",
       "2      -0.109020     -0.466786               -0.675349      0.826062   \n",
       "3      -0.551565     -0.368653               -0.258913      0.826062   \n",
       "4      -0.551565     -0.466786               -0.675349     -0.905464   \n",
       "\n",
       "   PAYMENTS  MINIMUM_PAYMENTS  PRC_FULL_PAYMENT   TENURE   Segment  \n",
       "0 -0.528979     -3.109675e-01         -0.525551  0.36068 -0.499193  \n",
       "1  0.818642      8.931021e-02          0.234227  0.36068  0.993923  \n",
       "2 -0.383805     -1.016632e-01         -0.525551  0.36068  1.740481  \n",
       "3 -0.598688     -5.366135e-16         -0.525551  0.36068  1.740481  \n",
       "4 -0.364368     -2.657913e-01         -0.525551  0.36068 -0.499193  "
      ]
     },
     "execution_count": 158,
     "metadata": {},
     "output_type": "execute_result"
    }
   ],
   "source": [
    "scaler = StandardScaler()\n",
    "df_filled_norm = pd.DataFrame(scaler.fit_transform(df_filled))\n",
    "df_filled_norm.columns = df_filled.columns\n",
    "df_filled_norm.head()"
   ]
  },
  {
   "cell_type": "markdown",
   "metadata": {},
   "source": [
    "<h4>Minimize Cluster Inertia</h4>"
   ]
  },
  {
   "cell_type": "code",
   "execution_count": 123,
   "metadata": {},
   "outputs": [
    {
     "data": {
      "text/plain": [
       "[<matplotlib.lines.Line2D at 0x124ed698a48>]"
      ]
     },
     "execution_count": 123,
     "metadata": {},
     "output_type": "execute_result"
    },
    {
     "data": {
      "image/png": "[encoded data removed]",
      "text/plain": [
       "<Figure size 1080x576 with 1 Axes>"
      ]
     },
     "metadata": {
      "needs_background": "light"
     },
     "output_type": "display_data"
    }
   ],
   "source": [
    "kmeans_inertia = []\n",
    "for i in range(5,16):\n",
    "    kmeans = KMeans(n_clusters=i,random_state=50)\n",
    "    kmeans.fit(df_filled_norm)\n",
    "    kmeans_inertia.append(kmeans.inertia_)\n",
    "plt.figure(figsize=(15,8))\n",
    "plt.plot(range(5,16), kmeans_inertia, marker='o', linestyle='--')"
   ]
  },
  {
   "cell_type": "markdown",
   "metadata": {},
   "source": [
    "7 clusters seems to be a good number for the unnormalized dataset."
   ]
  },
  {
   "cell_type": "markdown",
   "metadata": {},
   "source": [
    "<h4>Minimize Cluster Inertia</h4>"
   ]
  },
  {
   "cell_type": "code",
   "execution_count": 162,
   "metadata": {
    "scrolled": true
   },
   "outputs": [
    {
     "data": {
      "text/plain": [
       "KMeans(algorithm='auto', copy_x=True, init='k-means++', max_iter=300,\n",
       "       n_clusters=7, n_init=10, n_jobs=None, precompute_distances='auto',\n",
       "       random_state=50, tol=0.0001, verbose=0)"
      ]
     },
     "execution_count": 162,
     "metadata": {},
     "output_type": "execute_result"
    }
   ],
   "source": [
    "kmeans = KMeans(n_clusters=7,random_state=50)\n",
    "kmeans.fit(df_filled_norm)"
   ]
  },
  {
   "cell_type": "markdown",
   "metadata": {},
   "source": [
    "<h4>Apply the Predicted Labels from K-Means</h4>"
   ]
  },
  {
   "cell_type": "code",
   "execution_count": 163,
   "metadata": {},
   "outputs": [],
   "source": [
    "df_filled_copy = df_filled.copy()\n",
    "df_filled_copy['Segment'] = kmeans.predict(df_filled_norm)"
   ]
  },
  {
   "cell_type": "markdown",
   "metadata": {},
   "source": [
    "<h4>Calculate the Mean of Each Column for Each Segment</h4>"
   ]
  },
  {
   "cell_type": "code",
   "execution_count": 165,
   "metadata": {},
   "outputs": [
    {
     "data": {
      "text/html": [
       "<style  type=\"text/css\" >\n",
       "    #T_239bc734_d704_11ea_8f5f_f06e0be3d7d1row0_col0 {\n",
       "            : ;\n",
       "            background-color:  #f5beb5;\n",
       "        }    #T_239bc734_d704_11ea_8f5f_f06e0be3d7d1row0_col5 {\n",
       "            background-color:  #b5f5bf;\n",
       "            : ;\n",
       "        }    #T_239bc734_d704_11ea_8f5f_f06e0be3d7d1row1_col0 {\n",
       "            : ;\n",
       "            background-color:  #f5beb5;\n",
       "        }    #T_239bc734_d704_11ea_8f5f_f06e0be3d7d1row1_col3 {\n",
       "            background-color:  #b5f5bf;\n",
       "            : ;\n",
       "        }    #T_239bc734_d704_11ea_8f5f_f06e0be3d7d1row1_col6 {\n",
       "            background-color:  #b5f5bf;\n",
       "            : ;\n",
       "        }    #T_239bc734_d704_11ea_8f5f_f06e0be3d7d1row2_col4 {\n",
       "            : ;\n",
       "            background-color:  #f5beb5;\n",
       "        }    #T_239bc734_d704_11ea_8f5f_f06e0be3d7d1row2_col5 {\n",
       "            background-color:  #b5f5bf;\n",
       "            : ;\n",
       "        }    #T_239bc734_d704_11ea_8f5f_f06e0be3d7d1row3_col0 {\n",
       "            : ;\n",
       "            background-color:  #f5beb5;\n",
       "        }    #T_239bc734_d704_11ea_8f5f_f06e0be3d7d1row3_col4 {\n",
       "            : ;\n",
       "            background-color:  #f5beb5;\n",
       "        }    #T_239bc734_d704_11ea_8f5f_f06e0be3d7d1row3_col5 {\n",
       "            background-color:  #b5f5bf;\n",
       "            : ;\n",
       "        }    #T_239bc734_d704_11ea_8f5f_f06e0be3d7d1row4_col1 {\n",
       "            : ;\n",
       "            background-color:  #f5beb5;\n",
       "        }    #T_239bc734_d704_11ea_8f5f_f06e0be3d7d1row4_col6 {\n",
       "            background-color:  #b5f5bf;\n",
       "            : ;\n",
       "        }    #T_239bc734_d704_11ea_8f5f_f06e0be3d7d1row5_col2 {\n",
       "            : ;\n",
       "            background-color:  #f5beb5;\n",
       "        }    #T_239bc734_d704_11ea_8f5f_f06e0be3d7d1row5_col6 {\n",
       "            background-color:  #b5f5bf;\n",
       "            : ;\n",
       "        }    #T_239bc734_d704_11ea_8f5f_f06e0be3d7d1row6_col0 {\n",
       "            : ;\n",
       "            background-color:  #f5beb5;\n",
       "        }    #T_239bc734_d704_11ea_8f5f_f06e0be3d7d1row6_col6 {\n",
       "            background-color:  #b5f5bf;\n",
       "            : ;\n",
       "        }    #T_239bc734_d704_11ea_8f5f_f06e0be3d7d1row7_col4 {\n",
       "            : ;\n",
       "            background-color:  #f5beb5;\n",
       "        }    #T_239bc734_d704_11ea_8f5f_f06e0be3d7d1row7_col6 {\n",
       "            background-color:  #b5f5bf;\n",
       "            : ;\n",
       "        }    #T_239bc734_d704_11ea_8f5f_f06e0be3d7d1row8_col0 {\n",
       "            : ;\n",
       "            background-color:  #f5beb5;\n",
       "        }    #T_239bc734_d704_11ea_8f5f_f06e0be3d7d1row8_col3 {\n",
       "            background-color:  #b5f5bf;\n",
       "            : ;\n",
       "        }    #T_239bc734_d704_11ea_8f5f_f06e0be3d7d1row9_col1 {\n",
       "            : ;\n",
       "            background-color:  #f5beb5;\n",
       "        }    #T_239bc734_d704_11ea_8f5f_f06e0be3d7d1row9_col6 {\n",
       "            background-color:  #b5f5bf;\n",
       "            : ;\n",
       "        }    #T_239bc734_d704_11ea_8f5f_f06e0be3d7d1row10_col2 {\n",
       "            : ;\n",
       "            background-color:  #f5beb5;\n",
       "        }    #T_239bc734_d704_11ea_8f5f_f06e0be3d7d1row10_col6 {\n",
       "            background-color:  #b5f5bf;\n",
       "            : ;\n",
       "        }    #T_239bc734_d704_11ea_8f5f_f06e0be3d7d1row11_col2 {\n",
       "            : ;\n",
       "            background-color:  #f5beb5;\n",
       "        }    #T_239bc734_d704_11ea_8f5f_f06e0be3d7d1row11_col6 {\n",
       "            background-color:  #b5f5bf;\n",
       "            : ;\n",
       "        }    #T_239bc734_d704_11ea_8f5f_f06e0be3d7d1row12_col2 {\n",
       "            : ;\n",
       "            background-color:  #f5beb5;\n",
       "        }    #T_239bc734_d704_11ea_8f5f_f06e0be3d7d1row12_col6 {\n",
       "            background-color:  #b5f5bf;\n",
       "            : ;\n",
       "        }    #T_239bc734_d704_11ea_8f5f_f06e0be3d7d1row13_col1 {\n",
       "            : ;\n",
       "            background-color:  #f5beb5;\n",
       "        }    #T_239bc734_d704_11ea_8f5f_f06e0be3d7d1row13_col6 {\n",
       "            background-color:  #b5f5bf;\n",
       "            : ;\n",
       "        }    #T_239bc734_d704_11ea_8f5f_f06e0be3d7d1row14_col2 {\n",
       "            background-color:  #b5f5bf;\n",
       "            : ;\n",
       "        }    #T_239bc734_d704_11ea_8f5f_f06e0be3d7d1row14_col6 {\n",
       "            : ;\n",
       "            background-color:  #f5beb5;\n",
       "        }</style><table id=\"T_239bc734_d704_11ea_8f5f_f06e0be3d7d1\" ><thead>    <tr>        <th class=\"index_name level0\" >Segment</th>        <th class=\"col_heading level0 col0\" >0</th>        <th class=\"col_heading level0 col1\" >1</th>        <th class=\"col_heading level0 col2\" >2</th>        <th class=\"col_heading level0 col3\" >3</th>        <th class=\"col_heading level0 col4\" >4</th>        <th class=\"col_heading level0 col5\" >5</th>        <th class=\"col_heading level0 col6\" >6</th>    </tr></thead><tbody>\n",
       "                <tr>\n",
       "                        <th id=\"T_239bc734_d704_11ea_8f5f_f06e0be3d7d1level0_row0\" class=\"row_heading level0 row0\" >BALANCE</th>\n",
       "                        <td id=\"T_239bc734_d704_11ea_8f5f_f06e0be3d7d1row0_col0\" class=\"data row0 col0\" >107.81</td>\n",
       "                        <td id=\"T_239bc734_d704_11ea_8f5f_f06e0be3d7d1row0_col1\" class=\"data row0 col1\" >858.06</td>\n",
       "                        <td id=\"T_239bc734_d704_11ea_8f5f_f06e0be3d7d1row0_col2\" class=\"data row0 col2\" >1446.45</td>\n",
       "                        <td id=\"T_239bc734_d704_11ea_8f5f_f06e0be3d7d1row0_col3\" class=\"data row0 col3\" >1514.15</td>\n",
       "                        <td id=\"T_239bc734_d704_11ea_8f5f_f06e0be3d7d1row0_col4\" class=\"data row0 col4\" >715.90</td>\n",
       "                        <td id=\"T_239bc734_d704_11ea_8f5f_f06e0be3d7d1row0_col5\" class=\"data row0 col5\" >5323.34</td>\n",
       "                        <td id=\"T_239bc734_d704_11ea_8f5f_f06e0be3d7d1row0_col6\" class=\"data row0 col6\" >4678.02</td>\n",
       "            </tr>\n",
       "            <tr>\n",
       "                        <th id=\"T_239bc734_d704_11ea_8f5f_f06e0be3d7d1level0_row1\" class=\"row_heading level0 row1\" >BALANCE_FREQUENCY</th>\n",
       "                        <td id=\"T_239bc734_d704_11ea_8f5f_f06e0be3d7d1row1_col0\" class=\"data row1 col0\" >0.37</td>\n",
       "                        <td id=\"T_239bc734_d704_11ea_8f5f_f06e0be3d7d1row1_col1\" class=\"data row1 col1\" >0.80</td>\n",
       "                        <td id=\"T_239bc734_d704_11ea_8f5f_f06e0be3d7d1row1_col2\" class=\"data row1 col2\" >0.97</td>\n",
       "                        <td id=\"T_239bc734_d704_11ea_8f5f_f06e0be3d7d1row1_col3\" class=\"data row1 col3\" >0.98</td>\n",
       "                        <td id=\"T_239bc734_d704_11ea_8f5f_f06e0be3d7d1row1_col4\" class=\"data row1 col4\" >0.96</td>\n",
       "                        <td id=\"T_239bc734_d704_11ea_8f5f_f06e0be3d7d1row1_col5\" class=\"data row1 col5\" >0.97</td>\n",
       "                        <td id=\"T_239bc734_d704_11ea_8f5f_f06e0be3d7d1row1_col6\" class=\"data row1 col6\" >0.98</td>\n",
       "            </tr>\n",
       "            <tr>\n",
       "                        <th id=\"T_239bc734_d704_11ea_8f5f_f06e0be3d7d1level0_row2\" class=\"row_heading level0 row2\" >CASH_ADVANCE</th>\n",
       "                        <td id=\"T_239bc734_d704_11ea_8f5f_f06e0be3d7d1row2_col0\" class=\"data row2 col0\" >312.79</td>\n",
       "                        <td id=\"T_239bc734_d704_11ea_8f5f_f06e0be3d7d1row2_col1\" class=\"data row2 col1\" >1102.31</td>\n",
       "                        <td id=\"T_239bc734_d704_11ea_8f5f_f06e0be3d7d1row2_col2\" class=\"data row2 col2\" >721.37</td>\n",
       "                        <td id=\"T_239bc734_d704_11ea_8f5f_f06e0be3d7d1row2_col3\" class=\"data row2 col3\" >279.23</td>\n",
       "                        <td id=\"T_239bc734_d704_11ea_8f5f_f06e0be3d7d1row2_col4\" class=\"data row2 col4\" >160.08</td>\n",
       "                        <td id=\"T_239bc734_d704_11ea_8f5f_f06e0be3d7d1row2_col5\" class=\"data row2 col5\" >4894.08</td>\n",
       "                        <td id=\"T_239bc734_d704_11ea_8f5f_f06e0be3d7d1row2_col6\" class=\"data row2 col6\" >953.58</td>\n",
       "            </tr>\n",
       "            <tr>\n",
       "                        <th id=\"T_239bc734_d704_11ea_8f5f_f06e0be3d7d1level0_row3\" class=\"row_heading level0 row3\" >CASH_ADVANCE_FREQUENCY</th>\n",
       "                        <td id=\"T_239bc734_d704_11ea_8f5f_f06e0be3d7d1row3_col0\" class=\"data row3 col0\" >0.03</td>\n",
       "                        <td id=\"T_239bc734_d704_11ea_8f5f_f06e0be3d7d1row3_col1\" class=\"data row3 col1\" >0.20</td>\n",
       "                        <td id=\"T_239bc734_d704_11ea_8f5f_f06e0be3d7d1row3_col2\" class=\"data row3 col2\" >0.16</td>\n",
       "                        <td id=\"T_239bc734_d704_11ea_8f5f_f06e0be3d7d1row3_col3\" class=\"data row3 col3\" >0.05</td>\n",
       "                        <td id=\"T_239bc734_d704_11ea_8f5f_f06e0be3d7d1row3_col4\" class=\"data row3 col4\" >0.03</td>\n",
       "                        <td id=\"T_239bc734_d704_11ea_8f5f_f06e0be3d7d1row3_col5\" class=\"data row3 col5\" >0.45</td>\n",
       "                        <td id=\"T_239bc734_d704_11ea_8f5f_f06e0be3d7d1row3_col6\" class=\"data row3 col6\" >0.09</td>\n",
       "            </tr>\n",
       "            <tr>\n",
       "                        <th id=\"T_239bc734_d704_11ea_8f5f_f06e0be3d7d1level0_row4\" class=\"row_heading level0 row4\" >CREDIT_LIMIT</th>\n",
       "                        <td id=\"T_239bc734_d704_11ea_8f5f_f06e0be3d7d1row4_col0\" class=\"data row4 col0\" >3884.69</td>\n",
       "                        <td id=\"T_239bc734_d704_11ea_8f5f_f06e0be3d7d1row4_col1\" class=\"data row4 col1\" >2445.99</td>\n",
       "                        <td id=\"T_239bc734_d704_11ea_8f5f_f06e0be3d7d1row4_col2\" class=\"data row4 col2\" >3208.48</td>\n",
       "                        <td id=\"T_239bc734_d704_11ea_8f5f_f06e0be3d7d1row4_col3\" class=\"data row4 col3\" >6611.85</td>\n",
       "                        <td id=\"T_239bc734_d704_11ea_8f5f_f06e0be3d7d1row4_col4\" class=\"data row4 col4\" >3489.84</td>\n",
       "                        <td id=\"T_239bc734_d704_11ea_8f5f_f06e0be3d7d1row4_col5\" class=\"data row4 col5\" >8604.56</td>\n",
       "                        <td id=\"T_239bc734_d704_11ea_8f5f_f06e0be3d7d1row4_col6\" class=\"data row4 col6\" >11392.73</td>\n",
       "            </tr>\n",
       "            <tr>\n",
       "                        <th id=\"T_239bc734_d704_11ea_8f5f_f06e0be3d7d1level0_row5\" class=\"row_heading level0 row5\" >INSTALLMENTS_PURCHASES</th>\n",
       "                        <td id=\"T_239bc734_d704_11ea_8f5f_f06e0be3d7d1row5_col0\" class=\"data row5 col0\" >139.93</td>\n",
       "                        <td id=\"T_239bc734_d704_11ea_8f5f_f06e0be3d7d1row5_col1\" class=\"data row5 col1\" >155.60</td>\n",
       "                        <td id=\"T_239bc734_d704_11ea_8f5f_f06e0be3d7d1row5_col2\" class=\"data row5 col2\" >59.48</td>\n",
       "                        <td id=\"T_239bc734_d704_11ea_8f5f_f06e0be3d7d1row5_col3\" class=\"data row5 col3\" >707.07</td>\n",
       "                        <td id=\"T_239bc734_d704_11ea_8f5f_f06e0be3d7d1row5_col4\" class=\"data row5 col4\" >790.21</td>\n",
       "                        <td id=\"T_239bc734_d704_11ea_8f5f_f06e0be3d7d1row5_col5\" class=\"data row5 col5\" >246.27</td>\n",
       "                        <td id=\"T_239bc734_d704_11ea_8f5f_f06e0be3d7d1row5_col6\" class=\"data row5 col6\" >4126.62</td>\n",
       "            </tr>\n",
       "            <tr>\n",
       "                        <th id=\"T_239bc734_d704_11ea_8f5f_f06e0be3d7d1level0_row6\" class=\"row_heading level0 row6\" >MINIMUM_PAYMENTS</th>\n",
       "                        <td id=\"T_239bc734_d704_11ea_8f5f_f06e0be3d7d1row6_col0\" class=\"data row6 col0\" >261.89</td>\n",
       "                        <td id=\"T_239bc734_d704_11ea_8f5f_f06e0be3d7d1row6_col1\" class=\"data row6 col1\" >385.39</td>\n",
       "                        <td id=\"T_239bc734_d704_11ea_8f5f_f06e0be3d7d1row6_col2\" class=\"data row6 col2\" >714.77</td>\n",
       "                        <td id=\"T_239bc734_d704_11ea_8f5f_f06e0be3d7d1row6_col3\" class=\"data row6 col3\" >571.96</td>\n",
       "                        <td id=\"T_239bc734_d704_11ea_8f5f_f06e0be3d7d1row6_col4\" class=\"data row6 col4\" >710.00</td>\n",
       "                        <td id=\"T_239bc734_d704_11ea_8f5f_f06e0be3d7d1row6_col5\" class=\"data row6 col5\" >2627.60</td>\n",
       "                        <td id=\"T_239bc734_d704_11ea_8f5f_f06e0be3d7d1row6_col6\" class=\"data row6 col6\" >3165.99</td>\n",
       "            </tr>\n",
       "            <tr>\n",
       "                        <th id=\"T_239bc734_d704_11ea_8f5f_f06e0be3d7d1level0_row7\" class=\"row_heading level0 row7\" >ONEOFF_PURCHASES</th>\n",
       "                        <td id=\"T_239bc734_d704_11ea_8f5f_f06e0be3d7d1row7_col0\" class=\"data row7 col0\" >202.68</td>\n",
       "                        <td id=\"T_239bc734_d704_11ea_8f5f_f06e0be3d7d1row7_col1\" class=\"data row7 col1\" >248.64</td>\n",
       "                        <td id=\"T_239bc734_d704_11ea_8f5f_f06e0be3d7d1row7_col2\" class=\"data row7 col2\" >224.36</td>\n",
       "                        <td id=\"T_239bc734_d704_11ea_8f5f_f06e0be3d7d1row7_col3\" class=\"data row7 col3\" >1962.34</td>\n",
       "                        <td id=\"T_239bc734_d704_11ea_8f5f_f06e0be3d7d1row7_col4\" class=\"data row7 col4\" >199.02</td>\n",
       "                        <td id=\"T_239bc734_d704_11ea_8f5f_f06e0be3d7d1row7_col5\" class=\"data row7 col5\" >358.66</td>\n",
       "                        <td id=\"T_239bc734_d704_11ea_8f5f_f06e0be3d7d1row7_col6\" class=\"data row7 col6\" >7185.28</td>\n",
       "            </tr>\n",
       "            <tr>\n",
       "                        <th id=\"T_239bc734_d704_11ea_8f5f_f06e0be3d7d1level0_row8\" class=\"row_heading level0 row8\" >ONEOFF_PURCHASES_FREQUENCY</th>\n",
       "                        <td id=\"T_239bc734_d704_11ea_8f5f_f06e0be3d7d1row8_col0\" class=\"data row8 col0\" >0.07</td>\n",
       "                        <td id=\"T_239bc734_d704_11ea_8f5f_f06e0be3d7d1row8_col1\" class=\"data row8 col1\" >0.12</td>\n",
       "                        <td id=\"T_239bc734_d704_11ea_8f5f_f06e0be3d7d1row8_col2\" class=\"data row8 col2\" >0.11</td>\n",
       "                        <td id=\"T_239bc734_d704_11ea_8f5f_f06e0be3d7d1row8_col3\" class=\"data row8 col3\" >0.78</td>\n",
       "                        <td id=\"T_239bc734_d704_11ea_8f5f_f06e0be3d7d1row8_col4\" class=\"data row8 col4\" >0.08</td>\n",
       "                        <td id=\"T_239bc734_d704_11ea_8f5f_f06e0be3d7d1row8_col5\" class=\"data row8 col5\" >0.14</td>\n",
       "                        <td id=\"T_239bc734_d704_11ea_8f5f_f06e0be3d7d1row8_col6\" class=\"data row8 col6\" >0.72</td>\n",
       "            </tr>\n",
       "            <tr>\n",
       "                        <th id=\"T_239bc734_d704_11ea_8f5f_f06e0be3d7d1level0_row9\" class=\"row_heading level0 row9\" >PAYMENTS</th>\n",
       "                        <td id=\"T_239bc734_d704_11ea_8f5f_f06e0be3d7d1row9_col0\" class=\"data row9 col0\" >1157.08</td>\n",
       "                        <td id=\"T_239bc734_d704_11ea_8f5f_f06e0be3d7d1row9_col1\" class=\"data row9 col1\" >614.30</td>\n",
       "                        <td id=\"T_239bc734_d704_11ea_8f5f_f06e0be3d7d1row9_col2\" class=\"data row9 col2\" >988.51</td>\n",
       "                        <td id=\"T_239bc734_d704_11ea_8f5f_f06e0be3d7d1row9_col3\" class=\"data row9 col3\" >2504.88</td>\n",
       "                        <td id=\"T_239bc734_d704_11ea_8f5f_f06e0be3d7d1row9_col4\" class=\"data row9 col4\" >1124.71</td>\n",
       "                        <td id=\"T_239bc734_d704_11ea_8f5f_f06e0be3d7d1row9_col5\" class=\"data row9 col5\" >3993.39</td>\n",
       "                        <td id=\"T_239bc734_d704_11ea_8f5f_f06e0be3d7d1row9_col6\" class=\"data row9 col6\" >11364.72</td>\n",
       "            </tr>\n",
       "            <tr>\n",
       "                        <th id=\"T_239bc734_d704_11ea_8f5f_f06e0be3d7d1level0_row10\" class=\"row_heading level0 row10\" >PRC_FULL_PAYMENT</th>\n",
       "                        <td id=\"T_239bc734_d704_11ea_8f5f_f06e0be3d7d1row10_col0\" class=\"data row10 col0\" >0.23</td>\n",
       "                        <td id=\"T_239bc734_d704_11ea_8f5f_f06e0be3d7d1row10_col1\" class=\"data row10 col1\" >0.16</td>\n",
       "                        <td id=\"T_239bc734_d704_11ea_8f5f_f06e0be3d7d1row10_col2\" class=\"data row10 col2\" >0.02</td>\n",
       "                        <td id=\"T_239bc734_d704_11ea_8f5f_f06e0be3d7d1row10_col3\" class=\"data row10 col3\" >0.29</td>\n",
       "                        <td id=\"T_239bc734_d704_11ea_8f5f_f06e0be3d7d1row10_col4\" class=\"data row10 col4\" >0.27</td>\n",
       "                        <td id=\"T_239bc734_d704_11ea_8f5f_f06e0be3d7d1row10_col5\" class=\"data row10 col5\" >0.03</td>\n",
       "                        <td id=\"T_239bc734_d704_11ea_8f5f_f06e0be3d7d1row10_col6\" class=\"data row10 col6\" >0.33</td>\n",
       "            </tr>\n",
       "            <tr>\n",
       "                        <th id=\"T_239bc734_d704_11ea_8f5f_f06e0be3d7d1level0_row11\" class=\"row_heading level0 row11\" >PURCHASES_INSTALLMENTS_FREQUENCY</th>\n",
       "                        <td id=\"T_239bc734_d704_11ea_8f5f_f06e0be3d7d1row11_col0\" class=\"data row11 col0\" >0.20</td>\n",
       "                        <td id=\"T_239bc734_d704_11ea_8f5f_f06e0be3d7d1row11_col1\" class=\"data row11 col1\" >0.28</td>\n",
       "                        <td id=\"T_239bc734_d704_11ea_8f5f_f06e0be3d7d1row11_col2\" class=\"data row11 col2\" >0.08</td>\n",
       "                        <td id=\"T_239bc734_d704_11ea_8f5f_f06e0be3d7d1row11_col3\" class=\"data row11 col3\" >0.54</td>\n",
       "                        <td id=\"T_239bc734_d704_11ea_8f5f_f06e0be3d7d1row11_col4\" class=\"data row11 col4\" >0.85</td>\n",
       "                        <td id=\"T_239bc734_d704_11ea_8f5f_f06e0be3d7d1row11_col5\" class=\"data row11 col5\" >0.22</td>\n",
       "                        <td id=\"T_239bc734_d704_11ea_8f5f_f06e0be3d7d1row11_col6\" class=\"data row11 col6\" >0.86</td>\n",
       "            </tr>\n",
       "            <tr>\n",
       "                        <th id=\"T_239bc734_d704_11ea_8f5f_f06e0be3d7d1level0_row12\" class=\"row_heading level0 row12\" >PURCHASES_TRX</th>\n",
       "                        <td id=\"T_239bc734_d704_11ea_8f5f_f06e0be3d7d1row12_col0\" class=\"data row12 col0\" >4.52</td>\n",
       "                        <td id=\"T_239bc734_d704_11ea_8f5f_f06e0be3d7d1row12_col1\" class=\"data row12 col1\" >5.25</td>\n",
       "                        <td id=\"T_239bc734_d704_11ea_8f5f_f06e0be3d7d1row12_col2\" class=\"data row12 col2\" >3.54</td>\n",
       "                        <td id=\"T_239bc734_d704_11ea_8f5f_f06e0be3d7d1row12_col3\" class=\"data row12 col3\" >39.46</td>\n",
       "                        <td id=\"T_239bc734_d704_11ea_8f5f_f06e0be3d7d1row12_col4\" class=\"data row12 col4\" >19.90</td>\n",
       "                        <td id=\"T_239bc734_d704_11ea_8f5f_f06e0be3d7d1row12_col5\" class=\"data row12 col5\" >8.83</td>\n",
       "                        <td id=\"T_239bc734_d704_11ea_8f5f_f06e0be3d7d1row12_col6\" class=\"data row12 col6\" >119.92</td>\n",
       "            </tr>\n",
       "            <tr>\n",
       "                        <th id=\"T_239bc734_d704_11ea_8f5f_f06e0be3d7d1level0_row13\" class=\"row_heading level0 row13\" >TENURE</th>\n",
       "                        <td id=\"T_239bc734_d704_11ea_8f5f_f06e0be3d7d1row13_col0\" class=\"data row13 col0\" >11.80</td>\n",
       "                        <td id=\"T_239bc734_d704_11ea_8f5f_f06e0be3d7d1row13_col1\" class=\"data row13 col1\" >7.29</td>\n",
       "                        <td id=\"T_239bc734_d704_11ea_8f5f_f06e0be3d7d1row13_col2\" class=\"data row13 col2\" >11.88</td>\n",
       "                        <td id=\"T_239bc734_d704_11ea_8f5f_f06e0be3d7d1row13_col3\" class=\"data row13 col3\" >11.92</td>\n",
       "                        <td id=\"T_239bc734_d704_11ea_8f5f_f06e0be3d7d1row13_col4\" class=\"data row13 col4\" >11.88</td>\n",
       "                        <td id=\"T_239bc734_d704_11ea_8f5f_f06e0be3d7d1row13_col5\" class=\"data row13 col5\" >11.68</td>\n",
       "                        <td id=\"T_239bc734_d704_11ea_8f5f_f06e0be3d7d1row13_col6\" class=\"data row13 col6\" >11.95</td>\n",
       "            </tr>\n",
       "            <tr>\n",
       "                        <th id=\"T_239bc734_d704_11ea_8f5f_f06e0be3d7d1level0_row14\" class=\"row_heading level0 row14\" >COUNT</th>\n",
       "                        <td id=\"T_239bc734_d704_11ea_8f5f_f06e0be3d7d1row14_col0\" class=\"data row14 col0\" >1193.00</td>\n",
       "                        <td id=\"T_239bc734_d704_11ea_8f5f_f06e0be3d7d1row14_col1\" class=\"data row14 col1\" >657.00</td>\n",
       "                        <td id=\"T_239bc734_d704_11ea_8f5f_f06e0be3d7d1row14_col2\" class=\"data row14 col2\" >2902.00</td>\n",
       "                        <td id=\"T_239bc734_d704_11ea_8f5f_f06e0be3d7d1row14_col3\" class=\"data row14 col3\" >1192.00</td>\n",
       "                        <td id=\"T_239bc734_d704_11ea_8f5f_f06e0be3d7d1row14_col4\" class=\"data row14 col4\" >1864.00</td>\n",
       "                        <td id=\"T_239bc734_d704_11ea_8f5f_f06e0be3d7d1row14_col5\" class=\"data row14 col5\" >977.00</td>\n",
       "                        <td id=\"T_239bc734_d704_11ea_8f5f_f06e0be3d7d1row14_col6\" class=\"data row14 col6\" >165.00</td>\n",
       "            </tr>\n",
       "    </tbody></table>"
      ],
      "text/plain": [
       "<pandas.io.formats.style.Styler at 0x124eefa3f48>"
      ]
     },
     "execution_count": 165,
     "metadata": {},
     "output_type": "execute_result"
    }
   ],
   "source": [
    "kmeans_mean = df_filled_copy.pivot_table(index='Segment',values=cols,aggfunc='mean').round(2).T\n",
    "kmeans_count = df_filled_copy.pivot_table(index='Segment',values='BALANCE',aggfunc='count').round(2).T.rename({'BALANCE':'COUNT'})\n",
    "df_kmeans = kmeans_mean.append(kmeans_count).round(2)\n",
    "df_kmeans\n",
    "df_kmeans.style\\\n",
    "    .highlight_max(axis=1,color='#b5f5bf')\\\n",
    "    .highlight_min(axis=1,color='#f5beb5')\\\n",
    "    .set_precision(2)"
   ]
  },
  {
   "cell_type": "markdown",
   "metadata": {},
   "source": [
    "<h4>Customer Segments:</h4>\n",
    "<ol>\n",
    "    <li><b>Segment 0:</b> Unfrequent Users</li>\n",
    "        <ul>\n",
    "            <li>Lowest balance amount, lowest balance frequency</li>\n",
    "            <li>Start more campaigns to attract these users.</li>\n",
    "        </ul>\n",
    "    <li><b>Segment 1:</b> Credit Builders</li>\n",
    "        <ul>\n",
    "            <li>Lowest tenure and lowest credit limit shows that these are new customers</li>\n",
    "            <li>High balance frequency</li>\n",
    "            <li>Lowest payments. However, payments are higher than minimum payments</li>\n",
    "            <li>These users are able to pay their bill (not necessarily on time)</li>\n",
    "            <li>These new customers might be trying to build their credit by making small purchases.</li>\n",
    "            <li>Use discounts and campaigns to encourage these users to use their cards even more</li>\n",
    "        </ul>\n",
    "    <li><b>Segment 2:</b> Credit Users</li>\n",
    "        <ul>\n",
    "            <li>High balance frequency, low purchance frequency</li>\n",
    "            <li>Lowest percent of months with full payments</li>\n",
    "            <li>These customers might only use credit cards when they need it.</li>\n",
    "            <li>Use discounts and campaigns to encourage these users to use their cards more and charge for overdue payments</li>\n",
    "        </ul>\n",
    "    <li><b>Segment 3:</b> Frequent Users</li>\n",
    "        <ul>\n",
    "            <li>Highest balance frequency and one off purchase frequency</li>\n",
    "            <li>Relatively high percentage of months with full payment</li>\n",
    "            <li>These customers are able to pay their bills.</li>\n",
    "            <li>Use discounts and campaigns to encourage these users to use their cards more</li>\n",
    "        </ul>\n",
    "    <li><b>Segment 4:</b> Careful Spenders</li>\n",
    "        <ul>\n",
    "            <li>Second highest installment purchase frequency</li>\n",
    "            <li>Purchases in small amount</li>\n",
    "            <li>Relatively high percentage of months with full payment</li>\n",
    "            <li>These customers are very careful with their purchases so that they don't by anything out of their purchasing ability</li>\n",
    "            <li>Provide discounts/campaigns to encourage these users to spend more without having to worry about paying the interest for overdue payments.</li>\n",
    "        </ul>\n",
    "    <li><b>Segment 5:</b> Overdrafters</li>\n",
    "        <ul>\n",
    "            <li>Frequent balance frequency, few months with full payment</li>\n",
    "            <li>Payment amount slightly larger than minimum payment</li>\n",
    "            <li>These customers frequently pay the minimum payment so that they can continue to use this credit card.</li>\n",
    "            <li>Keep these customers (campaign/discount on interest of due payments) since they will pay the interests.</li>\n",
    "        </ul>\n",
    "    <li><b>Segment 6:</b> Large Spender</li>\n",
    "        <ul>\n",
    "            <li>Highest credit limit</li>\n",
    "            <li>Highest purchase amount, high frequency of both types</li>\n",
    "            <li>Use memberships or discounts to keep these customers since they spend a lot and are able to pay their bills.</li>\n",
    "        </ul>\n",
    "</ol>\n",
    "<br>\n",
    "After normalizing, there are more sparation between each customer groups. This cluster analysis is better than the previous one.<br>\n",
    "Most credit card users seem to only use the credit card when they cannot pay with debit or cash. There are also a group of of new customers who are trying to build their credit through small purchases. Moreover, there is also a group of unfrequent users who might be using other credit cards that could be good targets for campaigns."
   ]
  }
 ],
 "metadata": {
  "kernelspec": {
   "display_name": "Python 3",
   "language": "python",
   "name": "python3"
  },
  "language_info": {
   "codemirror_mode": {
    "name": "ipython",
    "version": 3
   },
   "file_extension": ".py",
   "mimetype": "text/x-python",
   "name": "python",
   "nbconvert_exporter": "python",
   "pygments_lexer": "ipython3",
   "version": "3.7.6"
  }
 },
 "nbformat": 4,
 "nbformat_minor": 4
}
